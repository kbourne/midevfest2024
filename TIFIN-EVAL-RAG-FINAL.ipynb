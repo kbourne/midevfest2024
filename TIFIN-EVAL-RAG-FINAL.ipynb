{
 "cells": [
  {
   "cell_type": "markdown",
   "id": "8f403bb5-bc94-4cb6-9228-3e7c18bc6dc7",
   "metadata": {},
   "source": [
    "# ARK Disruptive Innovation Insights"
   ]
  },
  {
   "cell_type": "markdown",
   "id": "9337276a-a70f-42bc-9fe4-efe3277b364a",
   "metadata": {},
   "source": [
    "### Introduction"
   ]
  },
  {
   "cell_type": "markdown",
   "id": "5122f4fa-29ba-42c0-a511-a79d0701b66c",
   "metadata": {},
   "source": [
    "#### Quick links:\n",
    "\n",
    "[Go to Coding Section](#CODING-SECTION) - See how each of these approaches is implemented.\n",
    "\n",
    "[Go to Example Output Section](#OUTPUT-ENHANCEMENTS) - See example responses from each pipeline side-by-side.\n",
    "\n",
    "[Go to Evaluation Section](#EVALUATION-SECTION) - See the results of the analysis for each enhancement.\n",
    "\n",
    "[Go to TIFIN Question Evaluation Section](#TIFIN-EVALUATION-QUESTION-PROCESSING) - See the final evaluation using the TIFIN questions as a validation set.\n",
    "\n",
    "[Go to Future Efforts](#FUTURE-EFFORTS) - Thoughts on what could be done in future with more time and resources."
   ]
  },
  {
   "attachments": {},
   "cell_type": "markdown",
   "id": "a61754e7-1b65-419c-a341-d38e241fdf02",
   "metadata": {},
   "source": [
    "In the following Notebook, I will showcase some advanced approaches to RAG.  I will address all of the tasks mentioned in the TIFIN exercise, as well as other common features that provide a more robust system.\n",
    "\n",
    "#### Key aspects of the baseline implementation:\n",
    "The exercise requests that I start with a \"baseline\" RAG approach with a more \"basic\" approach to chunking/text splitting.  I will take this notion further, and provide a true baseline RAG approach that incorporates the basic text splitter, the most common vectorization approach (semantic), using the older OpenAI embedding API based on the text-embedding-ada-002 model, a widely available and sufficient vector database for demonstrations (ChromaDB), using the most common distance metric (cosine similarity), and an older LLM (ChatGPT 3.5 Turbo). Here are the requested strategy descriptions:\n",
    "\n",
    "- <b>Ingestion (also commonly called indexing)</b>: We will use PyPDF2's pdfreader and LangChain's Document class to contain the content in a way that improves the efficiency of access and manipulating the data in the RAG pipeline. This data will be passed to the most basic text splitter implementation in LangChain, the Character Text Splitter, where it will be chunked prior to vectorization and continued to be stored in the Documents object from LangChain using the split_documents function from the CharacterTextSplitter class. Document's will be vectorized by OpenAI's the text-embedding-ada-002 embedding service and stored in a Chroma vector database for later retrieval.\n",
    "\n",
    "- <b>Information retrieval</b>: Using LangChain's vectorstores object, which wraps our Chroma vector database, we initialize a retriever object using the as_retriever function, which can be used to retrieve documents contained within the Chroma database using the default cosine similarity based vector search mechanism.  Much of the retrieval process is abstracted by the LangChain vectorstore and retriever classes, but under the hood, it will be using the Open AI embedding function we pass it to vectorize the query, perform the vector search that using cosine similarity as it's default distance metric, and returns the relevant data based on the vectors that were matched.\n",
    "\n",
    "- <b>Answer synthesis (also commonly called generation)</b>: In this stage, we build a prompt template and a small helper function for formatting documents as they pass through our LangChain cain.  We then use LCEL to define our LangChain chain, where we first establish a mini-chain to retrieve and format the documents and use that context to \"hydrate\" the prompt template with the relevant retrieved data. At this point, we have our prompt complete with dynamic context that we can pass to the LLM for answer generation.  A last step is using a StrOutputParser class to extract only the information from the LLM response that we need to complete the chain.\n",
    "\n",
    "- <b>Performance evaluation</b>: Evaluation is performed using the ragas python library that is focused specifically on evaluating RAG pipeline performance. We will review this evaluation process in much more depth as we step through it several times across the numerous enhancements we will be evaluating.  We will synthesize our own question/answer pairs to represent our \"testing\" data for the enhancements we make.  We will then use the evalution questions provided by TIFIN as the final \"validation\" set to determine the final performance value of our enhancements.\n",
    "\n",
    "- <b>Bonus security feature</b>: I am assuming this is a consumer facing application, so I added a security feature common for this type of application. There are many other security features that are typically used on the front end to prevent things like sql injection, which front-end developers typically have strong defense against.  But in generative AI, a new line of attacks has emerged that focus directly on the LLM that is used in the RAG pipeline.  This security feature targets a type of attack called 'prompt injection' or 'jailbreaking', and should significantly reduce the exposure to this type of attack.  All RAG pipeline related functions in this demonstration include this security feature.  Of course, further improvements can be made to protect from other types of generative AI security threats and the battle against bad actors is a never-ending process.\n",
    "\n",
    "#### Summary of Baseline RAG Pipeline components:\n",
    "- Naive RAG (basic implementation of RAG pipeline)\n",
    "- Search mechanism for retriever: dense vector/semantic search\n",
    "- chunking strategy: CharacterTextSplitter (basic text splitter)\n",
    "- embedding model: OpenAI text-embedding-ada-002\n",
    "- LLM: ChatGPT-3.5\n",
    "- Distance metric for vector search: cosine similarity\n",
    "- reranking strategy: none\n",
    "\n",
    "See notes through out the code explaining the thoughts and considerations for each step in this implementation."
   ]
  },
  {
   "cell_type": "markdown",
   "id": "15d4e359-2a6c-40c2-b4fd-5bf4c58191d8",
   "metadata": {
    "jupyter": {
     "source_hidden": true
    }
   },
   "source": [
    "#### Enhancement Evaluations"
   ]
  },
  {
   "cell_type": "markdown",
   "id": "07649210-e024-48c8-b2ab-f88fd94bcd8e",
   "metadata": {},
   "source": [
    "Quick reference of enhancements to evaluation:\n",
    "\n",
    "1. <b>Advanced \"chunking\" technique</b> - Introduce the Recursive Character Text Splitter \n",
    "2. <b>Hybrid</b> - Combines the existing semantic search with keyword search and uses Reciprocal Rank Fusion reranking to rerank the results. Vector split: 50/50 dense/sparse.\n",
    "3. <b>GPT-4o</b> Upgraded LLM (GPT-4o)</b> Vector split: 50/50 dense/sparse.\n",
    "4. <b>Hybrid 30/70</b> Same settings as the Hybrid approach (#2), but with the weights adjusted to put more focus on the keyword/sparce vectors. Vector split: 30/70 dense/sparse.\n",
    "5. <b>Embedding Open Source Alt</b> - test against OpenAI's advanced embedding model, text-embedding-3-large. \n",
    "6. <b>Query expansion</b> - This introduces a common approach to try to improve the coherence, faithfulness, and relevance of answers.\n",
    "7. <b>Ultimate combination</b> - This combines the other enhancements that were determined to be improvements in isolation, to see how they perform together.\n",
    "8. <b>Final Evaluation on TIFIN Questions</b> - This evaluation generates a new baseline evaluation based on the TIFIN evaluation question using just the reference-free evaluation metrics (which do not require ground truth).  And then we will run an evaluation of the TIFIN questions using the \"ultimate combo\" configuration of enhancements, compare this to the baseline results, and analyze the compared results. This provides a final validation analysis of how our enhancements performed on answering the TIFIN evaluation questions."
   ]
  },
  {
   "cell_type": "markdown",
   "id": "29fa2556-afde-4cee-8201-5fa0fd9e78b1",
   "metadata": {},
   "source": [
    "[Go to Coding Section](#CODING-SECTION) - See how each of these approaches is implemented.\n",
    "\n",
    "[Go to Example Output Section](#OUTPUT-ENHANCEMENTS) - See example responses from each pipeline side-by-side.\n",
    "\n",
    "[Go to Evaluation Section](#EVALUATION-SECTION) - See the results of the analysis for each enhancement.\n",
    "\n",
    "[Go to Future Efforts](#FUTURE-EFFORTS) - Thoughts on what could be done in future with more time and resources."
   ]
  },
  {
   "cell_type": "markdown",
   "id": "58b1df05-7eb2-4fe8-ac5c-35ccfac2527b",
   "metadata": {},
   "source": [
    "# CODING SECTION"
   ]
  },
  {
   "cell_type": "markdown",
   "id": "583df8d4-92d4-4274-8c00-3c4e4e8ee959",
   "metadata": {},
   "source": [
    "[Back to top](#ARK-Disruptive-Innovation-Insights)"
   ]
  },
  {
   "cell_type": "markdown",
   "id": "0d6f225e-2fb1-47a7-89fb-02a51e20d774",
   "metadata": {},
   "source": [
    "### IMPORTS, HELPER FUNCTIONS"
   ]
  },
  {
   "cell_type": "code",
   "execution_count": null,
   "id": "8be8a963-6dbb-41d1-b821-66788ea499db",
   "metadata": {
    "scrolled": true
   },
   "outputs": [],
   "source": [
    "# First uninstall all related packages to start fresh\n",
    "%pip uninstall -y langchain-core langchain-openai langchain-experimental langchain-community langchain chromadb ragas sentence-transformers streamlit pillow langchain-text-splitters typing-extensions\n",
    "\n",
    "# Install core dependencies first\n",
    "%pip install torch>=1.11.0\n",
    "%pip install transformers>=4.38.0,<5.0.0\n",
    "%pip install networkx>=2.8\n",
    "%pip install pillow>=7.1.0,<11.0.0\n",
    "\n",
    "# First install the langchain ecosystem with specific versions\n",
    "%pip install --no-deps langchain-core==0.3.6\n",
    "%pip install --no-deps langchain-community==0.3.1\n",
    "%pip install --no-deps langchain-openai==0.2.1\n",
    "%pip install --no-deps langchain==0.3.1\n",
    "%pip install --no-deps langchain-experimental==0.3.2\n",
    "\n",
    "# Now install their dependencies\n",
    "%pip install langchain-core==0.3.6\n",
    "%pip install langchain-community==0.3.1\n",
    "%pip install langchain-openai==0.2.1\n",
    "%pip install langchain==0.3.1\n",
    "%pip install langchain-experimental==0.3.2\n",
    "\n",
    "# Now install remaining packages\n",
    "%pip install chromadb==0.5.11\n",
    "%pip install python-dotenv==1.0.1\n",
    "%pip install PyPDF2==3.0.1\n",
    "%pip install rank_bm25==0.2.2\n",
    "%pip install tqdm==4.66.5\n",
    "%pip install matplotlib==3.9.2\n",
    "%pip install openai==1.52.2\n",
    "%pip install sentence-transformers==3.1.1\n",
    "%pip install scikit-image==0.23.2\n",
    "%pip install streamlit==1.33.0\n",
    "%pip install typing-extensions==4.12.2\n",
    "%pip install nltk\n",
    "%pip install pypdf\n",
    "%pip install pypdfium2\n",
    "%pip install timm\n",
    "%pip install langchainhub\n",
    "\n",
    "# Install ragas last since it has conflicting dependencies\n",
    "%pip install --no-deps ragas==0.1.20\n",
    "\n",
    "# Verify versions\n",
    "%pip list | grep -E \"langchain|core|community|experimental|openai|ragas\""
   ]
  },
  {
   "cell_type": "code",
   "execution_count": 1,
   "id": "f884314f-870c-4bfb-b6c1-a5b4801ec172",
   "metadata": {
    "executionInfo": {
     "elapsed": 5873,
     "status": "ok",
     "timestamp": 1718829482149,
     "user": {
      "displayName": "",
      "userId": ""
     },
     "user_tz": 240
    },
    "id": "f884314f-870c-4bfb-b6c1-a5b4801ec172"
   },
   "outputs": [
    {
     "name": "stderr",
     "output_type": "stream",
     "text": [
      "/opt/conda/lib/python3.11/site-packages/tqdm/auto.py:21: TqdmWarning: IProgress not found. Please update jupyter and ipywidgets. See https://ipywidgets.readthedocs.io/en/stable/user_install.html\n",
      "  from .autonotebook import tqdm as notebook_tqdm\n",
      "/opt/conda/lib/python3.11/site-packages/pydantic/_internal/_fields.py:132: UserWarning: Field \"model_name\" in _VertexAIBase has conflict with protected namespace \"model_\".\n",
      "\n",
      "You may be able to resolve this warning by setting `model_config['protected_namespaces'] = ()`.\n",
      "  warnings.warn(\n",
      "/opt/conda/lib/python3.11/site-packages/pydantic/_internal/_fields.py:132: UserWarning: Field \"model_name\" in _VertexAICommon has conflict with protected namespace \"model_\".\n",
      "\n",
      "You may be able to resolve this warning by setting `model_config['protected_namespaces'] = ()`.\n",
      "  warnings.warn(\n",
      "/opt/conda/lib/python3.11/site-packages/ragas/metrics/__init__.py:4: LangChainDeprecationWarning: As of langchain-core 0.3.0, LangChain uses pydantic v2 internally. The langchain_core.pydantic_v1 module was a compatibility shim for pydantic v1, and should no longer be used. Please update the code to import from Pydantic directly.\n",
      "\n",
      "For example, replace imports like: `from langchain_core.pydantic_v1 import BaseModel`\n",
      "with: `from pydantic import BaseModel`\n",
      "or the v1 compatibility namespace if you are working in a code base that has not been fully upgraded to pydantic 2 yet. \tfrom pydantic.v1 import BaseModel\n",
      "\n",
      "  from ragas.metrics._answer_correctness import AnswerCorrectness, answer_correctness\n",
      "/opt/conda/lib/python3.11/site-packages/ragas/metrics/__init__.py:8: LangChainDeprecationWarning: As of langchain-core 0.3.0, LangChain uses pydantic v2 internally. The langchain.pydantic_v1 module was a compatibility shim for pydantic v1, and should no longer be used. Please update the code to import from Pydantic directly.\n",
      "\n",
      "For example, replace imports like: `from langchain.pydantic_v1 import BaseModel`\n",
      "with: `from pydantic import BaseModel`\n",
      "or the v1 compatibility namespace if you are working in a code base that has not been fully upgraded to pydantic 2 yet. \tfrom pydantic.v1 import BaseModel\n",
      "\n",
      "  from ragas.metrics._context_entities_recall import (\n"
     ]
    }
   ],
   "source": [
    "import subprocess\n",
    "import sys\n",
    "import os\n",
    "import openai\n",
    "from langchain_openai import ChatOpenAI, OpenAIEmbeddings\n",
    "from langchain_core.output_parsers import StrOutputParser\n",
    "from langchain_core.runnables import RunnablePassthrough\n",
    "import chromadb\n",
    "from langchain_community.vectorstores import Chroma\n",
    "from langchain_core.runnables import RunnableParallel\n",
    "from dotenv import load_dotenv, find_dotenv\n",
    "from langchain_core.prompts import PromptTemplate\n",
    "from PyPDF2 import PdfReader\n",
    "from langchain.text_splitter import CharacterTextSplitter, RecursiveCharacterTextSplitter\n",
    "from langchain.docstore.document import Document\n",
    "from langchain_community.retrievers import BM25Retriever\n",
    "from langchain.retrievers import EnsembleRetriever\n",
    "from langchain.prompts.chat import ChatPromptTemplate, HumanMessagePromptTemplate, SystemMessagePromptTemplate\n",
    "import tqdm as notebook_tqdm\n",
    "import pandas as pd\n",
    "import matplotlib.pyplot as plt\n",
    "from datasets import Dataset\n",
    "from ragas import evaluate\n",
    "from ragas.testset.generator import TestsetGenerator\n",
    "from ragas.testset.evolutions import simple, reasoning, multi_context\n",
    "from ragas.metrics import (\n",
    "    answer_relevancy,\n",
    "    faithfulness,\n",
    "    context_recall,\n",
    "    context_precision,\n",
    "    answer_correctness,\n",
    "    answer_similarity\n",
    ")"
   ]
  },
  {
   "cell_type": "code",
   "execution_count": 40,
   "id": "wKaTaVA0Ixtg",
   "metadata": {
    "executionInfo": {
     "elapsed": 4,
     "status": "ok",
     "timestamp": 1718829482149,
     "user": {
      "displayName": "",
      "userId": ""
     },
     "user_tz": 240
    },
    "id": "wKaTaVA0Ixtg"
   },
   "outputs": [],
   "source": [
    "# VARIABLES\n",
    "# ***WARNING*** -> you will need a env.txt file in the same directory as this Notebook to run this code!!!\n",
    "load_dotenv(dotenv_path='env.txt') \n",
    "os.environ['OPENAI_API_KEY'] = os.getenv('OPENAI_API_KEY')\n",
    "openai.api_key = os.environ['OPENAI_API_KEY']\n",
    "embedding_function = OpenAIEmbeddings()\n",
    "pdf_path = \"InvestmentCaseForDisruptiveInnovation.pdf\"\n",
    "str_output_parser = StrOutputParser()\n",
    "example_user_query = \"What is the core objective of investing in disruptive innovation according to ARK?\"\n",
    "\n",
    "# LLMs/Embeddings\n",
    "embedding_ada2 = \"text-embedding-ada-002\"\n",
    "embedding_large = \"text-embedding-3-large\"\n",
    "model_gpt35=\"gpt-3.5-turbo\"\n",
    "model_gpt4=\"gpt-4o-mini\"\n",
    "\n",
    "embedding_function_ada2 = OpenAIEmbeddings(model=embedding_ada2, openai_api_key=openai.api_key)\n",
    "embedding_function_large = OpenAIEmbeddings(model=embedding_large, openai_api_key=openai.api_key)\n",
    "baseline_llm = ChatOpenAI(model=model_gpt35, openai_api_key=openai.api_key, temperature=0.0)\n",
    "generator_llm = ChatOpenAI(model=model_gpt35, openai_api_key=openai.api_key, temperature=0.0)\n",
    "critic_llm = ChatOpenAI(model=model_gpt4, openai_api_key=openai.api_key, temperature=0.0)\n",
    "\n",
    "# Vector Database initialization\n",
    "chroma_client = chromadb.Client()\n",
    "baseline_collection_name = \"ark_disruptive_innovation_insights_baseline\"\n",
    "recursive_collection_name = \"ark_disruptive_innovation_insights_recursive\"\n",
    "hybrid_collection_name = \"ark_disruptive_innovation_insights_hybrid\"\n",
    "embedding_collection_name = \"ark_disruptive_innovation_insights_embedding\"\n",
    "ult_collection_name = \"ark_disruptive_innovation_insights_ult\"\n",
    "\n",
    "# various variables for pipelines:\n",
    "chunk_size=2000\n",
    "chunk_overlap=1000\n",
    "\n",
    "# Approach Names\n",
    "baseline_name = \"BASELINE\"\n",
    "recursive_name = \"RECURSIVE\"\n",
    "hybrid_name = \"HYBRID\"\n",
    "gpt4o_name = \"GPT4o\"\n",
    "hybrid_3070_name = \"HYBRID 3070\"\n",
    "newembed_name = \"NEW EMBEDDINGS\"\n",
    "queryexpand_name = \"QUERY EXPANSION\"\n",
    "ult_name = \"ULTIMATE COMBO\""
   ]
  },
  {
   "cell_type": "code",
   "execution_count": 12,
   "id": "6f2b4faa-b09d-4b3c-8730-2ac502dd9fbd",
   "metadata": {},
   "outputs": [],
   "source": [
    "# Import SentenceTransformerEmbeddings\n",
    "from langchain_community.embeddings import HuggingFaceEmbeddings\n",
    "\n",
    "# Initialize the embedding model\n",
    "embedding_function_st = HuggingFaceEmbeddings(\n",
    "    model_name=\"sentence-transformers/all-mpnet-base-v2\",\n",
    "    model_kwargs={'device': 'cpu'}\n",
    ")"
   ]
  },
  {
   "cell_type": "code",
   "execution_count": 3,
   "id": "98ccda2c-0f4c-41c5-804d-2227cdf35aa7",
   "metadata": {
    "executionInfo": {
     "elapsed": 20404,
     "status": "ok",
     "timestamp": 1718829503911,
     "user": {
      "displayName": "",
      "userId": ""
     },
     "user_tz": 240
    },
    "id": "98ccda2c-0f4c-41c5-804d-2227cdf35aa7"
   },
   "outputs": [],
   "source": [
    "### DATA PREPARATION\n",
    "docs = []\n",
    "with open(pdf_path, \"rb\") as pdf_file:\n",
    "    pdf_reader = PdfReader(pdf_file)\n",
    "    pdf_text = \"\".join(page.extract_text() for page in pdf_reader.pages)\n",
    "    docs = [Document(page_content=page) for page in pdf_text.split(\"\\n\\n\")]\n",
    "\n",
    "def run_inference(function, query, approach_name):\n",
    "    result = function.invoke(query)\n",
    "    retrieved_docs = result['context']\n",
    "    answer = result['answer']['final_answer']\n",
    "    print(f\"Example Question used for {approach_name}: {example_user_query}\\n\")\n",
    "    print(f\"Relevance Score: {result['answer']['relevance_score']}\\n\")\n",
    "    print(f\"Final Answer:\\n{answer}\\n\\n\")\n",
    "    print(\"Retrieved Documents:\")\n",
    "    for i, doc in enumerate(retrieved_docs, start=1):\n",
    "        print(f\"Document {i}: Document ID: {doc.metadata['id']} source: {doc.metadata['source']}\")\n",
    "        print(f\"Content:\\n{doc.page_content}\\n\")\n",
    "    return answer"
   ]
  },
  {
   "cell_type": "markdown",
   "id": "082d45a8-5dcc-4c21-9676-66f76ab7d8ff",
   "metadata": {},
   "source": [
    "### ENHANCEMENT #0 - BASELINE RAG PIPELINE "
   ]
  },
  {
   "attachments": {},
   "cell_type": "markdown",
   "id": "8d530105-e5ec-4517-bee3-c0adefe965d5",
   "metadata": {},
   "source": [
    "#### About Text Splitters\n",
    "\n",
    "Text Splitters split a document into chunks that can be used for retrieval. Larger documents pose a threat to many parts of our RAG application and the splitter is our first line of defense. If you were able to vectorize a very large document, the larger the document, the more context representation you will lose in the vector embedding. But this assumes you can even vectorize a very large document, which you often can’t!  Most embedding models have relatively small limits on the size of document we can pass to it compared to the large documents many of us work with. For example, the context length for the OpenAI model we are using to generate our embeddings is 8191 tokens. If we try to pass a document larger than that to the model, it will generate an error. These are the main reasons splitters exist, but these are not the only complexities introduced with this step in the process.\n",
    "\n",
    "The key element of text splitters for us to consider is how they split the text.  Let’s say you have 100 paragraphs that you want to split up. In some cases, there may be two or three that are semantically meant to be together, like the paragraphs in this one section. In some cases, you may have a section title, or a URL, or some other type of text. Ideally, you want to keep the semantically related pieces of text together, but this can be much more complex than it first seems!  For a real world example of this, go to this website and copy in a large set of text:\n",
    "\n",
    "https://chunkviz.up.railway.app/\n",
    "\n",
    "Chunkviz is a utility created by Greg Kamradt that helps you visualize how your text splitter is working.  Change the parameters for the splitters to use what we are using, chunk size of 1000 and chunk overlap of 200.  Try the character splitter compared to the recursive character text splitter.  \n",
    "\n",
    "As you increase the chunk size, it stays on the paragraph splits well, but eventually gets more and more paragraphs per chunk.  Note though, that this is going to be different for different text.  If you have text with very long paragraphs, you will need a larger chunk setting to capture whole paragraphs.  Meanwhile, if you try the character text splitter, it will cut off in the middle of a sentence on any setting.\n",
    "\n",
    "This split of a sentence could have a significant impact on the ability of your chunks to capture all of the important semantic meanings of the text within them.  You can offset this by changing the chunk overlap, but you still have partial paragraphs, which will equate to noise to your LLM, distracting it away from providing the optimal response.\n",
    "\n",
    "In this analysis, we start with using the Character Text Splitter.\n",
    "\n",
    "<b>Character text splitter</b>\n",
    "\n",
    "This is the simplest approach to splitting your document.  A text splitter enables you to divide your text into arbitrary N-character-sized chunks.  You can improve this slightly by adding a separator parameter, such as “\\n”.  But this is a great place to start to understand how chunking works, and then we can move on to an improved approach.\n",
    "\r\n"
   ]
  },
  {
   "cell_type": "code",
   "execution_count": 4,
   "id": "ab2a25ea-357b-4763-a359-9ad9da7d1a4a",
   "metadata": {},
   "outputs": [
    {
     "name": "stderr",
     "output_type": "stream",
     "text": [
      "Created a chunk of size 4301, which is longer than the specified 2000\n"
     ]
    }
   ],
   "source": [
    "# Character Text Splitter\n",
    "character_splitter = CharacterTextSplitter(\n",
    "    separator=\"\\n\",\n",
    "    chunk_size=chunk_size,\n",
    "    chunk_overlap=chunk_overlap,\n",
    "    is_separator_regex=False,\n",
    ")\n",
    "\n",
    "character_splits = character_splitter.split_documents(docs)"
   ]
  },
  {
   "cell_type": "code",
   "execution_count": 5,
   "id": "41f8d7b5-7cf3-4351-86c8-ddcfe6c87940",
   "metadata": {
    "scrolled": true
   },
   "outputs": [],
   "source": [
    "# # Initialize the ChromaDB client\n",
    "# persist_directory = os.path.join(os.getcwd(), \"chroma_db\")\n",
    "# chroma_client = chromadb.PersistentClient(path=persist_directory)\n",
    "\n",
    "# # Document prep using Character Text Splitter for Naive RAG\n",
    "# baseline_documents = [Document(page_content=doc.page_content, metadata={\"id\": str(i), \"source\": \"dense\"}) for i, doc in enumerate(character_splits)]\n",
    "\n",
    "# # Create or load baseline vectors\n",
    "# baseline_vectorstore = Chroma.from_documents(\n",
    "#     documents=baseline_documents,\n",
    "#     embedding=embedding_function_ada2,\n",
    "#     collection_name=baseline_collection_name,\n",
    "#     client=chroma_client,\n",
    "#     persist_directory=persist_directory\n",
    "# )\n",
    "\n",
    "# # Set up the retriever using Chroma vector db\n",
    "# baseline_dense_retriever = baseline_vectorstore.as_retriever(search_kwargs={\"k\": 5})\n",
    "\n",
    "# baseline_vectorstore.persist()\n",
    "\n",
    "# # NOTE: Some chunks were larger than settings\n",
    "\n",
    "# print(\"Vector store setup complete!\")\n",
    "\n",
    "# # Optional: Display collection info\n",
    "# collection = chroma_client.get_collection(baseline_collection_name)\n",
    "# print(f\"\\nCollection Info:\")\n",
    "# print(f\"Name: {baseline_collection_name}\")\n",
    "# print(f\"Number of documents: {collection.count()}\")"
   ]
  },
  {
   "cell_type": "code",
   "execution_count": 6,
   "id": "4639a0ff-1376-47f4-b1d6-968419dce16c",
   "metadata": {},
   "outputs": [
    {
     "name": "stderr",
     "output_type": "stream",
     "text": [
      "/tmp/ipykernel_3653/146458975.py:5: LangChainDeprecationWarning: The class `HuggingFaceEmbeddings` was deprecated in LangChain 0.2.2 and will be removed in 1.0. An updated version of the class exists in the :class:`~langchain-huggingface package and should be used instead. To use it run `pip install -U :class:`~langchain-huggingface` and import as `from :class:`~langchain_huggingface import HuggingFaceEmbeddings``.\n",
      "  embedding_function_st = HuggingFaceEmbeddings(\n",
      "Error in cpuinfo: prctl(PR_SVE_GET_VL) failed\n"
     ]
    },
    {
     "name": "stdout",
     "output_type": "stream",
     "text": [
      "Deleted existing collection: ark_disruptive_innovation_insights_baseline\n"
     ]
    },
    {
     "name": "stderr",
     "output_type": "stream",
     "text": [
      "/pytorch/third_party/ideep/mkl-dnn/src/cpu/aarch64/xbyak_aarch64/src/util_impl_linux.h, 451: Can't read MIDR_EL1 sysfs entry\n"
     ]
    },
    {
     "name": "stdout",
     "output_type": "stream",
     "text": [
      "Vector store setup complete!\n",
      "\n",
      "Collection Info:\n",
      "Name: ark_disruptive_innovation_insights_baseline\n",
      "Number of documents: 23\n"
     ]
    },
    {
     "name": "stderr",
     "output_type": "stream",
     "text": [
      "/tmp/ipykernel_3653/146458975.py:38: LangChainDeprecationWarning: Since Chroma 0.4.x the manual persistence method is no longer supported as docs are automatically persisted.\n",
      "  baseline_vectorstore.persist()\n"
     ]
    }
   ],
   "source": [
    "# Initialize the ChromaDB client\n",
    "persist_directory = os.path.join(os.getcwd(), \"chroma_db\")\n",
    "chroma_client = chromadb.PersistentClient(path=persist_directory)\n",
    "\n",
    "# Delete existing collection if it exists\n",
    "try:\n",
    "    chroma_client.delete_collection(baseline_collection_name)\n",
    "    print(f\"Deleted existing collection: {baseline_collection_name}\")\n",
    "except:\n",
    "    print(\"No existing collection to delete\")\n",
    "\n",
    "# Document prep using Character Text Splitter for Naive RAG\n",
    "baseline_documents = [Document(page_content=doc.page_content, metadata={\"id\": str(i), \"source\": \"dense\"}) \n",
    "                     for i, doc in enumerate(character_splits)]\n",
    "\n",
    "# Create new vectors with SentenceTransformer embeddings\n",
    "baseline_vectorstore = Chroma.from_documents(\n",
    "    documents=baseline_documents,\n",
    "    embedding=embedding_function_st, # embedding_function_ada2,\n",
    "    collection_name=baseline_collection_name,\n",
    "    client=chroma_client,\n",
    "    persist_directory=persist_directory\n",
    ")\n",
    "\n",
    "# Set up the retriever using Chroma vector db\n",
    "baseline_dense_retriever = baseline_vectorstore.as_retriever(search_kwargs={\"k\": 5})\n",
    "\n",
    "# Persist changes\n",
    "baseline_vectorstore.persist()\n",
    "\n",
    "print(\"Vector store setup complete!\")\n",
    "\n",
    "# Optional: Display collection info\n",
    "collection = chroma_client.get_collection(baseline_collection_name)\n",
    "print(f\"\\nCollection Info:\")\n",
    "print(f\"Name: {baseline_collection_name}\")\n",
    "print(f\"Number of documents: {collection.count()}\")"
   ]
  },
  {
   "cell_type": "code",
   "execution_count": 7,
   "id": "56c73f1e-cd04-4fa1-a630-ac6aa99cac59",
   "metadata": {},
   "outputs": [],
   "source": [
    "#### RETRIEVAL and GENERATION ####\n",
    "\n",
    "# Prompt\n",
    "prompt = PromptTemplate.from_template(\n",
    "    \"\"\"\n",
    "    You are a financial expert assisting others in \n",
    "    understanding the disruptive innovation insights\n",
    "    that are provided by ARK. Use the following pieces \n",
    "    of retrieved context with information about these innovation\n",
    "    insights to answer the question. \n",
    "    \n",
    "    If you don't know the answer, just say that you don't know.\n",
    "    \n",
    "    Question: {question} \n",
    "    Context: {context} \n",
    "    \n",
    "    Answer:\n",
    "    \"\"\"\n",
    ")\n",
    "\n",
    "# SECURITY MEASURE - \n",
    "# Checks the relevance of the prompt compared to the retrieved context to prevent certain types of LLM hacks.\n",
    "relevance_prompt_template = PromptTemplate.from_template(\n",
    "    \"\"\"\n",
    "    Given the following question and retrieved-context, determine if the context is relevant to the question.\n",
    "    Provide a score from 1 to 5, where 1 is not at all relevant and 5 is highly relevant.\n",
    "    Return ONLY the numeric score, without any additional text or explanation.\n",
    "\n",
    "    Question: {question}\n",
    "    Retrieved Context: {retrieved_context}\n",
    "\n",
    "    Relevance Score:\"\"\"\n",
    ")\n",
    "\n",
    "# Post-processing\n",
    "def format_docs(docs):\n",
    "    return \"\\n\\n\".join(doc.page_content for doc in docs)\n",
    "\n",
    "def extract_score(llm_output):\n",
    "    try:\n",
    "        score = float(llm_output.strip())\n",
    "        return score\n",
    "    except ValueError:\n",
    "        return 0\n",
    "\n",
    "# Chain it all together with LangChain\n",
    "def conditional_answer(x):\n",
    "    relevance_score = extract_score(x['relevance_score'])\n",
    "    if relevance_score < 4:\n",
    "        return \"I don't know.\"\n",
    "    else:\n",
    "        return x['answer']\n",
    "\n",
    "baseline_rag_chain = (\n",
    "    RunnablePassthrough.assign(context=(lambda x: format_docs(x[\"context\"])))\n",
    "    | RunnableParallel(\n",
    "        {\"relevance_score\": (\n",
    "            RunnablePassthrough()\n",
    "            | (lambda x: relevance_prompt_template.format(question=x['question'], retrieved_context=x['context']))\n",
    "            | baseline_llm\n",
    "            | str_output_parser\n",
    "        ), \"answer\": (\n",
    "            RunnablePassthrough()\n",
    "            | prompt\n",
    "            | baseline_llm\n",
    "            | str_output_parser\n",
    "        )}\n",
    "    )\n",
    "    | RunnablePassthrough().assign(final_answer=conditional_answer)\n",
    ")\n",
    "\n",
    "baseline_final_chain = RunnableParallel(\n",
    "    {\"context\": baseline_dense_retriever,\n",
    "     \"question\": RunnablePassthrough()\n",
    "}).assign(answer=baseline_rag_chain)"
   ]
  },
  {
   "cell_type": "code",
   "execution_count": 9,
   "id": "078dc019-d15c-478c-ba9c-59986b5a7cce",
   "metadata": {
    "scrolled": true
   },
   "outputs": [
    {
     "name": "stdout",
     "output_type": "stream",
     "text": [
      "Example Question used for BASELINE: What is the core objective of investing in disruptive innovation according to ARK?\n",
      "\n",
      "Relevance Score: 5\n",
      "\n",
      "Final Answer:\n",
      "The core objective of investing in disruptive innovation according to ARK is to access companies at the forefront of technology-enabled innovation in promising areas of the economy with potential for long-term growth, diversify portfolios with low correlation to traditional asset classes, and potentially achieve a moderate-to-high risk-reward profile that complements traditional investment strategies.\n",
      "\n",
      "\n",
      "Retrieved Documents:\n",
      "Document 1: Document ID: 0 source: dense\n",
      "Content:\n",
      "•\n",
      "1Why Invest In Disruptive Innovation?\n",
      "Sources: ARK Investment Management LLC, 2024. Forecasts are inherently limited and cannot be relied upon. For informational purposes only and should not be considered investment advice or a recommendation to buy, sell, or hold any particular security. Past performance is not indicative of future results.As of June 30, 2024•Risks of Investing in InnovationPlease note: Companies that ARK believes are capitalizing on disruptive innovation and developing technologies to displace older technologies or create new markets may not in fact do so. ARK aims to educate investors and seeks to size the potential investment opportunity, noting that risks and uncertainties may impact our projections and research models. Investors should use the content presented for informational purposes only, and be aware of market risk, disruptive innovation risk, regulatory risk, and risks related to certain innovation areas. Please read risk disclosure carefully.\n",
      "DISRUPTIVE INNOVATIONRAPID PACE OF CHANGE\n",
      "UNCERTAINTY AND UNKNOWNS EXPOSURE ACROSS SECTORS AND MARKET CAPRISK OF INVESTING IN INNOVATIONREGULATORY HURDLES\n",
      "COMPETITIVE LANDSCAPEPOLITICAL OR LEGAL PRESSURE\n",
      "Sources: ARK Investment Management LLC, 2023.à   Aim to understand the regulatory, market, sector,        and company risks. (See Disclosure Page)à   Aim for a cross-sector understanding of technology   and combine top-down and bottom-up research.2DISCLOSURE3\n",
      "Five Innovation Platforms Are Converging And Defining This Technological Era\n",
      "\n",
      "Document 2: Document ID: 16 source: dense\n",
      "Content:\n",
      "Note: Numbers are rounded. ARK Investment Management LLC, 2024. This ARK analysis is based on a range of underlying data from external sources as of December 7, 2023, which may be provided upon request. Forecasts are inherently limited and cannot be relied upon. For informational purposes only and should not be considered investment advice or a recommendation to buy, sell, or hold any particular security. Past performance is not indicative of future results.$24$12$0.35With Line of SightWith Visual ObserverAutonomousDrone Delivery Price(10-mile Trip)~50%~90%$0$2$4$6$8$10$12$14$16$18\n",
      "MealApp DeliverySelf PickupDrones(at scale)RollingRobots(at scale)Average Dollars Per OrderFood Delivery Costs (Pre-Tax)MealDelivery Cost\n",
      "With Line-Of-SightWHY INVEST IN DISRUPTIVE INNOVATION?•17  1. Access to Growth Investors who seek to access companies at the forefront of technology-enabled innovation, in some of the most promising areas of the economy, with potential for long-term growth.2. Portfolio DiversificationPotentially Suited for investors who like to diversify their existing portfolio with strategies that offer low correlation to a number of core asset classes held in most investors’ portfolios.3. Moderate-to-High Risk-Reward ProfileA constant focus on secular changes and disruptive innovation can compliment traditional strategies and core portfolios. May be suited for investors who have a moderate-to-high risk profile and intend to stay invested for the medium-to-long term.ARK Seeks to Capture Disruptive Innovation\n",
      "\n",
      "Document 3: Document ID: 17 source: dense\n",
      "Content:\n",
      "The information herein is general in nature and should not be considered financial advice. An investor should consult a financial professional regarding the investor’s specific situation. Diversification does not assure a profit. The ARK Innovation ETF (ARKK) Aims to Offer•18  1.Exposure To Innovation: Aims for thematic multi-cap exposure to innovation across sectors. ARK believes the securities held in ARKK present the best risk-reward opportunities from ARK’s innovation-based themes.2.Growth Potential: Aims to capture long-term growth with low correlation of relative returns to traditional growth strategies and negative correlation to value strategies. 3.Tool For Diversification1: Offers a tool for diversification due to little overlap with traditional indices. It can be a complement to traditional value/growth strategies. 4.Grounded In Research: Combines top-down and bottom-up research in its portfolio management to identify innovative companies and convergence across markets.5.Cost Effective: Seeks to provide a lower cost alternative to mutual funds with true active management in an exchange traded fund (ETF) that invests in rapidly moving themes.ARK Seeks to Capture Disruptive Innovation5 Reasons Investors Should Consider ARKK\n",
      "[1] Diversification does not assure a profit. The information herein is general in nature and should not be considered financial advice. An investor should consult a financial professional regarding the investor’s specific situation. 19  ARK Innovation ETF — ARKK\n",
      "\n",
      "Document 4: Document ID: 19 source: dense\n",
      "Content:\n",
      "SECTORS(%)Health Care21.6%Communication Services21.2%Information Technology20.5%Financials20.3%Consumer Discretionary15.2%Industrials0.9%•20  Thematic Strategies Focused on Disruptive Innovation ARKKARK Innovation ETF\n",
      "ARKWARK Next Generation Internet ETF ARKQARK Autonomous Tech. & Robotics ETF ARKGARK Genomic Revolution ETF ARKFARK Fintech Innovation ETF \n",
      "IZRLIsrael Innovative Technology ETF\n",
      "PRNTThe 3D Printing ETFARKXARK Space Exploration & Innovation ETFARK Innovation ETFs•21\n",
      "\n",
      "Document 5: Document ID: 18 source: dense\n",
      "Content:\n",
      "[1] Diversification does not assure a profit. The information herein is general in nature and should not be considered financial advice. An investor should consult a financial professional regarding the investor’s specific situation. 19  ARK Innovation ETF — ARKK\n",
      "TOP 10 HOLDINGSWeight (%)TESLA INC12.9%ROKU INC9.2%COINBASE GLOBAL INC8.8%ROBLOX CORP5.7%BLOCK INC5.7%CRISPR THERAPEUTICS AG4.9%ROBINHOOD MARKETS INC4.8%UIPATH INC4.0%PALANTIR TECHNOLOGIES INC3.7%SHOPIFY INC3.3%63.0%MARKET CAPITALIZATION(%)Mega ($100B+)15.1%Large ($10 - $100B)44.2%Medium ($2 - $10B)34.1%Small ($300M - $2B)6.2%Micro ($50 - $300M)0.0%Holdings are subject to change and should not be considered as investment advice, or a recommendation to buy, sell or hold any particular security. It should not be assumed that an investment in the securities identified was or will be profitable. Source: ARK Investment Management LLC; All data as of June 30, 2024.PORTFOLIO COMPOSITION(%)Intelligent Devices20.5%Autonomous Mobility12.1%Precision Therapies12.0%Neural Networks11.7%Next Gen Cloud11.3%Digital Wallets9.6%Cryptocurrencies6.1%Smart Contracts4.9%Multiomic Technologies4.9%Programmable Biology2.6%Advanced Battery Technologies2.2%Adaptive Robotics2.1%The ARK Innovation ETF aims for multi-cap exposure to innovation across sectors. ARK believes the securities held in ARKK present the best risk-reward opportunities from ARK’s innovation themes.•Ticker:      ARKK•Fund AUM:       $6.04 Billion•Typical Number of Holdings:    35-55 U.S. Equities/U.S.-listed ADRs•Expense Ratio:     0.75%ARK Seeks to Capture Disruptive Innovation\n",
      "SECTORS(%)Health Care21.6%Communication Services21.2%Information Technology20.5%Financials20.3%Consumer Discretionary15.2%Industrials0.9%•20  Thematic Strategies Focused on Disruptive Innovation ARKKARK Innovation ETF\n",
      "ARKWARK Next Generation Internet ETF ARKQARK Autonomous Tech. & Robotics ETF ARKGARK Genomic Revolution ETF ARKFARK Fintech Innovation ETF \n",
      "IZRLIsrael Innovative Technology ETF\n",
      "\n"
     ]
    }
   ],
   "source": [
    "baseline_answer = run_inference(baseline_final_chain, example_user_query, baseline_name)"
   ]
  },
  {
   "cell_type": "markdown",
   "id": "ae289937-43cd-499d-a3e3-0cde1cf30e91",
   "metadata": {},
   "source": [
    "<b>Explanation of this output</b>\n",
    "\n",
    "The run_inference function will print out the following relevant data for this example query:\n",
    "\n",
    "- <b>example question</b>: indicates the query that was used to generate this response\n",
    "- <b>Relevance score</b>: this is part of the security feature that prevents irrelevant prompts that have nefarious goals\n",
    "- <b>Final answer</b>: This is the final response from the RAG pipeline\n",
    "- <b>Retrieved Documents</b>: This is a list of all of the context used to answer the question, as well as important metadata that includes the document rank, document ID (for sanity checks), the vector search source (vector or sparse), and the related content to that data.\n",
    "\n",
    "We will use this format to provide an example for each of the enhancements, giving you a chance to become more familiar with how these pipelines are generating different responses."
   ]
  },
  {
   "cell_type": "markdown",
   "id": "d2c815ed-573e-43af-9690-8e2cf12cfd1c",
   "metadata": {},
   "source": [
    "### ENHANCEMENT CODE #1: USING RECURSIVE CHARACTER TEXT SPLITTER"
   ]
  },
  {
   "cell_type": "markdown",
   "id": "1169ac5e-6b25-4ff3-a9b7-6a974fcb663d",
   "metadata": {},
   "source": [
    "Here we set up the code for our advanced chunking technique, the Recursive Character Text Splitter. This is the splitter LangChain recommends to use when splitting generic text.\n",
    "\n",
    "As the name states, this splitter recursively splits text, with the intention of keeping related pieces of text next to each other.  You can pass a list of characters as a parameter and it will try to split those characters in order until the chunks are small enough.  The default  list is [\"\\n\\n\", \"\\n\", \" \", \"\"], which works well, but we are going to add “. “ to this list as well.  This has the effect of trying to keep together all paragraphs, sentences defined by both “\\n” and “. “, and words as long as possible.\n",
    "\n",
    "Under the hood with this splitter, the chunks are split based on the “\\n\\n” separator, representing paragraph splits.  But it doesn’t stop there, it will look at the chunk size, and if that is larger than the 1000 we set, then it will split by the next separator (“\\n”), and so on.\n"
   ]
  },
  {
   "cell_type": "code",
   "execution_count": 10,
   "id": "04101d29-02d6-4f9e-8876-ff7e5fb5f15f",
   "metadata": {},
   "outputs": [],
   "source": [
    "# Adding the recursive character text splitter (replaces the character text splitter)\n",
    "recursive_splitter = RecursiveCharacterTextSplitter(\n",
    "    separators=[\"\\n\\n\", \"\\n\", \". \", \" \", \"\"],\n",
    "    chunk_size=chunk_size,\n",
    "    chunk_overlap=chunk_overlap\n",
    ")\n",
    "\n",
    "recursive_splits = recursive_splitter.split_documents(docs)"
   ]
  },
  {
   "cell_type": "code",
   "execution_count": 13,
   "id": "927a4c65-aa05-486c-8295-2f99673e7c20",
   "metadata": {
    "executionInfo": {
     "elapsed": 5,
     "status": "ok",
     "timestamp": 1718829503912,
     "user": {
      "displayName": "",
      "userId": ""
     },
     "user_tz": 240
    },
    "id": "927a4c65-aa05-486c-8295-2f99673e7c20",
    "scrolled": true
   },
   "outputs": [],
   "source": [
    "recursive_persist_directory = os.path.join(os.getcwd(), \"recursive_chroma_db\")\n",
    "recursive_chroma_client = chromadb.PersistentClient(path=recursive_persist_directory)\n",
    "\n",
    "# Document prep using Recursive Character Text Splitter\n",
    "recursive_documents = [Document(page_content=doc.page_content, metadata={\"id\": str(i), \"source\": \"dense\"}) for i, doc in enumerate(recursive_splits)]\n",
    "\n",
    "# baseline vectors\n",
    "recursive_vectorstore = Chroma.from_documents(\n",
    "    documents=recursive_documents,\n",
    "    embedding=embedding_function_st, # embedding_function_ada2,\n",
    "    collection_name=recursive_collection_name,\n",
    "    client=recursive_chroma_client,\n",
    "    persist_directory=recursive_persist_directory\n",
    ")\n",
    "\n",
    "# Set up the retriever using Chroma vector db\n",
    "recursive_dense_retriever = recursive_vectorstore.as_retriever(search_kwargs={\"k\": 5})\n",
    "\n",
    "#### RETRIEVAL and GENERATION ####\n",
    "recursive_final_chain = RunnableParallel(\n",
    "    {\"context\": recursive_dense_retriever,\n",
    "     \"question\": RunnablePassthrough()\n",
    "}).assign(answer=baseline_rag_chain)"
   ]
  },
  {
   "cell_type": "code",
   "execution_count": 14,
   "id": "80e1fac4-2b99-4e30-bb28-ffe49c86fd33",
   "metadata": {
    "scrolled": true
   },
   "outputs": [
    {
     "name": "stdout",
     "output_type": "stream",
     "text": [
      "Example Question used for RECURSIVE: What is the core objective of investing in disruptive innovation according to ARK?\n",
      "\n",
      "Relevance Score: 5\n",
      "\n",
      "Final Answer:\n",
      "The core objective of investing in disruptive innovation according to ARK is to access companies at the forefront of technology-enabled innovation in promising areas of the economy with potential for long-term growth, diversify portfolios with low correlation to core asset classes, and complement traditional strategies with a moderate-to-high risk-reward profile.\n",
      "\n",
      "\n",
      "Retrieved Documents:\n",
      "Document 1: Document ID: 0 source: dense\n",
      "Content:\n",
      "•\n",
      "1Why Invest In Disruptive Innovation?\n",
      "Sources: ARK Investment Management LLC, 2024. Forecasts are inherently limited and cannot be relied upon. For informational purposes only and should not be considered investment advice or a recommendation to buy, sell, or hold any particular security. Past performance is not indicative of future results.As of June 30, 2024•Risks of Investing in InnovationPlease note: Companies that ARK believes are capitalizing on disruptive innovation and developing technologies to displace older technologies or create new markets may not in fact do so. ARK aims to educate investors and seeks to size the potential investment opportunity, noting that risks and uncertainties may impact our projections and research models. Investors should use the content presented for informational purposes only, and be aware of market risk, disruptive innovation risk, regulatory risk, and risks related to certain innovation areas. Please read risk disclosure carefully.\n",
      "DISRUPTIVE INNOVATIONRAPID PACE OF CHANGE\n",
      "UNCERTAINTY AND UNKNOWNS EXPOSURE ACROSS SECTORS AND MARKET CAPRISK OF INVESTING IN INNOVATIONREGULATORY HURDLES\n",
      "COMPETITIVE LANDSCAPEPOLITICAL OR LEGAL PRESSURE\n",
      "Sources: ARK Investment Management LLC, 2023.à   Aim to understand the regulatory, market, sector,        and company risks. (See Disclosure Page)à   Aim for a cross-sector understanding of technology   and combine top-down and bottom-up research.2DISCLOSURE3\n",
      "Five Innovation Platforms Are Converging And Defining This Technological Era\n",
      "\n",
      "Document 2: Document ID: 19 source: dense\n",
      "Content:\n",
      "Note: Numbers are rounded. ARK Investment Management LLC, 2024. This ARK analysis is based on a range of underlying data from external sources as of December 7, 2023, which may be provided upon request. Forecasts are inherently limited and cannot be relied upon. For informational purposes only and should not be considered investment advice or a recommendation to buy, sell, or hold any particular security. Past performance is not indicative of future results.$24$12$0.35With Line of SightWith Visual ObserverAutonomousDrone Delivery Price(10-mile Trip)~50%~90%$0$2$4$6$8$10$12$14$16$18\n",
      "MealApp DeliverySelf PickupDrones(at scale)RollingRobots(at scale)Average Dollars Per OrderFood Delivery Costs (Pre-Tax)MealDelivery Cost\n",
      "With Line-Of-SightWHY INVEST IN DISRUPTIVE INNOVATION?•17  1. Access to Growth Investors who seek to access companies at the forefront of technology-enabled innovation, in some of the most promising areas of the economy, with potential for long-term growth.2. Portfolio DiversificationPotentially Suited for investors who like to diversify their existing portfolio with strategies that offer low correlation to a number of core asset classes held in most investors’ portfolios.3. Moderate-to-High Risk-Reward ProfileA constant focus on secular changes and disruptive innovation can compliment traditional strategies and core portfolios. May be suited for investors who have a moderate-to-high risk profile and intend to stay invested for the medium-to-long term.ARK Seeks to Capture Disruptive Innovation\n",
      "\n",
      "Document 3: Document ID: 20 source: dense\n",
      "Content:\n",
      "The information herein is general in nature and should not be considered financial advice. An investor should consult a financial professional regarding the investor’s specific situation. Diversification does not assure a profit. The ARK Innovation ETF (ARKK) Aims to Offer•18  1.Exposure To Innovation: Aims for thematic multi-cap exposure to innovation across sectors. ARK believes the securities held in ARKK present the best risk-reward opportunities from ARK’s innovation-based themes.2.Growth Potential: Aims to capture long-term growth with low correlation of relative returns to traditional growth strategies and negative correlation to value strategies. 3.Tool For Diversification1: Offers a tool for diversification due to little overlap with traditional indices. It can be a complement to traditional value/growth strategies. 4.Grounded In Research: Combines top-down and bottom-up research in its portfolio management to identify innovative companies and convergence across markets.5.Cost Effective: Seeks to provide a lower cost alternative to mutual funds with true active management in an exchange traded fund (ETF) that invests in rapidly moving themes.ARK Seeks to Capture Disruptive Innovation5 Reasons Investors Should Consider ARKK\n",
      "[1] Diversification does not assure a profit. The information herein is general in nature and should not be considered financial advice. An investor should consult a financial professional regarding the investor’s specific situation. 19  ARK Innovation ETF — ARKK\n",
      "\n",
      "Document 4: Document ID: 22 source: dense\n",
      "Content:\n",
      "SECTORS(%)Health Care21.6%Communication Services21.2%Information Technology20.5%Financials20.3%Consumer Discretionary15.2%Industrials0.9%•20  Thematic Strategies Focused on Disruptive Innovation ARKKARK Innovation ETF\n",
      "ARKWARK Next Generation Internet ETF ARKQARK Autonomous Tech. & Robotics ETF ARKGARK Genomic Revolution ETF ARKFARK Fintech Innovation ETF \n",
      "IZRLIsrael Innovative Technology ETF\n",
      "PRNTThe 3D Printing ETFARKXARK Space Exploration & Innovation ETFARK Innovation ETFs•21\n",
      "\n",
      "Document 5: Document ID: 26 source: dense\n",
      "Content:\n",
      ". The value of the equity securities the Fund holds may fall due to general market and economic conditions. Foreign Securities Risk. Investments in the securities of foreign issuers involve risks beyond those associated with investments in U.S. securities. Health Care Sector Risk. The health care sector may be adversely affected by government regulations and government health care programs. Communications Sector Risk. Companies is this sector may be adversely affected by potential obsolescence of products/services, pricing competition, research and development costs, substantial capital requirements and government regulation. Information Technology Sector Risk. Information technology companies face intense competition, both domestically and internationally, which may have an adverse effect on profit margins. Additional risks of investing in ARKK include equity, market, management and non-diversification risks, as well as fluctuations in market value and NAV. Disruptive Innovation Risk. Companies that ARK believes are capitalizing on disruptive innovation and developing technologies to displace older technologies or create new markets may not in fact do so. Companies that initially develop a novel technology may not be able to capitalize on the technology. Companies that develop disruptive technologies may face political or legal attacks from competitors, industry groups or local and national governments. These companies may also be exposed to risks applicable to sectors other than the disruptive innovation theme for which they are chosen, and the securities issued by these companies may underperform the securities of other companies that are primarily focused on a particular theme. The Fund’s exposure to cryptocurrency may change over time and, accordingly, such exposure may not always be represented in the Fund’s portfolio. Many significant aspects of the U.S\n",
      "\n"
     ]
    }
   ],
   "source": [
    "recursive_answer = run_inference(recursive_final_chain, example_user_query, recursive_name)"
   ]
  },
  {
   "cell_type": "markdown",
   "id": "9a5dd024-6902-45fb-b5de-1cd43607fddf",
   "metadata": {},
   "source": [
    "### ENHANCEMENT CODE #2: USING HYBRID SEARCH"
   ]
  },
  {
   "attachments": {},
   "cell_type": "markdown",
   "id": "4afdeb49-bf40-4567-bb62-460aa9461231",
   "metadata": {},
   "source": [
    "This enhancement adds a keyword/sparse vector search to the retrieval part of the RAG pipeline, turning this into a hybrid search. It retrieves the top k results (5 in this case) from the dense and sparse searches and then applies the Reciprocal Rank Fusion (RRF) algorithm to those results.  \n",
    "\n",
    "<b>Sparse Search</b>\n",
    "\n",
    "Sparse search allows you to utilize keyword matching across all of your content. In this enhancement, we use the Best Matching 25 (BM25) algorithm. This very popular model performs really well when it comes to searching across many keywords. The idea behind BM25 is that it counts the number of words within the phrase that you are passing in and then those that appear more than often are weighted as less important when the match occurs. Words that are rare if we match on that the score is a lot higher. If you are familiar with TF-IDF, this is based on that concept.\n",
    "\n",
    "<b>Reciprocal Rank Fusion (RRF)</b>\n",
    "\n",
    "One interesting aspect of combining the results from the two retrievers, begging the question, how does it rank results from two relatively different search mechanisms? Our dense vector search uses cosine similarity and provides a similarity score. Our sparse vector is based on TF-IDF. These are not comparable scores. As it turns out there are numerous algorithms we can use to perform the ranking among these two retrievers. The one we will use is called the Reciprocal Rank Fusion (RRF) algorithm because it is built into the ensemble retriever we are using and it handles this discrepancy in scores well.  In short, the RRF focuses on the rank of the content within each of the search results (dense and sparse) and uses those ranks as the primary well to calculate the reranking results.  If it is known what set of search results is more important, RRF also handles weights to emphasize one set of search results over the other.\n",
    "\n",
    "<b>Why add a keyword search?</b>\n",
    "\n",
    "In certain domains, including finance, there are often words with little semantic meaning, but with importance in the text for that domain.  For example, domain-specific codes, serial numbers, IDs, and even people and company names. In these cases, a keyword search can improve overall results.  But we will test that out for this specific dataset!fic dataset!n "
   ]
  },
  {
   "cell_type": "code",
   "execution_count": 15,
   "id": "d1772ae4-2312-4c54-87ab-e9267a0f5fdf",
   "metadata": {},
   "outputs": [],
   "source": [
    "hybrid_persist_directory = os.path.join(os.getcwd(), \"hybrid_chroma_db\")\n",
    "hybrid_chroma_client = chromadb.PersistentClient(path=hybrid_persist_directory)"
   ]
  },
  {
   "cell_type": "code",
   "execution_count": 16,
   "id": "412199db-fdc9-4c99-a352-34a4599fbaf5",
   "metadata": {},
   "outputs": [],
   "source": [
    "# prep docs for hybrid search, with metadata\n",
    "hybrid_dense_documents = [Document(page_content=doc.page_content, metadata={\"id\": str(i), \"source\": \"dense\"}) for i, doc in enumerate(character_splits)]\n",
    "hybrid_sparse_documents = [Document(page_content=doc.page_content, metadata={\"id\": str(i), \"source\": \"sparse\"}) for i, doc in enumerate(character_splits)]"
   ]
  },
  {
   "cell_type": "code",
   "execution_count": 17,
   "id": "3d8d2f08-230b-408f-83ef-24547d35c33b",
   "metadata": {},
   "outputs": [],
   "source": [
    "# enhanced vectors\n",
    "hybrid_dense_vectorstore = Chroma.from_documents(\n",
    "    documents=hybrid_dense_documents,\n",
    "    embedding=embedding_function_st, # embedding_function_ada2,\n",
    "    collection_name=hybrid_collection_name,\n",
    "    client=hybrid_chroma_client,\n",
    "    persist_directory=hybrid_persist_directory\n",
    ")"
   ]
  },
  {
   "cell_type": "code",
   "execution_count": 18,
   "id": "f1945b9f-0278-435b-9b57-3b652d119c9b",
   "metadata": {},
   "outputs": [],
   "source": [
    "hybrid_dense_retriever = hybrid_dense_vectorstore.as_retriever(search_kwargs={\"k\": 5})\n",
    "hybrid_sparse_retriever = BM25Retriever.from_documents(hybrid_sparse_documents, k=5)\n",
    "hybrid_group = [hybrid_dense_retriever, hybrid_sparse_retriever]\n",
    "hybrid_ensemble_retriever = EnsembleRetriever(retrievers=hybrid_group, weights=[0.5, 0.5], c=0)"
   ]
  },
  {
   "cell_type": "code",
   "execution_count": 19,
   "id": "9352e850-7c4c-4d95-9ee1-515e6b488747",
   "metadata": {},
   "outputs": [],
   "source": [
    "hybrid_final_chain = RunnableParallel(\n",
    "    {\"context\": hybrid_ensemble_retriever,\n",
    "     \"question\": RunnablePassthrough()\n",
    "}).assign(answer=baseline_rag_chain)"
   ]
  },
  {
   "cell_type": "code",
   "execution_count": 20,
   "id": "fa0abde6-e13f-4ad3-92a4-983929a7691b",
   "metadata": {
    "scrolled": true
   },
   "outputs": [
    {
     "name": "stdout",
     "output_type": "stream",
     "text": [
      "Example Question used for HYBRID: What is the core objective of investing in disruptive innovation according to ARK?\n",
      "\n",
      "Relevance Score: 5\n",
      "\n",
      "Final Answer:\n",
      "The core objective of investing in disruptive innovation according to ARK is to access companies at the forefront of technology-enabled innovation in promising areas of the economy with potential for long-term growth. It also offers portfolio diversification for investors looking to diversify their existing portfolio with strategies that have low correlation to traditional asset classes and provide a moderate-to-high risk-reward profile. Additionally, investing in disruptive innovation allows investors to focus on secular changes and complement traditional strategies with the potential for long-term growth.\n",
      "\n",
      "\n",
      "Retrieved Documents:\n",
      "Document 1: Document ID: 16 source: dense\n",
      "Content:\n",
      "Note: Numbers are rounded. ARK Investment Management LLC, 2024. This ARK analysis is based on a range of underlying data from external sources as of December 7, 2023, which may be provided upon request. Forecasts are inherently limited and cannot be relied upon. For informational purposes only and should not be considered investment advice or a recommendation to buy, sell, or hold any particular security. Past performance is not indicative of future results.$24$12$0.35With Line of SightWith Visual ObserverAutonomousDrone Delivery Price(10-mile Trip)~50%~90%$0$2$4$6$8$10$12$14$16$18\n",
      "MealApp DeliverySelf PickupDrones(at scale)RollingRobots(at scale)Average Dollars Per OrderFood Delivery Costs (Pre-Tax)MealDelivery Cost\n",
      "With Line-Of-SightWHY INVEST IN DISRUPTIVE INNOVATION?•17  1. Access to Growth Investors who seek to access companies at the forefront of technology-enabled innovation, in some of the most promising areas of the economy, with potential for long-term growth.2. Portfolio DiversificationPotentially Suited for investors who like to diversify their existing portfolio with strategies that offer low correlation to a number of core asset classes held in most investors’ portfolios.3. Moderate-to-High Risk-Reward ProfileA constant focus on secular changes and disruptive innovation can compliment traditional strategies and core portfolios. May be suited for investors who have a moderate-to-high risk profile and intend to stay invested for the medium-to-long term.ARK Seeks to Capture Disruptive Innovation\n",
      "\n",
      "Document 2: Document ID: 0 source: dense\n",
      "Content:\n",
      "•\n",
      "1Why Invest In Disruptive Innovation?\n",
      "Sources: ARK Investment Management LLC, 2024. Forecasts are inherently limited and cannot be relied upon. For informational purposes only and should not be considered investment advice or a recommendation to buy, sell, or hold any particular security. Past performance is not indicative of future results.As of June 30, 2024•Risks of Investing in InnovationPlease note: Companies that ARK believes are capitalizing on disruptive innovation and developing technologies to displace older technologies or create new markets may not in fact do so. ARK aims to educate investors and seeks to size the potential investment opportunity, noting that risks and uncertainties may impact our projections and research models. Investors should use the content presented for informational purposes only, and be aware of market risk, disruptive innovation risk, regulatory risk, and risks related to certain innovation areas. Please read risk disclosure carefully.\n",
      "DISRUPTIVE INNOVATIONRAPID PACE OF CHANGE\n",
      "UNCERTAINTY AND UNKNOWNS EXPOSURE ACROSS SECTORS AND MARKET CAPRISK OF INVESTING IN INNOVATIONREGULATORY HURDLES\n",
      "COMPETITIVE LANDSCAPEPOLITICAL OR LEGAL PRESSURE\n",
      "Sources: ARK Investment Management LLC, 2023.à   Aim to understand the regulatory, market, sector,        and company risks. (See Disclosure Page)à   Aim for a cross-sector understanding of technology   and combine top-down and bottom-up research.2DISCLOSURE3\n",
      "Five Innovation Platforms Are Converging And Defining This Technological Era\n",
      "\n",
      "Document 3: Document ID: 17 source: dense\n",
      "Content:\n",
      "The information herein is general in nature and should not be considered financial advice. An investor should consult a financial professional regarding the investor’s specific situation. Diversification does not assure a profit. The ARK Innovation ETF (ARKK) Aims to Offer•18  1.Exposure To Innovation: Aims for thematic multi-cap exposure to innovation across sectors. ARK believes the securities held in ARKK present the best risk-reward opportunities from ARK’s innovation-based themes.2.Growth Potential: Aims to capture long-term growth with low correlation of relative returns to traditional growth strategies and negative correlation to value strategies. 3.Tool For Diversification1: Offers a tool for diversification due to little overlap with traditional indices. It can be a complement to traditional value/growth strategies. 4.Grounded In Research: Combines top-down and bottom-up research in its portfolio management to identify innovative companies and convergence across markets.5.Cost Effective: Seeks to provide a lower cost alternative to mutual funds with true active management in an exchange traded fund (ETF) that invests in rapidly moving themes.ARK Seeks to Capture Disruptive Innovation5 Reasons Investors Should Consider ARKK\n",
      "[1] Diversification does not assure a profit. The information herein is general in nature and should not be considered financial advice. An investor should consult a financial professional regarding the investor’s specific situation. 19  ARK Innovation ETF — ARKK\n",
      "\n",
      "Document 4: Document ID: 22 source: sparse\n",
      "Content:\n",
      "Contact our ETF Specialists:Rebecca L. Burke Vice President  | National ETF Sales Resolute Investment Managers, Inc.M. 978.609.0553 rebecca.burke@resolutemanagers.comJack Stock, CIMAVice President   |  National ETF SalesResolute Investment Managers, Inc.M. 817.823.5337jack.stock@resolutemanagers.comRyan Hodapp, CFA, CAIAVice President  | National ETF Sales Resolute Investment Managers, Inc.M. 617.279.3571ryan.hodapp@resolutemanagers.comARK Investment Management LLC•22  Investors should carefully consider the investment objectives and risks as well as charges and expenses of an ARK ETF before investing. This and other information are contained in the ARK ETFs’ prospectuses, which may be obtained by visiting www.ark-funds.com. The prospectus should be read carefully before investing. Investing in securities involves risk and there's no guarantee of principal.Fund Risks: The principal risks of investing in the ARKK include: Equity Securities Risk. The value of the equity securities the Fund holds may fall due to general market and economic conditions. Foreign Securities Risk. Investments in the securities of foreign issuers involve risks beyond those associated with investments in U.S. securities. Health Care Sector Risk. The health care sector may be adversely affected by government regulations and government health care programs. Communications Sector Risk. Companies is this sector may be adversely affected by potential obsolescence of products/services, pricing competition, research and development costs, substantial capital requirements and government regulation. Information Technology Sector Risk. Information technology companies face intense competition, both domestically and internationally, which may have an adverse effect on profit margins. Additional risks of investing in ARKK include equity, market, management and non-diversification risks, as well as fluctuations in market value and NAV. Disruptive Innovation Risk. Companies that ARK believes are capitalizing on disruptive innovation and developing technologies to displace older technologies or create new markets may not in fact do so. Companies that initially develop a novel technology may not be able to capitalize on the technology. Companies that develop disruptive technologies may face political or legal attacks from competitors, industry groups or local and national governments. These companies may also be exposed to risks applicable to sectors other than the disruptive innovation theme for which they are chosen, and the securities issued by these companies may underperform the securities of other companies that are primarily focused on a particular theme. The Fund’s exposure to cryptocurrency may change over time and, accordingly, such exposure may not always be represented in the Fund’s portfolio. Many significant aspects of the U.S. federal income tax treatment of investments in bitcoin are uncertain and an investment in bitcoin may produce income that is not treated as qualifying income for purposes of the income test applicable to regulated investment companies, such as the Fund. GBTC is expected to be treated as a grantor trust for U.S. federal income tax purposes, and therefore an investment by the Fund in GBTC will generally be treated as a direct investment in bitcoin for such purposes. See ‘‘Taxes’’ in the Fund’s SAI for more information. An investment in an ETF is subject to risks and you can lose money on your investment in an ETF. There can be no assurance that the ETF will achieve its investment objective. The ETF’s portfolio is more volatile than broad market averages. Shares of ARKK are bought and sold at market price (not NAV) and are not individually redeemed from the ETF. ETF shares may only be redeemed directly with the ETF at NAV by Authorized Participants, in very large creation units. There can be no guarantee that an active trading market for ETF shares will develop or be maintained, or that their listing will continue or remain unchanged. Buying or selling ETF shares on an exchange may require the payment of brokerage commissions and frequent trading may incur brokerage costs that detract significantly from investment returns.Portfolio holdings will change and should not be considered as investment advice or a recommendation to buy, sell or hold any particular security. Please visit www.ark-funds.com for the most current list of holdings for the ARK ETFs.The information herein is general in nature and should not be considered financial, legal or tax advice. An investor should consult a financial professional, an attorney or tax professional regarding the investor’s specific situation. Certain information was obtained from sources that ARK believes to be reliable; however, ARK does not guarantee the accuracy or completeness of any information obtained from any third party. ARK Investment Management LLC is the investment adviser to the ARK ETFs.Foreside Fund Services, LLC, distributor.Disclosures\n",
      "\n",
      "Document 5: Document ID: 19 source: dense\n",
      "Content:\n",
      "SECTORS(%)Health Care21.6%Communication Services21.2%Information Technology20.5%Financials20.3%Consumer Discretionary15.2%Industrials0.9%•20  Thematic Strategies Focused on Disruptive Innovation ARKKARK Innovation ETF\n",
      "ARKWARK Next Generation Internet ETF ARKQARK Autonomous Tech. & Robotics ETF ARKGARK Genomic Revolution ETF ARKFARK Fintech Innovation ETF \n",
      "IZRLIsrael Innovative Technology ETF\n",
      "PRNTThe 3D Printing ETFARKXARK Space Exploration & Innovation ETFARK Innovation ETFs•21\n",
      "\n",
      "Document 6: Document ID: 1 source: sparse\n",
      "Content:\n",
      "Sources: ARK Investment Management LLC, 2024. This ARK analysis is based on a range of underlying data from external sources, which may be provided upon request. Forecasts are inherently limited and cannot be relied upon. For informational purposes only and should not be considered investment advice or a recommendation to buy, sell, or hold any particular security. Past performance is not indicative of future results.Public BlockchainsUpon large-scale adoption, we believe all money and contracts likely will migrate onto Public Blockchains that enableand verifydigital scarcityand proof of ownership. The financial ecosystem is likely to reconfigure to accommodate the rise of Cryptocurrencies and Smart Contracts. These technologies increase transparency, reduce the influence of capital and regulatory controls, and collapse contract execution costs. In such a world, Digital Wallets would become increasingly necessary as more assets become money-like, and corporations and consumers adapt to the new financial infrastructure. Corporate structures themselves may be called into question. Multiomic SequencingThe cost to gather, sequence, and understand digital biological data is falling precipitously. Multiomic Technologies provide research scientists, therapeutic organizations and health platforms with unprecedented access to DNA, RNA, protein, and digital health data. Cancer care should transform with pan-cancer blood tests. Multiomic data should feed into novel Precision Therapies using emerging gene editing techniques that target and cure rare diseases and chronic conditions. Multiomics shouldunlock entirely new Programmable Biology capabilities, including the design and synthesis of novel biological constructs with applications across industries, particularly agriculture and food production.  Artificial IntelligenceComputational systems and software that evolve with data can solve intractable problems, automate knowledge work, and accelerate technology’s integration into every economic sector. We believe the adoption of Neural Networks should prove more momentous than the introduction of the internet. At scale these systems will require unprecedented computational resources, and AI-specific compute hardware should dominate the Next Gen Cloud datacenters that train and operate AI models. The potential for end-users is clear: a constellation of AI-driven Intelligent Devices that pervade people's lives, changing the way that they spend, work, and play. The adoption of artificial intelligence should transform every sector, impact every business, and catalyze every innovation platform. Energy Storage Declining costs of Advanced Battery Technology should cause an explosion in form factors, enabling Autonomous Mobility systems that collapse the cost of getting people and things from place to place. Electric drivetrain cost declines should unlock micro-mobility and aerial systems, including flying taxis, enabling business models that transform the landscape of cities. Autonomy should reduce the cost of taxi, delivery, and surveillance by an order of magnitude, enabling frictionless transport that could increase the velocity of e-commerce and make individual car ownership the exception rather than the rule. These innovations combined with large-scale stationary batteries should cause a transformation in energy, substituting electricity for liquid fuel and pushing generation infrastructure towards the edge of the network. RoboticsCatalyzed by artificial intelligence, Adaptive Robots can operate alongside humans and navigate legacy infrastructure, changing the way products are made and sold. 3D Printing should contribute to the digitization of manufacturing, increasing not only the performance and precision of end-use parts but also the resilience of supply chains. Meanwhile, the world’s fastest robots, Reusable Rockets, should continue to reduce the cost of launching satellite constellations and enable uninterruptible connectivity. A nascent innovation platform, robotics could collapse the cost of distance with hypersonic travel, the cost of manufacturing complexity with 3D printers, and the cost of production with AI-guided robots. WHY INVEST IN DISRUPTIVE INNOVATION?4Converging Technologies Are Generating A Historic Technological Wave\n",
      "\n",
      "Document 7: Document ID: 18 source: dense\n",
      "Content:\n",
      "[1] Diversification does not assure a profit. The information herein is general in nature and should not be considered financial advice. An investor should consult a financial professional regarding the investor’s specific situation. 19  ARK Innovation ETF — ARKK\n",
      "TOP 10 HOLDINGSWeight (%)TESLA INC12.9%ROKU INC9.2%COINBASE GLOBAL INC8.8%ROBLOX CORP5.7%BLOCK INC5.7%CRISPR THERAPEUTICS AG4.9%ROBINHOOD MARKETS INC4.8%UIPATH INC4.0%PALANTIR TECHNOLOGIES INC3.7%SHOPIFY INC3.3%63.0%MARKET CAPITALIZATION(%)Mega ($100B+)15.1%Large ($10 - $100B)44.2%Medium ($2 - $10B)34.1%Small ($300M - $2B)6.2%Micro ($50 - $300M)0.0%Holdings are subject to change and should not be considered as investment advice, or a recommendation to buy, sell or hold any particular security. It should not be assumed that an investment in the securities identified was or will be profitable. Source: ARK Investment Management LLC; All data as of June 30, 2024.PORTFOLIO COMPOSITION(%)Intelligent Devices20.5%Autonomous Mobility12.1%Precision Therapies12.0%Neural Networks11.7%Next Gen Cloud11.3%Digital Wallets9.6%Cryptocurrencies6.1%Smart Contracts4.9%Multiomic Technologies4.9%Programmable Biology2.6%Advanced Battery Technologies2.2%Adaptive Robotics2.1%The ARK Innovation ETF aims for multi-cap exposure to innovation across sectors. ARK believes the securities held in ARKK present the best risk-reward opportunities from ARK’s innovation themes.•Ticker:      ARKK•Fund AUM:       $6.04 Billion•Typical Number of Holdings:    35-55 U.S. Equities/U.S.-listed ADRs•Expense Ratio:     0.75%ARK Seeks to Capture Disruptive Innovation\n",
      "SECTORS(%)Health Care21.6%Communication Services21.2%Information Technology20.5%Financials20.3%Consumer Discretionary15.2%Industrials0.9%•20  Thematic Strategies Focused on Disruptive Innovation ARKKARK Innovation ETF\n",
      "ARKWARK Next Generation Internet ETF ARKQARK Autonomous Tech. & Robotics ETF ARKGARK Genomic Revolution ETF ARKFARK Fintech Innovation ETF \n",
      "IZRLIsrael Innovative Technology ETF\n",
      "\n"
     ]
    }
   ],
   "source": [
    "hybrid_answer = run_inference(hybrid_final_chain, example_user_query, hybrid_name)"
   ]
  },
  {
   "cell_type": "markdown",
   "id": "b10efd7d-d4fe-453e-a626-4fa69f25cce5",
   "metadata": {},
   "source": [
    "### ENHANCEMENT CODE #3: USING GPT-4o-Mini "
   ]
  },
  {
   "cell_type": "markdown",
   "id": "a23905b4-b5b3-4985-80b1-5ed98525b476",
   "metadata": {},
   "source": [
    "This time we upgrade our LLM from GPT-3.5 Turbo to GPT-4o-Mini.  This is supposed to be a newer and more capable model, but we will put that to the test in our evaluation."
   ]
  },
  {
   "cell_type": "code",
   "execution_count": 21,
   "id": "b973d162-164f-4dd6-b397-3199363da051",
   "metadata": {},
   "outputs": [],
   "source": [
    "gpt4o_rag_chain = (\n",
    "    RunnablePassthrough.assign(context=(lambda x: format_docs(x[\"context\"])))\n",
    "    | RunnableParallel(\n",
    "        {\"relevance_score\": (\n",
    "            RunnablePassthrough()\n",
    "            | (lambda x: relevance_prompt_template.format(question=x['question'], retrieved_context=x['context']))\n",
    "            | critic_llm\n",
    "            | str_output_parser\n",
    "        ), \"answer\": (\n",
    "            RunnablePassthrough()\n",
    "            | prompt\n",
    "            | critic_llm\n",
    "            | str_output_parser\n",
    "        )}\n",
    "    )\n",
    "    | RunnablePassthrough().assign(final_answer=conditional_answer)\n",
    ")\n",
    "\n",
    "gpt4o_final_chain = RunnableParallel(\n",
    "    {\"context\": baseline_dense_retriever,\n",
    "     \"question\": RunnablePassthrough()\n",
    "}).assign(answer=gpt4o_rag_chain)"
   ]
  },
  {
   "cell_type": "code",
   "execution_count": 22,
   "id": "3a911c1d-52ef-445d-91b2-ea207eca6e31",
   "metadata": {
    "scrolled": true
   },
   "outputs": [
    {
     "name": "stdout",
     "output_type": "stream",
     "text": [
      "Example Question used for GPT4o: What is the core objective of investing in disruptive innovation according to ARK?\n",
      "\n",
      "Relevance Score: 5\n",
      "\n",
      "Final Answer:\n",
      "The core objective of investing in disruptive innovation according to ARK is to access growth opportunities by investing in companies at the forefront of technology-enabled innovation, which are positioned in some of the most promising areas of the economy with potential for long-term growth. Additionally, ARK aims to provide portfolio diversification and capture long-term growth with a moderate-to-high risk-reward profile, making it suitable for investors who are willing to stay invested for the medium-to-long term.\n",
      "\n",
      "\n",
      "Retrieved Documents:\n",
      "Document 1: Document ID: 0 source: dense\n",
      "Content:\n",
      "•\n",
      "1Why Invest In Disruptive Innovation?\n",
      "Sources: ARK Investment Management LLC, 2024. Forecasts are inherently limited and cannot be relied upon. For informational purposes only and should not be considered investment advice or a recommendation to buy, sell, or hold any particular security. Past performance is not indicative of future results.As of June 30, 2024•Risks of Investing in InnovationPlease note: Companies that ARK believes are capitalizing on disruptive innovation and developing technologies to displace older technologies or create new markets may not in fact do so. ARK aims to educate investors and seeks to size the potential investment opportunity, noting that risks and uncertainties may impact our projections and research models. Investors should use the content presented for informational purposes only, and be aware of market risk, disruptive innovation risk, regulatory risk, and risks related to certain innovation areas. Please read risk disclosure carefully.\n",
      "DISRUPTIVE INNOVATIONRAPID PACE OF CHANGE\n",
      "UNCERTAINTY AND UNKNOWNS EXPOSURE ACROSS SECTORS AND MARKET CAPRISK OF INVESTING IN INNOVATIONREGULATORY HURDLES\n",
      "COMPETITIVE LANDSCAPEPOLITICAL OR LEGAL PRESSURE\n",
      "Sources: ARK Investment Management LLC, 2023.à   Aim to understand the regulatory, market, sector,        and company risks. (See Disclosure Page)à   Aim for a cross-sector understanding of technology   and combine top-down and bottom-up research.2DISCLOSURE3\n",
      "Five Innovation Platforms Are Converging And Defining This Technological Era\n",
      "\n",
      "Document 2: Document ID: 16 source: dense\n",
      "Content:\n",
      "Note: Numbers are rounded. ARK Investment Management LLC, 2024. This ARK analysis is based on a range of underlying data from external sources as of December 7, 2023, which may be provided upon request. Forecasts are inherently limited and cannot be relied upon. For informational purposes only and should not be considered investment advice or a recommendation to buy, sell, or hold any particular security. Past performance is not indicative of future results.$24$12$0.35With Line of SightWith Visual ObserverAutonomousDrone Delivery Price(10-mile Trip)~50%~90%$0$2$4$6$8$10$12$14$16$18\n",
      "MealApp DeliverySelf PickupDrones(at scale)RollingRobots(at scale)Average Dollars Per OrderFood Delivery Costs (Pre-Tax)MealDelivery Cost\n",
      "With Line-Of-SightWHY INVEST IN DISRUPTIVE INNOVATION?•17  1. Access to Growth Investors who seek to access companies at the forefront of technology-enabled innovation, in some of the most promising areas of the economy, with potential for long-term growth.2. Portfolio DiversificationPotentially Suited for investors who like to diversify their existing portfolio with strategies that offer low correlation to a number of core asset classes held in most investors’ portfolios.3. Moderate-to-High Risk-Reward ProfileA constant focus on secular changes and disruptive innovation can compliment traditional strategies and core portfolios. May be suited for investors who have a moderate-to-high risk profile and intend to stay invested for the medium-to-long term.ARK Seeks to Capture Disruptive Innovation\n",
      "\n",
      "Document 3: Document ID: 17 source: dense\n",
      "Content:\n",
      "The information herein is general in nature and should not be considered financial advice. An investor should consult a financial professional regarding the investor’s specific situation. Diversification does not assure a profit. The ARK Innovation ETF (ARKK) Aims to Offer•18  1.Exposure To Innovation: Aims for thematic multi-cap exposure to innovation across sectors. ARK believes the securities held in ARKK present the best risk-reward opportunities from ARK’s innovation-based themes.2.Growth Potential: Aims to capture long-term growth with low correlation of relative returns to traditional growth strategies and negative correlation to value strategies. 3.Tool For Diversification1: Offers a tool for diversification due to little overlap with traditional indices. It can be a complement to traditional value/growth strategies. 4.Grounded In Research: Combines top-down and bottom-up research in its portfolio management to identify innovative companies and convergence across markets.5.Cost Effective: Seeks to provide a lower cost alternative to mutual funds with true active management in an exchange traded fund (ETF) that invests in rapidly moving themes.ARK Seeks to Capture Disruptive Innovation5 Reasons Investors Should Consider ARKK\n",
      "[1] Diversification does not assure a profit. The information herein is general in nature and should not be considered financial advice. An investor should consult a financial professional regarding the investor’s specific situation. 19  ARK Innovation ETF — ARKK\n",
      "\n",
      "Document 4: Document ID: 19 source: dense\n",
      "Content:\n",
      "SECTORS(%)Health Care21.6%Communication Services21.2%Information Technology20.5%Financials20.3%Consumer Discretionary15.2%Industrials0.9%•20  Thematic Strategies Focused on Disruptive Innovation ARKKARK Innovation ETF\n",
      "ARKWARK Next Generation Internet ETF ARKQARK Autonomous Tech. & Robotics ETF ARKGARK Genomic Revolution ETF ARKFARK Fintech Innovation ETF \n",
      "IZRLIsrael Innovative Technology ETF\n",
      "PRNTThe 3D Printing ETFARKXARK Space Exploration & Innovation ETFARK Innovation ETFs•21\n",
      "\n",
      "Document 5: Document ID: 18 source: dense\n",
      "Content:\n",
      "[1] Diversification does not assure a profit. The information herein is general in nature and should not be considered financial advice. An investor should consult a financial professional regarding the investor’s specific situation. 19  ARK Innovation ETF — ARKK\n",
      "TOP 10 HOLDINGSWeight (%)TESLA INC12.9%ROKU INC9.2%COINBASE GLOBAL INC8.8%ROBLOX CORP5.7%BLOCK INC5.7%CRISPR THERAPEUTICS AG4.9%ROBINHOOD MARKETS INC4.8%UIPATH INC4.0%PALANTIR TECHNOLOGIES INC3.7%SHOPIFY INC3.3%63.0%MARKET CAPITALIZATION(%)Mega ($100B+)15.1%Large ($10 - $100B)44.2%Medium ($2 - $10B)34.1%Small ($300M - $2B)6.2%Micro ($50 - $300M)0.0%Holdings are subject to change and should not be considered as investment advice, or a recommendation to buy, sell or hold any particular security. It should not be assumed that an investment in the securities identified was or will be profitable. Source: ARK Investment Management LLC; All data as of June 30, 2024.PORTFOLIO COMPOSITION(%)Intelligent Devices20.5%Autonomous Mobility12.1%Precision Therapies12.0%Neural Networks11.7%Next Gen Cloud11.3%Digital Wallets9.6%Cryptocurrencies6.1%Smart Contracts4.9%Multiomic Technologies4.9%Programmable Biology2.6%Advanced Battery Technologies2.2%Adaptive Robotics2.1%The ARK Innovation ETF aims for multi-cap exposure to innovation across sectors. ARK believes the securities held in ARKK present the best risk-reward opportunities from ARK’s innovation themes.•Ticker:      ARKK•Fund AUM:       $6.04 Billion•Typical Number of Holdings:    35-55 U.S. Equities/U.S.-listed ADRs•Expense Ratio:     0.75%ARK Seeks to Capture Disruptive Innovation\n",
      "SECTORS(%)Health Care21.6%Communication Services21.2%Information Technology20.5%Financials20.3%Consumer Discretionary15.2%Industrials0.9%•20  Thematic Strategies Focused on Disruptive Innovation ARKKARK Innovation ETF\n",
      "ARKWARK Next Generation Internet ETF ARKQARK Autonomous Tech. & Robotics ETF ARKGARK Genomic Revolution ETF ARKFARK Fintech Innovation ETF \n",
      "IZRLIsrael Innovative Technology ETF\n",
      "\n"
     ]
    }
   ],
   "source": [
    "gpt4o_answer = run_inference(gpt4o_final_chain, example_user_query, gpt4o_name)"
   ]
  },
  {
   "cell_type": "markdown",
   "id": "285293be-29a5-439d-ae08-7929797f1b71",
   "metadata": {},
   "source": [
    "### ENHANCEMENT CODE #4: USING HYBRID SEARCH WITH 30% / 70% split (dense / sparse)"
   ]
  },
  {
   "cell_type": "markdown",
   "id": "99002166-8f31-4190-9203-beb8c36aa623",
   "metadata": {},
   "source": [
    "This will be a similar pipeline to the previous hybrid pipeline, but we will also try out a scenario where we put more emphasis on the keyword search within the hybrid search.  In this case, we are weighting the results from the two searches with 30% weight on the dense vector search, and 70% on the sparse vector search.  This should push keyword search results closer to the top of our search results during the reranking process and give us a better idea if keyword search is important to the quality of our retrieval (and the responses they are based on). "
   ]
  },
  {
   "cell_type": "code",
   "execution_count": 23,
   "id": "8e971cc8-fc48-46c3-8b33-fce68aed989c",
   "metadata": {},
   "outputs": [],
   "source": [
    "hybrid_3070split_ensemble_retriever = EnsembleRetriever(retrievers=hybrid_group, weights=[0.3, 0.7], c=0)"
   ]
  },
  {
   "cell_type": "code",
   "execution_count": 24,
   "id": "f05ec03d-fd01-4f19-8169-fa8603fcafb5",
   "metadata": {},
   "outputs": [],
   "source": [
    "hybrid_3070split_final_chain = RunnableParallel(\n",
    "    {\"context\": hybrid_3070split_ensemble_retriever,\n",
    "     \"question\": RunnablePassthrough()\n",
    "}).assign(answer=baseline_rag_chain)"
   ]
  },
  {
   "cell_type": "code",
   "execution_count": 25,
   "id": "3bd28cf8-2925-4e91-ab9e-58916740a2f8",
   "metadata": {
    "scrolled": true
   },
   "outputs": [
    {
     "name": "stdout",
     "output_type": "stream",
     "text": [
      "Example Question used for HYBRID 3070: What is the core objective of investing in disruptive innovation according to ARK?\n",
      "\n",
      "Relevance Score: 5\n",
      "\n",
      "Final Answer:\n",
      "The core objective of investing in disruptive innovation according to ARK is to access companies at the forefront of technology-enabled innovation in promising areas of the economy with potential for long-term growth, diversify portfolios with low correlation to traditional assets, and potentially achieve a moderate-to-high risk-reward profile by focusing on secular changes and disruptive innovation.\n",
      "\n",
      "\n",
      "Retrieved Documents:\n",
      "Document 1: Document ID: 16 source: dense\n",
      "Content:\n",
      "Note: Numbers are rounded. ARK Investment Management LLC, 2024. This ARK analysis is based on a range of underlying data from external sources as of December 7, 2023, which may be provided upon request. Forecasts are inherently limited and cannot be relied upon. For informational purposes only and should not be considered investment advice or a recommendation to buy, sell, or hold any particular security. Past performance is not indicative of future results.$24$12$0.35With Line of SightWith Visual ObserverAutonomousDrone Delivery Price(10-mile Trip)~50%~90%$0$2$4$6$8$10$12$14$16$18\n",
      "MealApp DeliverySelf PickupDrones(at scale)RollingRobots(at scale)Average Dollars Per OrderFood Delivery Costs (Pre-Tax)MealDelivery Cost\n",
      "With Line-Of-SightWHY INVEST IN DISRUPTIVE INNOVATION?•17  1. Access to Growth Investors who seek to access companies at the forefront of technology-enabled innovation, in some of the most promising areas of the economy, with potential for long-term growth.2. Portfolio DiversificationPotentially Suited for investors who like to diversify their existing portfolio with strategies that offer low correlation to a number of core asset classes held in most investors’ portfolios.3. Moderate-to-High Risk-Reward ProfileA constant focus on secular changes and disruptive innovation can compliment traditional strategies and core portfolios. May be suited for investors who have a moderate-to-high risk profile and intend to stay invested for the medium-to-long term.ARK Seeks to Capture Disruptive Innovation\n",
      "\n",
      "Document 2: Document ID: 0 source: dense\n",
      "Content:\n",
      "•\n",
      "1Why Invest In Disruptive Innovation?\n",
      "Sources: ARK Investment Management LLC, 2024. Forecasts are inherently limited and cannot be relied upon. For informational purposes only and should not be considered investment advice or a recommendation to buy, sell, or hold any particular security. Past performance is not indicative of future results.As of June 30, 2024•Risks of Investing in InnovationPlease note: Companies that ARK believes are capitalizing on disruptive innovation and developing technologies to displace older technologies or create new markets may not in fact do so. ARK aims to educate investors and seeks to size the potential investment opportunity, noting that risks and uncertainties may impact our projections and research models. Investors should use the content presented for informational purposes only, and be aware of market risk, disruptive innovation risk, regulatory risk, and risks related to certain innovation areas. Please read risk disclosure carefully.\n",
      "DISRUPTIVE INNOVATIONRAPID PACE OF CHANGE\n",
      "UNCERTAINTY AND UNKNOWNS EXPOSURE ACROSS SECTORS AND MARKET CAPRISK OF INVESTING IN INNOVATIONREGULATORY HURDLES\n",
      "COMPETITIVE LANDSCAPEPOLITICAL OR LEGAL PRESSURE\n",
      "Sources: ARK Investment Management LLC, 2023.à   Aim to understand the regulatory, market, sector,        and company risks. (See Disclosure Page)à   Aim for a cross-sector understanding of technology   and combine top-down and bottom-up research.2DISCLOSURE3\n",
      "Five Innovation Platforms Are Converging And Defining This Technological Era\n",
      "\n",
      "Document 3: Document ID: 22 source: sparse\n",
      "Content:\n",
      "Contact our ETF Specialists:Rebecca L. Burke Vice President  | National ETF Sales Resolute Investment Managers, Inc.M. 978.609.0553 rebecca.burke@resolutemanagers.comJack Stock, CIMAVice President   |  National ETF SalesResolute Investment Managers, Inc.M. 817.823.5337jack.stock@resolutemanagers.comRyan Hodapp, CFA, CAIAVice President  | National ETF Sales Resolute Investment Managers, Inc.M. 617.279.3571ryan.hodapp@resolutemanagers.comARK Investment Management LLC•22  Investors should carefully consider the investment objectives and risks as well as charges and expenses of an ARK ETF before investing. This and other information are contained in the ARK ETFs’ prospectuses, which may be obtained by visiting www.ark-funds.com. The prospectus should be read carefully before investing. Investing in securities involves risk and there's no guarantee of principal.Fund Risks: The principal risks of investing in the ARKK include: Equity Securities Risk. The value of the equity securities the Fund holds may fall due to general market and economic conditions. Foreign Securities Risk. Investments in the securities of foreign issuers involve risks beyond those associated with investments in U.S. securities. Health Care Sector Risk. The health care sector may be adversely affected by government regulations and government health care programs. Communications Sector Risk. Companies is this sector may be adversely affected by potential obsolescence of products/services, pricing competition, research and development costs, substantial capital requirements and government regulation. Information Technology Sector Risk. Information technology companies face intense competition, both domestically and internationally, which may have an adverse effect on profit margins. Additional risks of investing in ARKK include equity, market, management and non-diversification risks, as well as fluctuations in market value and NAV. Disruptive Innovation Risk. Companies that ARK believes are capitalizing on disruptive innovation and developing technologies to displace older technologies or create new markets may not in fact do so. Companies that initially develop a novel technology may not be able to capitalize on the technology. Companies that develop disruptive technologies may face political or legal attacks from competitors, industry groups or local and national governments. These companies may also be exposed to risks applicable to sectors other than the disruptive innovation theme for which they are chosen, and the securities issued by these companies may underperform the securities of other companies that are primarily focused on a particular theme. The Fund’s exposure to cryptocurrency may change over time and, accordingly, such exposure may not always be represented in the Fund’s portfolio. Many significant aspects of the U.S. federal income tax treatment of investments in bitcoin are uncertain and an investment in bitcoin may produce income that is not treated as qualifying income for purposes of the income test applicable to regulated investment companies, such as the Fund. GBTC is expected to be treated as a grantor trust for U.S. federal income tax purposes, and therefore an investment by the Fund in GBTC will generally be treated as a direct investment in bitcoin for such purposes. See ‘‘Taxes’’ in the Fund’s SAI for more information. An investment in an ETF is subject to risks and you can lose money on your investment in an ETF. There can be no assurance that the ETF will achieve its investment objective. The ETF’s portfolio is more volatile than broad market averages. Shares of ARKK are bought and sold at market price (not NAV) and are not individually redeemed from the ETF. ETF shares may only be redeemed directly with the ETF at NAV by Authorized Participants, in very large creation units. There can be no guarantee that an active trading market for ETF shares will develop or be maintained, or that their listing will continue or remain unchanged. Buying or selling ETF shares on an exchange may require the payment of brokerage commissions and frequent trading may incur brokerage costs that detract significantly from investment returns.Portfolio holdings will change and should not be considered as investment advice or a recommendation to buy, sell or hold any particular security. Please visit www.ark-funds.com for the most current list of holdings for the ARK ETFs.The information herein is general in nature and should not be considered financial, legal or tax advice. An investor should consult a financial professional, an attorney or tax professional regarding the investor’s specific situation. Certain information was obtained from sources that ARK believes to be reliable; however, ARK does not guarantee the accuracy or completeness of any information obtained from any third party. ARK Investment Management LLC is the investment adviser to the ARK ETFs.Foreside Fund Services, LLC, distributor.Disclosures\n",
      "\n",
      "Document 4: Document ID: 17 source: dense\n",
      "Content:\n",
      "The information herein is general in nature and should not be considered financial advice. An investor should consult a financial professional regarding the investor’s specific situation. Diversification does not assure a profit. The ARK Innovation ETF (ARKK) Aims to Offer•18  1.Exposure To Innovation: Aims for thematic multi-cap exposure to innovation across sectors. ARK believes the securities held in ARKK present the best risk-reward opportunities from ARK’s innovation-based themes.2.Growth Potential: Aims to capture long-term growth with low correlation of relative returns to traditional growth strategies and negative correlation to value strategies. 3.Tool For Diversification1: Offers a tool for diversification due to little overlap with traditional indices. It can be a complement to traditional value/growth strategies. 4.Grounded In Research: Combines top-down and bottom-up research in its portfolio management to identify innovative companies and convergence across markets.5.Cost Effective: Seeks to provide a lower cost alternative to mutual funds with true active management in an exchange traded fund (ETF) that invests in rapidly moving themes.ARK Seeks to Capture Disruptive Innovation5 Reasons Investors Should Consider ARKK\n",
      "[1] Diversification does not assure a profit. The information herein is general in nature and should not be considered financial advice. An investor should consult a financial professional regarding the investor’s specific situation. 19  ARK Innovation ETF — ARKK\n",
      "\n",
      "Document 5: Document ID: 1 source: sparse\n",
      "Content:\n",
      "Sources: ARK Investment Management LLC, 2024. This ARK analysis is based on a range of underlying data from external sources, which may be provided upon request. Forecasts are inherently limited and cannot be relied upon. For informational purposes only and should not be considered investment advice or a recommendation to buy, sell, or hold any particular security. Past performance is not indicative of future results.Public BlockchainsUpon large-scale adoption, we believe all money and contracts likely will migrate onto Public Blockchains that enableand verifydigital scarcityand proof of ownership. The financial ecosystem is likely to reconfigure to accommodate the rise of Cryptocurrencies and Smart Contracts. These technologies increase transparency, reduce the influence of capital and regulatory controls, and collapse contract execution costs. In such a world, Digital Wallets would become increasingly necessary as more assets become money-like, and corporations and consumers adapt to the new financial infrastructure. Corporate structures themselves may be called into question. Multiomic SequencingThe cost to gather, sequence, and understand digital biological data is falling precipitously. Multiomic Technologies provide research scientists, therapeutic organizations and health platforms with unprecedented access to DNA, RNA, protein, and digital health data. Cancer care should transform with pan-cancer blood tests. Multiomic data should feed into novel Precision Therapies using emerging gene editing techniques that target and cure rare diseases and chronic conditions. Multiomics shouldunlock entirely new Programmable Biology capabilities, including the design and synthesis of novel biological constructs with applications across industries, particularly agriculture and food production.  Artificial IntelligenceComputational systems and software that evolve with data can solve intractable problems, automate knowledge work, and accelerate technology’s integration into every economic sector. We believe the adoption of Neural Networks should prove more momentous than the introduction of the internet. At scale these systems will require unprecedented computational resources, and AI-specific compute hardware should dominate the Next Gen Cloud datacenters that train and operate AI models. The potential for end-users is clear: a constellation of AI-driven Intelligent Devices that pervade people's lives, changing the way that they spend, work, and play. The adoption of artificial intelligence should transform every sector, impact every business, and catalyze every innovation platform. Energy Storage Declining costs of Advanced Battery Technology should cause an explosion in form factors, enabling Autonomous Mobility systems that collapse the cost of getting people and things from place to place. Electric drivetrain cost declines should unlock micro-mobility and aerial systems, including flying taxis, enabling business models that transform the landscape of cities. Autonomy should reduce the cost of taxi, delivery, and surveillance by an order of magnitude, enabling frictionless transport that could increase the velocity of e-commerce and make individual car ownership the exception rather than the rule. These innovations combined with large-scale stationary batteries should cause a transformation in energy, substituting electricity for liquid fuel and pushing generation infrastructure towards the edge of the network. RoboticsCatalyzed by artificial intelligence, Adaptive Robots can operate alongside humans and navigate legacy infrastructure, changing the way products are made and sold. 3D Printing should contribute to the digitization of manufacturing, increasing not only the performance and precision of end-use parts but also the resilience of supply chains. Meanwhile, the world’s fastest robots, Reusable Rockets, should continue to reduce the cost of launching satellite constellations and enable uninterruptible connectivity. A nascent innovation platform, robotics could collapse the cost of distance with hypersonic travel, the cost of manufacturing complexity with 3D printers, and the cost of production with AI-guided robots. WHY INVEST IN DISRUPTIVE INNOVATION?4Converging Technologies Are Generating A Historic Technological Wave\n",
      "\n",
      "Document 6: Document ID: 19 source: dense\n",
      "Content:\n",
      "SECTORS(%)Health Care21.6%Communication Services21.2%Information Technology20.5%Financials20.3%Consumer Discretionary15.2%Industrials0.9%•20  Thematic Strategies Focused on Disruptive Innovation ARKKARK Innovation ETF\n",
      "ARKWARK Next Generation Internet ETF ARKQARK Autonomous Tech. & Robotics ETF ARKGARK Genomic Revolution ETF ARKFARK Fintech Innovation ETF \n",
      "IZRLIsrael Innovative Technology ETF\n",
      "PRNTThe 3D Printing ETFARKXARK Space Exploration & Innovation ETFARK Innovation ETFs•21\n",
      "\n",
      "Document 7: Document ID: 18 source: dense\n",
      "Content:\n",
      "[1] Diversification does not assure a profit. The information herein is general in nature and should not be considered financial advice. An investor should consult a financial professional regarding the investor’s specific situation. 19  ARK Innovation ETF — ARKK\n",
      "TOP 10 HOLDINGSWeight (%)TESLA INC12.9%ROKU INC9.2%COINBASE GLOBAL INC8.8%ROBLOX CORP5.7%BLOCK INC5.7%CRISPR THERAPEUTICS AG4.9%ROBINHOOD MARKETS INC4.8%UIPATH INC4.0%PALANTIR TECHNOLOGIES INC3.7%SHOPIFY INC3.3%63.0%MARKET CAPITALIZATION(%)Mega ($100B+)15.1%Large ($10 - $100B)44.2%Medium ($2 - $10B)34.1%Small ($300M - $2B)6.2%Micro ($50 - $300M)0.0%Holdings are subject to change and should not be considered as investment advice, or a recommendation to buy, sell or hold any particular security. It should not be assumed that an investment in the securities identified was or will be profitable. Source: ARK Investment Management LLC; All data as of June 30, 2024.PORTFOLIO COMPOSITION(%)Intelligent Devices20.5%Autonomous Mobility12.1%Precision Therapies12.0%Neural Networks11.7%Next Gen Cloud11.3%Digital Wallets9.6%Cryptocurrencies6.1%Smart Contracts4.9%Multiomic Technologies4.9%Programmable Biology2.6%Advanced Battery Technologies2.2%Adaptive Robotics2.1%The ARK Innovation ETF aims for multi-cap exposure to innovation across sectors. ARK believes the securities held in ARKK present the best risk-reward opportunities from ARK’s innovation themes.•Ticker:      ARKK•Fund AUM:       $6.04 Billion•Typical Number of Holdings:    35-55 U.S. Equities/U.S.-listed ADRs•Expense Ratio:     0.75%ARK Seeks to Capture Disruptive Innovation\n",
      "SECTORS(%)Health Care21.6%Communication Services21.2%Information Technology20.5%Financials20.3%Consumer Discretionary15.2%Industrials0.9%•20  Thematic Strategies Focused on Disruptive Innovation ARKKARK Innovation ETF\n",
      "ARKWARK Next Generation Internet ETF ARKQARK Autonomous Tech. & Robotics ETF ARKGARK Genomic Revolution ETF ARKFARK Fintech Innovation ETF \n",
      "IZRLIsrael Innovative Technology ETF\n",
      "\n"
     ]
    }
   ],
   "source": [
    "hybrid_3070_answer = run_inference(hybrid_3070split_final_chain, example_user_query, hybrid_3070_name)"
   ]
  },
  {
   "cell_type": "markdown",
   "id": "4cf1d4f3-9b76-4985-bc31-67831ce8b916",
   "metadata": {},
   "source": [
    "### ENHANCEMENT CODE #5: IMPROVED DENSE EMBEDDING MODEL"
   ]
  },
  {
   "cell_type": "markdown",
   "id": "1c137b7f-58aa-4458-a30e-38f9e62462ce",
   "metadata": {},
   "source": [
    "In this enhancement, we test if we can benefit from an upgrade to our OpenAI Embedding model, using their latest model, which has scored higher than the one we are currently using on the MTEB retrieval benchmarks. "
   ]
  },
  {
   "cell_type": "code",
   "execution_count": 26,
   "id": "934ebe49-8abd-4622-8ddc-55a2b61b2975",
   "metadata": {},
   "outputs": [],
   "source": [
    "newembed_vectorstore = Chroma.from_documents(\n",
    "    documents=hybrid_dense_documents,\n",
    "    embedding=embedding_function_large, # changed from embedding_function_ada2\n",
    "    collection_name=embedding_collection_name,\n",
    "    client=chroma_client\n",
    ")\n",
    "\n",
    "newembed_retriever = newembed_vectorstore.as_retriever(search_kwargs={\"k\": 5})\n",
    "\n",
    "newembed_final_chain = RunnableParallel(\n",
    "    {\"context\": newembed_retriever,\n",
    "     \"question\": RunnablePassthrough()\n",
    "}).assign(answer=baseline_rag_chain)"
   ]
  },
  {
   "cell_type": "code",
   "execution_count": 27,
   "id": "fbe546c4-6798-4ebd-9a91-90b9c9f7f767",
   "metadata": {
    "scrolled": true
   },
   "outputs": [
    {
     "name": "stdout",
     "output_type": "stream",
     "text": [
      "Example Question used for NEW EMBEDDINGS: What is the core objective of investing in disruptive innovation according to ARK?\n",
      "\n",
      "Relevance Score: 5\n",
      "\n",
      "Final Answer:\n",
      "The core objective of investing in disruptive innovation according to ARK is to access companies at the forefront of technology-enabled innovation in promising areas of the economy with potential for long-term growth, diversify portfolios with low correlation to traditional asset classes, and potentially achieve a moderate-to-high risk-reward profile that complements traditional investment strategies.\n",
      "\n",
      "\n",
      "Retrieved Documents:\n",
      "Document 1: Document ID: 0 source: dense\n",
      "Content:\n",
      "•\n",
      "1Why Invest In Disruptive Innovation?\n",
      "Sources: ARK Investment Management LLC, 2024. Forecasts are inherently limited and cannot be relied upon. For informational purposes only and should not be considered investment advice or a recommendation to buy, sell, or hold any particular security. Past performance is not indicative of future results.As of June 30, 2024•Risks of Investing in InnovationPlease note: Companies that ARK believes are capitalizing on disruptive innovation and developing technologies to displace older technologies or create new markets may not in fact do so. ARK aims to educate investors and seeks to size the potential investment opportunity, noting that risks and uncertainties may impact our projections and research models. Investors should use the content presented for informational purposes only, and be aware of market risk, disruptive innovation risk, regulatory risk, and risks related to certain innovation areas. Please read risk disclosure carefully.\n",
      "DISRUPTIVE INNOVATIONRAPID PACE OF CHANGE\n",
      "UNCERTAINTY AND UNKNOWNS EXPOSURE ACROSS SECTORS AND MARKET CAPRISK OF INVESTING IN INNOVATIONREGULATORY HURDLES\n",
      "COMPETITIVE LANDSCAPEPOLITICAL OR LEGAL PRESSURE\n",
      "Sources: ARK Investment Management LLC, 2023.à   Aim to understand the regulatory, market, sector,        and company risks. (See Disclosure Page)à   Aim for a cross-sector understanding of technology   and combine top-down and bottom-up research.2DISCLOSURE3\n",
      "Five Innovation Platforms Are Converging And Defining This Technological Era\n",
      "\n",
      "Document 2: Document ID: 16 source: dense\n",
      "Content:\n",
      "Note: Numbers are rounded. ARK Investment Management LLC, 2024. This ARK analysis is based on a range of underlying data from external sources as of December 7, 2023, which may be provided upon request. Forecasts are inherently limited and cannot be relied upon. For informational purposes only and should not be considered investment advice or a recommendation to buy, sell, or hold any particular security. Past performance is not indicative of future results.$24$12$0.35With Line of SightWith Visual ObserverAutonomousDrone Delivery Price(10-mile Trip)~50%~90%$0$2$4$6$8$10$12$14$16$18\n",
      "MealApp DeliverySelf PickupDrones(at scale)RollingRobots(at scale)Average Dollars Per OrderFood Delivery Costs (Pre-Tax)MealDelivery Cost\n",
      "With Line-Of-SightWHY INVEST IN DISRUPTIVE INNOVATION?•17  1. Access to Growth Investors who seek to access companies at the forefront of technology-enabled innovation, in some of the most promising areas of the economy, with potential for long-term growth.2. Portfolio DiversificationPotentially Suited for investors who like to diversify their existing portfolio with strategies that offer low correlation to a number of core asset classes held in most investors’ portfolios.3. Moderate-to-High Risk-Reward ProfileA constant focus on secular changes and disruptive innovation can compliment traditional strategies and core portfolios. May be suited for investors who have a moderate-to-high risk profile and intend to stay invested for the medium-to-long term.ARK Seeks to Capture Disruptive Innovation\n",
      "\n",
      "Document 3: Document ID: 1 source: dense\n",
      "Content:\n",
      "Sources: ARK Investment Management LLC, 2024. This ARK analysis is based on a range of underlying data from external sources, which may be provided upon request. Forecasts are inherently limited and cannot be relied upon. For informational purposes only and should not be considered investment advice or a recommendation to buy, sell, or hold any particular security. Past performance is not indicative of future results.Public BlockchainsUpon large-scale adoption, we believe all money and contracts likely will migrate onto Public Blockchains that enableand verifydigital scarcityand proof of ownership. The financial ecosystem is likely to reconfigure to accommodate the rise of Cryptocurrencies and Smart Contracts. These technologies increase transparency, reduce the influence of capital and regulatory controls, and collapse contract execution costs. In such a world, Digital Wallets would become increasingly necessary as more assets become money-like, and corporations and consumers adapt to the new financial infrastructure. Corporate structures themselves may be called into question. Multiomic SequencingThe cost to gather, sequence, and understand digital biological data is falling precipitously. Multiomic Technologies provide research scientists, therapeutic organizations and health platforms with unprecedented access to DNA, RNA, protein, and digital health data. Cancer care should transform with pan-cancer blood tests. Multiomic data should feed into novel Precision Therapies using emerging gene editing techniques that target and cure rare diseases and chronic conditions. Multiomics shouldunlock entirely new Programmable Biology capabilities, including the design and synthesis of novel biological constructs with applications across industries, particularly agriculture and food production.  Artificial IntelligenceComputational systems and software that evolve with data can solve intractable problems, automate knowledge work, and accelerate technology’s integration into every economic sector. We believe the adoption of Neural Networks should prove more momentous than the introduction of the internet. At scale these systems will require unprecedented computational resources, and AI-specific compute hardware should dominate the Next Gen Cloud datacenters that train and operate AI models. The potential for end-users is clear: a constellation of AI-driven Intelligent Devices that pervade people's lives, changing the way that they spend, work, and play. The adoption of artificial intelligence should transform every sector, impact every business, and catalyze every innovation platform. Energy Storage Declining costs of Advanced Battery Technology should cause an explosion in form factors, enabling Autonomous Mobility systems that collapse the cost of getting people and things from place to place. Electric drivetrain cost declines should unlock micro-mobility and aerial systems, including flying taxis, enabling business models that transform the landscape of cities. Autonomy should reduce the cost of taxi, delivery, and surveillance by an order of magnitude, enabling frictionless transport that could increase the velocity of e-commerce and make individual car ownership the exception rather than the rule. These innovations combined with large-scale stationary batteries should cause a transformation in energy, substituting electricity for liquid fuel and pushing generation infrastructure towards the edge of the network. RoboticsCatalyzed by artificial intelligence, Adaptive Robots can operate alongside humans and navigate legacy infrastructure, changing the way products are made and sold. 3D Printing should contribute to the digitization of manufacturing, increasing not only the performance and precision of end-use parts but also the resilience of supply chains. Meanwhile, the world’s fastest robots, Reusable Rockets, should continue to reduce the cost of launching satellite constellations and enable uninterruptible connectivity. A nascent innovation platform, robotics could collapse the cost of distance with hypersonic travel, the cost of manufacturing complexity with 3D printers, and the cost of production with AI-guided robots. WHY INVEST IN DISRUPTIVE INNOVATION?4Converging Technologies Are Generating A Historic Technological Wave\n",
      "\n",
      "Document 4: Document ID: 17 source: dense\n",
      "Content:\n",
      "The information herein is general in nature and should not be considered financial advice. An investor should consult a financial professional regarding the investor’s specific situation. Diversification does not assure a profit. The ARK Innovation ETF (ARKK) Aims to Offer•18  1.Exposure To Innovation: Aims for thematic multi-cap exposure to innovation across sectors. ARK believes the securities held in ARKK present the best risk-reward opportunities from ARK’s innovation-based themes.2.Growth Potential: Aims to capture long-term growth with low correlation of relative returns to traditional growth strategies and negative correlation to value strategies. 3.Tool For Diversification1: Offers a tool for diversification due to little overlap with traditional indices. It can be a complement to traditional value/growth strategies. 4.Grounded In Research: Combines top-down and bottom-up research in its portfolio management to identify innovative companies and convergence across markets.5.Cost Effective: Seeks to provide a lower cost alternative to mutual funds with true active management in an exchange traded fund (ETF) that invests in rapidly moving themes.ARK Seeks to Capture Disruptive Innovation5 Reasons Investors Should Consider ARKK\n",
      "[1] Diversification does not assure a profit. The information herein is general in nature and should not be considered financial advice. An investor should consult a financial professional regarding the investor’s specific situation. 19  ARK Innovation ETF — ARKK\n",
      "\n",
      "Document 5: Document ID: 11 source: dense\n",
      "Content:\n",
      "Sources: ARK Investment Management LLC, 2024. This ARK analysis is based on a range of external sources, which may be provided upon request. Forecasts are inherently limited and cannot be relied upon. For informational purposes only and should not be considered investment advice or a recommendation to buy, sell, or hold any particular security. Past performance is not indicative of future results.$0$100$200$300$400$500$600$700$800$900$1,000\n",
      "LegacyPrecision($ Millions)R&D Cost Per Drug Approval (Including Failures)\n",
      "0%5%10%15%20 %25%30%\n",
      "LegacyPrecisionProbability Of Clinical SuccessClinical Success Probability Innovative Trial Design+ Single-Cell Biology+ Proteomic Techniques+ Virtual Compound Libraries+ Biomarker Development+ Humanized animal models+ Automated Liquid Handling+ Automated Invivomics+ Automated Microsynthesis+ CRISPR “Perturb-Seq” Screens+ Organ-on-a-chip TechnologyArtificial IntelligenceAutomationFundamental Biology\n",
      "+ AI-Enabled Pathway Analysis+ AI-Enabled Toxicity Prediction+ In-Silico Molecular Modeling+ ML-Driven Compound Screens+ Adaptive Clinical Trial Design+ Precision Biomarkers+ Decentralized/Virtual TrialsEfficiency Innovations-48%2.1xWHY INVEST IN DISRUPTIVE INNOVATION?13EVs Have Hit Price-Parity With Internal Combustion Engine VehiclesAs battery costs continue to decline, EV prices should fall, potentially driving exponential growth in unit sales.\n",
      "\n"
     ]
    }
   ],
   "source": [
    "newembed_answer = run_inference(newembed_final_chain, example_user_query, newembed_name)"
   ]
  },
  {
   "cell_type": "markdown",
   "id": "9cecd9cd-921c-49fe-bea6-99f83b79f511",
   "metadata": {},
   "source": [
    "### ENHANCEMENT CODE #6: Query expansion"
   ]
  },
  {
   "attachments": {},
   "cell_type": "markdown",
   "id": "1e4819d3-428c-41c3-bedf-2b7a9b09dbfe",
   "metadata": {},
   "source": [
    "One of the key tasks in this assignment is to \"improve coherence, faithfulness, and relevance of answers.\"\n",
    "\n",
    "This enhancement is an advanced prompt engineering technique focused on doing just that. Many techniques for enhancing RAG focus on improving one area, like retrieval or generation, but query expansion has the potential to improve both.  With query expansion, we use an LLM to first \"expand\" on our prompt by coming up with it's own idea of how this question should be answered (no context).  We then feed both the original question and the expanded response to the our original pipeline and use our evaluation to determine if this improved the overall responses to the questions asked. From an LLM standpoint, these types of changes can help broaden the search scope without losing focus on the original intent.\n",
    "\n",
    "This approach has been known to improve the retrieval model's understanding, as you add more context to the user query that is used for retrieval, increasing the chances of fetching relevant documents. With an improved retrieval, you are already helping to improve the generation, giving it better context to work with, but this approach also has the potential to produce a more effective query, which in turn also helps the LLM deliver an improved response.  "
   ]
  },
  {
   "cell_type": "code",
   "execution_count": 28,
   "id": "01c7ac20-c3d4-4c2a-8483-7a5d12c0fb24",
   "metadata": {},
   "outputs": [],
   "source": [
    "# CODE\n",
    "def augment_query_generated(user_query):\n",
    "    system_message_prompt = SystemMessagePromptTemplate.from_template(\n",
    "        \"You are a financial expert assisting others in understanding the disruptive innovation insights that are provided by ARK. Provide an example answer to the given question, that might be found in a document published by ARK.\"\n",
    "    )\n",
    "    \n",
    "    human_message_prompt = HumanMessagePromptTemplate.from_template(\"{query}\")\n",
    "    \n",
    "    chat_prompt = ChatPromptTemplate.from_messages([system_message_prompt, human_message_prompt])\n",
    "    \n",
    "    response = chat_prompt.format_prompt(query=user_query).to_messages()\n",
    "    \n",
    "    result = critic_llm(response)\n",
    "    content = result.content\n",
    "    \n",
    "    return content\n",
    "\n",
    "class QueryExpander:\n",
    "    def __init__(self):\n",
    "        pass\n",
    "\n",
    "    def invoke(self, query):\n",
    "        hypothetical_answer = augment_query_generated(query)\n",
    "        joint_query = f\"{query} {hypothetical_answer}\"\n",
    "        print(joint_query)\n",
    "        result = baseline_final_chain.invoke(joint_query)\n",
    "        return result\n",
    "\n",
    "# Create an instance of QueryExpander\n",
    "query_expand = QueryExpander()"
   ]
  },
  {
   "cell_type": "code",
   "execution_count": 29,
   "id": "865f8dc3-60b9-4a1c-98e2-a7dba52f4496",
   "metadata": {
    "scrolled": true
   },
   "outputs": [
    {
     "name": "stderr",
     "output_type": "stream",
     "text": [
      "/tmp/ipykernel_3653/117575915.py:13: LangChainDeprecationWarning: The method `BaseChatModel.__call__` was deprecated in langchain-core 0.1.7 and will be removed in 1.0. Use :meth:`~invoke` instead.\n",
      "  result = critic_llm(response)\n"
     ]
    },
    {
     "name": "stdout",
     "output_type": "stream",
     "text": [
      "What is the core objective of investing in disruptive innovation according to ARK? According to ARK, the core objective of investing in disruptive innovation is to identify and capitalize on transformative technologies that have the potential to significantly alter industries and create new markets. ARK believes that these innovations can lead to exponential growth opportunities, driven by advancements in areas such as artificial intelligence, genomics, robotics, and blockchain technology.\n",
      "\n",
      "By focusing on companies that are at the forefront of these disruptive trends, ARK aims to generate superior long-term returns for investors. The firm emphasizes the importance of understanding the underlying technologies and their potential impact on society and the economy, as well as the ability to adapt to rapidly changing market dynamics. Ultimately, ARK seeks to invest in a future where innovation drives progress and creates value across various sectors.\n",
      "Example Question used for QUERY EXPANSION: What is the core objective of investing in disruptive innovation according to ARK?\n",
      "\n",
      "Relevance Score: 5\n",
      "\n",
      "Final Answer:\n",
      "The core objective of investing in disruptive innovation according to ARK is to identify and capitalize on transformative technologies that have the potential to significantly alter industries and create new markets. ARK believes that these innovations can lead to exponential growth opportunities driven by advancements in areas such as artificial intelligence, genomics, robotics, and blockchain technology. By focusing on companies at the forefront of these disruptive trends, ARK aims to generate superior long-term returns for investors.\n",
      "\n",
      "\n",
      "Retrieved Documents:\n",
      "Document 1: Document ID: 0 source: dense\n",
      "Content:\n",
      "•\n",
      "1Why Invest In Disruptive Innovation?\n",
      "Sources: ARK Investment Management LLC, 2024. Forecasts are inherently limited and cannot be relied upon. For informational purposes only and should not be considered investment advice or a recommendation to buy, sell, or hold any particular security. Past performance is not indicative of future results.As of June 30, 2024•Risks of Investing in InnovationPlease note: Companies that ARK believes are capitalizing on disruptive innovation and developing technologies to displace older technologies or create new markets may not in fact do so. ARK aims to educate investors and seeks to size the potential investment opportunity, noting that risks and uncertainties may impact our projections and research models. Investors should use the content presented for informational purposes only, and be aware of market risk, disruptive innovation risk, regulatory risk, and risks related to certain innovation areas. Please read risk disclosure carefully.\n",
      "DISRUPTIVE INNOVATIONRAPID PACE OF CHANGE\n",
      "UNCERTAINTY AND UNKNOWNS EXPOSURE ACROSS SECTORS AND MARKET CAPRISK OF INVESTING IN INNOVATIONREGULATORY HURDLES\n",
      "COMPETITIVE LANDSCAPEPOLITICAL OR LEGAL PRESSURE\n",
      "Sources: ARK Investment Management LLC, 2023.à   Aim to understand the regulatory, market, sector,        and company risks. (See Disclosure Page)à   Aim for a cross-sector understanding of technology   and combine top-down and bottom-up research.2DISCLOSURE3\n",
      "Five Innovation Platforms Are Converging And Defining This Technological Era\n",
      "\n",
      "Document 2: Document ID: 16 source: dense\n",
      "Content:\n",
      "Note: Numbers are rounded. ARK Investment Management LLC, 2024. This ARK analysis is based on a range of underlying data from external sources as of December 7, 2023, which may be provided upon request. Forecasts are inherently limited and cannot be relied upon. For informational purposes only and should not be considered investment advice or a recommendation to buy, sell, or hold any particular security. Past performance is not indicative of future results.$24$12$0.35With Line of SightWith Visual ObserverAutonomousDrone Delivery Price(10-mile Trip)~50%~90%$0$2$4$6$8$10$12$14$16$18\n",
      "MealApp DeliverySelf PickupDrones(at scale)RollingRobots(at scale)Average Dollars Per OrderFood Delivery Costs (Pre-Tax)MealDelivery Cost\n",
      "With Line-Of-SightWHY INVEST IN DISRUPTIVE INNOVATION?•17  1. Access to Growth Investors who seek to access companies at the forefront of technology-enabled innovation, in some of the most promising areas of the economy, with potential for long-term growth.2. Portfolio DiversificationPotentially Suited for investors who like to diversify their existing portfolio with strategies that offer low correlation to a number of core asset classes held in most investors’ portfolios.3. Moderate-to-High Risk-Reward ProfileA constant focus on secular changes and disruptive innovation can compliment traditional strategies and core portfolios. May be suited for investors who have a moderate-to-high risk profile and intend to stay invested for the medium-to-long term.ARK Seeks to Capture Disruptive Innovation\n",
      "\n",
      "Document 3: Document ID: 17 source: dense\n",
      "Content:\n",
      "The information herein is general in nature and should not be considered financial advice. An investor should consult a financial professional regarding the investor’s specific situation. Diversification does not assure a profit. The ARK Innovation ETF (ARKK) Aims to Offer•18  1.Exposure To Innovation: Aims for thematic multi-cap exposure to innovation across sectors. ARK believes the securities held in ARKK present the best risk-reward opportunities from ARK’s innovation-based themes.2.Growth Potential: Aims to capture long-term growth with low correlation of relative returns to traditional growth strategies and negative correlation to value strategies. 3.Tool For Diversification1: Offers a tool for diversification due to little overlap with traditional indices. It can be a complement to traditional value/growth strategies. 4.Grounded In Research: Combines top-down and bottom-up research in its portfolio management to identify innovative companies and convergence across markets.5.Cost Effective: Seeks to provide a lower cost alternative to mutual funds with true active management in an exchange traded fund (ETF) that invests in rapidly moving themes.ARK Seeks to Capture Disruptive Innovation5 Reasons Investors Should Consider ARKK\n",
      "[1] Diversification does not assure a profit. The information herein is general in nature and should not be considered financial advice. An investor should consult a financial professional regarding the investor’s specific situation. 19  ARK Innovation ETF — ARKK\n",
      "\n",
      "Document 4: Document ID: 18 source: dense\n",
      "Content:\n",
      "[1] Diversification does not assure a profit. The information herein is general in nature and should not be considered financial advice. An investor should consult a financial professional regarding the investor’s specific situation. 19  ARK Innovation ETF — ARKK\n",
      "TOP 10 HOLDINGSWeight (%)TESLA INC12.9%ROKU INC9.2%COINBASE GLOBAL INC8.8%ROBLOX CORP5.7%BLOCK INC5.7%CRISPR THERAPEUTICS AG4.9%ROBINHOOD MARKETS INC4.8%UIPATH INC4.0%PALANTIR TECHNOLOGIES INC3.7%SHOPIFY INC3.3%63.0%MARKET CAPITALIZATION(%)Mega ($100B+)15.1%Large ($10 - $100B)44.2%Medium ($2 - $10B)34.1%Small ($300M - $2B)6.2%Micro ($50 - $300M)0.0%Holdings are subject to change and should not be considered as investment advice, or a recommendation to buy, sell or hold any particular security. It should not be assumed that an investment in the securities identified was or will be profitable. Source: ARK Investment Management LLC; All data as of June 30, 2024.PORTFOLIO COMPOSITION(%)Intelligent Devices20.5%Autonomous Mobility12.1%Precision Therapies12.0%Neural Networks11.7%Next Gen Cloud11.3%Digital Wallets9.6%Cryptocurrencies6.1%Smart Contracts4.9%Multiomic Technologies4.9%Programmable Biology2.6%Advanced Battery Technologies2.2%Adaptive Robotics2.1%The ARK Innovation ETF aims for multi-cap exposure to innovation across sectors. ARK believes the securities held in ARKK present the best risk-reward opportunities from ARK’s innovation themes.•Ticker:      ARKK•Fund AUM:       $6.04 Billion•Typical Number of Holdings:    35-55 U.S. Equities/U.S.-listed ADRs•Expense Ratio:     0.75%ARK Seeks to Capture Disruptive Innovation\n",
      "SECTORS(%)Health Care21.6%Communication Services21.2%Information Technology20.5%Financials20.3%Consumer Discretionary15.2%Industrials0.9%•20  Thematic Strategies Focused on Disruptive Innovation ARKKARK Innovation ETF\n",
      "ARKWARK Next Generation Internet ETF ARKQARK Autonomous Tech. & Robotics ETF ARKGARK Genomic Revolution ETF ARKFARK Fintech Innovation ETF \n",
      "IZRLIsrael Innovative Technology ETF\n",
      "\n",
      "Document 5: Document ID: 19 source: dense\n",
      "Content:\n",
      "SECTORS(%)Health Care21.6%Communication Services21.2%Information Technology20.5%Financials20.3%Consumer Discretionary15.2%Industrials0.9%•20  Thematic Strategies Focused on Disruptive Innovation ARKKARK Innovation ETF\n",
      "ARKWARK Next Generation Internet ETF ARKQARK Autonomous Tech. & Robotics ETF ARKGARK Genomic Revolution ETF ARKFARK Fintech Innovation ETF \n",
      "IZRLIsrael Innovative Technology ETF\n",
      "PRNTThe 3D Printing ETFARKXARK Space Exploration & Innovation ETFARK Innovation ETFs•21\n",
      "\n"
     ]
    }
   ],
   "source": [
    "queryexpand_answer = run_inference(query_expand, example_user_query, queryexpand_name)"
   ]
  },
  {
   "cell_type": "markdown",
   "id": "d7490f0c-f136-4931-bd3a-6a031e7051eb",
   "metadata": {},
   "source": [
    "Note: In addition to the output you have seen with previous enhancements, we also show the \"expanded prompt\" generated from the first stage of the query expansion. "
   ]
  },
  {
   "cell_type": "markdown",
   "id": "2d43fe2a-d704-4b5f-9fed-67eafa8be7aa",
   "metadata": {},
   "source": [
    "### ENHANCEMENT CODE #7: ULTIMATE COMBO"
   ]
  },
  {
   "cell_type": "markdown",
   "id": "2bde5069-b413-4901-82d8-7dd169889fb4",
   "metadata": {},
   "source": [
    "In this iteration, we take all of the results from below and combine the enhancements with what seems to be the best overall approach.  This allows us to conduct further analysis to the results from our enhancement but also allows us to see how they work together.  \n",
    "\n",
    "Here is the final list of enhancements applied to this pipeline:\n",
    "\n",
    "- Text Splitter - Recursive\n",
    "- LLM - 3.5 Turbo\n",
    "- Search - Hybrid 50/50\n",
    "- query expansion - No\n",
    "- Embedding - large"
   ]
  },
  {
   "cell_type": "code",
   "execution_count": 30,
   "id": "316c5c9a-b3e3-4dd3-bdcd-742d9a567d5d",
   "metadata": {
    "scrolled": true
   },
   "outputs": [
    {
     "name": "stdout",
     "output_type": "stream",
     "text": [
      "Example Question used for ULTIMATE COMBO: What is the core objective of investing in disruptive innovation according to ARK?\n",
      "\n",
      "Relevance Score: 5\n",
      "\n",
      "Final Answer:\n",
      "The core objective of investing in disruptive innovation according to ARK is to access companies at the forefront of technology-enabled innovation, in promising areas of the economy, with potential for long-term growth.\n",
      "\n",
      "\n",
      "Retrieved Documents:\n",
      "Document 1: Document ID: 19 source: dense\n",
      "Content:\n",
      "Note: Numbers are rounded. ARK Investment Management LLC, 2024. This ARK analysis is based on a range of underlying data from external sources as of December 7, 2023, which may be provided upon request. Forecasts are inherently limited and cannot be relied upon. For informational purposes only and should not be considered investment advice or a recommendation to buy, sell, or hold any particular security. Past performance is not indicative of future results.$24$12$0.35With Line of SightWith Visual ObserverAutonomousDrone Delivery Price(10-mile Trip)~50%~90%$0$2$4$6$8$10$12$14$16$18\n",
      "MealApp DeliverySelf PickupDrones(at scale)RollingRobots(at scale)Average Dollars Per OrderFood Delivery Costs (Pre-Tax)MealDelivery Cost\n",
      "With Line-Of-SightWHY INVEST IN DISRUPTIVE INNOVATION?•17  1. Access to Growth Investors who seek to access companies at the forefront of technology-enabled innovation, in some of the most promising areas of the economy, with potential for long-term growth.2. Portfolio DiversificationPotentially Suited for investors who like to diversify their existing portfolio with strategies that offer low correlation to a number of core asset classes held in most investors’ portfolios.3. Moderate-to-High Risk-Reward ProfileA constant focus on secular changes and disruptive innovation can compliment traditional strategies and core portfolios. May be suited for investors who have a moderate-to-high risk profile and intend to stay invested for the medium-to-long term.ARK Seeks to Capture Disruptive Innovation\n",
      "\n",
      "Document 2: Document ID: 0 source: dense\n",
      "Content:\n",
      "•\n",
      "1Why Invest In Disruptive Innovation?\n",
      "Sources: ARK Investment Management LLC, 2024. Forecasts are inherently limited and cannot be relied upon. For informational purposes only and should not be considered investment advice or a recommendation to buy, sell, or hold any particular security. Past performance is not indicative of future results.As of June 30, 2024•Risks of Investing in InnovationPlease note: Companies that ARK believes are capitalizing on disruptive innovation and developing technologies to displace older technologies or create new markets may not in fact do so. ARK aims to educate investors and seeks to size the potential investment opportunity, noting that risks and uncertainties may impact our projections and research models. Investors should use the content presented for informational purposes only, and be aware of market risk, disruptive innovation risk, regulatory risk, and risks related to certain innovation areas. Please read risk disclosure carefully.\n",
      "DISRUPTIVE INNOVATIONRAPID PACE OF CHANGE\n",
      "UNCERTAINTY AND UNKNOWNS EXPOSURE ACROSS SECTORS AND MARKET CAPRISK OF INVESTING IN INNOVATIONREGULATORY HURDLES\n",
      "COMPETITIVE LANDSCAPEPOLITICAL OR LEGAL PRESSURE\n",
      "Sources: ARK Investment Management LLC, 2023.à   Aim to understand the regulatory, market, sector,        and company risks. (See Disclosure Page)à   Aim for a cross-sector understanding of technology   and combine top-down and bottom-up research.2DISCLOSURE3\n",
      "Five Innovation Platforms Are Converging And Defining This Technological Era\n",
      "\n",
      "Document 3: Document ID: 27 source: dense\n",
      "Content:\n",
      ". Disruptive Innovation Risk. Companies that ARK believes are capitalizing on disruptive innovation and developing technologies to displace older technologies or create new markets may not in fact do so. Companies that initially develop a novel technology may not be able to capitalize on the technology. Companies that develop disruptive technologies may face political or legal attacks from competitors, industry groups or local and national governments. These companies may also be exposed to risks applicable to sectors other than the disruptive innovation theme for which they are chosen, and the securities issued by these companies may underperform the securities of other companies that are primarily focused on a particular theme. The Fund’s exposure to cryptocurrency may change over time and, accordingly, such exposure may not always be represented in the Fund’s portfolio. Many significant aspects of the U.S. federal income tax treatment of investments in bitcoin are uncertain and an investment in bitcoin may produce income that is not treated as qualifying income for purposes of the income test applicable to regulated investment companies, such as the Fund. GBTC is expected to be treated as a grantor trust for U.S. federal income tax purposes, and therefore an investment by the Fund in GBTC will generally be treated as a direct investment in bitcoin for such purposes. See ‘‘Taxes’’ in the Fund’s SAI for more information. An investment in an ETF is subject to risks and you can lose money on your investment in an ETF. There can be no assurance that the ETF will achieve its investment objective. The ETF’s portfolio is more volatile than broad market averages. Shares of ARKK are bought and sold at market price (not NAV) and are not individually redeemed from the ETF. ETF shares may only be redeemed directly with the ETF at NAV by Authorized Participants, in very large creation units\n",
      "\n",
      "Document 4: Document ID: 26 source: sparse\n",
      "Content:\n",
      ". The value of the equity securities the Fund holds may fall due to general market and economic conditions. Foreign Securities Risk. Investments in the securities of foreign issuers involve risks beyond those associated with investments in U.S. securities. Health Care Sector Risk. The health care sector may be adversely affected by government regulations and government health care programs. Communications Sector Risk. Companies is this sector may be adversely affected by potential obsolescence of products/services, pricing competition, research and development costs, substantial capital requirements and government regulation. Information Technology Sector Risk. Information technology companies face intense competition, both domestically and internationally, which may have an adverse effect on profit margins. Additional risks of investing in ARKK include equity, market, management and non-diversification risks, as well as fluctuations in market value and NAV. Disruptive Innovation Risk. Companies that ARK believes are capitalizing on disruptive innovation and developing technologies to displace older technologies or create new markets may not in fact do so. Companies that initially develop a novel technology may not be able to capitalize on the technology. Companies that develop disruptive technologies may face political or legal attacks from competitors, industry groups or local and national governments. These companies may also be exposed to risks applicable to sectors other than the disruptive innovation theme for which they are chosen, and the securities issued by these companies may underperform the securities of other companies that are primarily focused on a particular theme. The Fund’s exposure to cryptocurrency may change over time and, accordingly, such exposure may not always be represented in the Fund’s portfolio. Many significant aspects of the U.S\n",
      "\n",
      "Document 5: Document ID: 20 source: dense\n",
      "Content:\n",
      "The information herein is general in nature and should not be considered financial advice. An investor should consult a financial professional regarding the investor’s specific situation. Diversification does not assure a profit. The ARK Innovation ETF (ARKK) Aims to Offer•18  1.Exposure To Innovation: Aims for thematic multi-cap exposure to innovation across sectors. ARK believes the securities held in ARKK present the best risk-reward opportunities from ARK’s innovation-based themes.2.Growth Potential: Aims to capture long-term growth with low correlation of relative returns to traditional growth strategies and negative correlation to value strategies. 3.Tool For Diversification1: Offers a tool for diversification due to little overlap with traditional indices. It can be a complement to traditional value/growth strategies. 4.Grounded In Research: Combines top-down and bottom-up research in its portfolio management to identify innovative companies and convergence across markets.5.Cost Effective: Seeks to provide a lower cost alternative to mutual funds with true active management in an exchange traded fund (ETF) that invests in rapidly moving themes.ARK Seeks to Capture Disruptive Innovation5 Reasons Investors Should Consider ARKK\n",
      "[1] Diversification does not assure a profit. The information herein is general in nature and should not be considered financial advice. An investor should consult a financial professional regarding the investor’s specific situation. 19  ARK Innovation ETF — ARKK\n",
      "\n",
      "Document 6: Document ID: 14 source: dense\n",
      "Content:\n",
      "Sources: ARK Investment Management LLC, 2024. This ARK analysis is based on a range of external sources, which may be provided upon request. Forecasts are inherently limited and cannot be relied upon. For informational purposes only and should not be considered investment advice or a recommendation to buy, sell, or hold any particular security. Past performance is not indicative of future results.$0$100$200$300$400$500$600$700$800$900$1,000\n",
      "LegacyPrecision($ Millions)R&D Cost Per Drug Approval (Including Failures)\n",
      "0%5%10%15%20 %25%30%\n",
      "LegacyPrecisionProbability Of Clinical SuccessClinical Success Probability Innovative Trial Design+ Single-Cell Biology+ Proteomic Techniques+ Virtual Compound Libraries+ Biomarker Development+ Humanized animal models+ Automated Liquid Handling+ Automated Invivomics+ Automated Microsynthesis+ CRISPR “Perturb-Seq” Screens+ Organ-on-a-chip TechnologyArtificial IntelligenceAutomationFundamental Biology\n",
      "+ AI-Enabled Pathway Analysis+ AI-Enabled Toxicity Prediction+ In-Silico Molecular Modeling+ ML-Driven Compound Screens+ Adaptive Clinical Trial Design+ Precision Biomarkers+ Decentralized/Virtual TrialsEfficiency Innovations-48%2.1xWHY INVEST IN DISRUPTIVE INNOVATION?13EVs Have Hit Price-Parity With Internal Combustion Engine VehiclesAs battery costs continue to decline, EV prices should fall, potentially driving exponential growth in unit sales.\n",
      "\n",
      "Document 7: Document ID: 25 source: sparse\n",
      "Content:\n",
      "Contact our ETF Specialists:Rebecca L. Burke Vice President  | National ETF Sales Resolute Investment Managers, Inc.M. 978.609.0553 rebecca.burke@resolutemanagers.comJack Stock, CIMAVice President   |  National ETF SalesResolute Investment Managers, Inc.M. 817.823.5337jack.stock@resolutemanagers.comRyan Hodapp, CFA, CAIAVice President  | National ETF Sales Resolute Investment Managers, Inc.M. 617.279.3571ryan.hodapp@resolutemanagers.comARK Investment Management LLC•22  Investors should carefully consider the investment objectives and risks as well as charges and expenses of an ARK ETF before investing. This and other information are contained in the ARK ETFs’ prospectuses, which may be obtained by visiting www.ark-funds.com. The prospectus should be read carefully before investing. Investing in securities involves risk and there's no guarantee of principal.Fund Risks: The principal risks of investing in the ARKK include: Equity Securities Risk. The value of the equity securities the Fund holds may fall due to general market and economic conditions. Foreign Securities Risk. Investments in the securities of foreign issuers involve risks beyond those associated with investments in U.S. securities. Health Care Sector Risk. The health care sector may be adversely affected by government regulations and government health care programs. Communications Sector Risk. Companies is this sector may be adversely affected by potential obsolescence of products/services, pricing competition, research and development costs, substantial capital requirements and government regulation. Information Technology Sector Risk. Information technology companies face intense competition, both domestically and internationally, which may have an adverse effect on profit margins. Additional risks of investing in ARKK include equity, market, management and non-diversification risks, as well as fluctuations in market value and NAV. Disruptive Innovation Risk\n",
      "\n"
     ]
    }
   ],
   "source": [
    "# use recursive_splits\n",
    "# use baseline_rag_chain (uses 3.5)\n",
    "# use these (with recursive splits, as the previous hybrid version was using the baseline splits):\n",
    "ult_dense_documents = [Document(page_content=doc.page_content, metadata={\"id\": str(i), \"source\": \"dense\"}) for i, doc in enumerate(recursive_splits)]\n",
    "ult_sparse_documents = [Document(page_content=doc.page_content, metadata={\"id\": str(i), \"source\": \"sparse\"}) for i, doc in enumerate(recursive_splits)]\n",
    "\n",
    "# use new vector db for the  new ult_dense_docs and ugraded embeddings\n",
    "ult_dense_vectorstore = Chroma.from_documents(\n",
    "    documents=ult_dense_documents,\n",
    "    embedding=embedding_function_large,\n",
    "    collection_name=ult_collection_name,\n",
    "    client=chroma_client\n",
    ")\n",
    "\n",
    "# this will use the 50/50 weighted hybrid search\n",
    "ult_dense_retriever = ult_dense_vectorstore.as_retriever(search_kwargs={\"k\": 5})\n",
    "ult_sparse_retriever = BM25Retriever.from_documents(ult_sparse_documents, k=5)\n",
    "ult_group = [ult_dense_retriever, ult_sparse_retriever]\n",
    "ult_ensemble_retriever = EnsembleRetriever(retrievers=ult_group, weights=[0.5, 0.5], c=0)\n",
    "\n",
    "ult_final_chain = RunnableParallel(\n",
    "    {\"context\": ult_ensemble_retriever,\n",
    "     \"question\": RunnablePassthrough()\n",
    "}).assign(answer=baseline_rag_chain)\n",
    "\n",
    "ult_answer = run_inference(ult_final_chain, example_user_query, ult_name)"
   ]
  },
  {
   "cell_type": "markdown",
   "id": "bd3214ae-3731-42eb-995c-75a595cb9a40",
   "metadata": {},
   "source": [
    "# OUTPUT ENHANCEMENTS"
   ]
  },
  {
   "cell_type": "markdown",
   "id": "ec392215-e1fb-469b-a92a-2e00ca3bbf2e",
   "metadata": {},
   "source": [
    "I have consolidated the responses from the various enhancements here for easy scanning of the differences."
   ]
  },
  {
   "cell_type": "code",
   "execution_count": 31,
   "id": "d045955a-a878-4296-82b8-9353e53d776b",
   "metadata": {},
   "outputs": [
    {
     "name": "stdout",
     "output_type": "stream",
     "text": [
      "EXAMPLE QUERY USED TO GENERATE RESPONSES BELOW:\n",
      "\n",
      "What is the core objective of investing in disruptive innovation according to ARK?\n",
      "\n"
     ]
    }
   ],
   "source": [
    "print(f\"EXAMPLE QUERY USED TO GENERATE RESPONSES BELOW:\\n\\n{example_user_query}\\n\")"
   ]
  },
  {
   "cell_type": "markdown",
   "id": "86a22f40-9ac0-451f-b4e8-b79e8fbb125c",
   "metadata": {},
   "source": [
    "#### ENHANCEMENT #0: BASELINE/NAIVE RAG"
   ]
  },
  {
   "cell_type": "code",
   "execution_count": 32,
   "id": "0e5f34c4-4ce7-4553-8f98-cd74e8f0a6f2",
   "metadata": {},
   "outputs": [
    {
     "name": "stdout",
     "output_type": "stream",
     "text": [
      "The core objective of investing in disruptive innovation according to ARK is to access companies at the forefront of technology-enabled innovation in promising areas of the economy with potential for long-term growth, diversify portfolios with low correlation to traditional asset classes, and potentially achieve a moderate-to-high risk-reward profile that complements traditional investment strategies.\n"
     ]
    }
   ],
   "source": [
    "print(baseline_answer)"
   ]
  },
  {
   "cell_type": "markdown",
   "id": "3036f71e-43aa-4b73-b185-74519b3da6fb",
   "metadata": {},
   "source": [
    "#### ENHANCEMENT #1: ADVANCED \"CHUNKING\" TECHNIQUE - RECURSIVE SPLITTER RAG"
   ]
  },
  {
   "cell_type": "code",
   "execution_count": 33,
   "id": "2d9d660f-f4ac-4094-b6cd-5220204baf51",
   "metadata": {},
   "outputs": [
    {
     "name": "stdout",
     "output_type": "stream",
     "text": [
      "The core objective of investing in disruptive innovation according to ARK is to access companies at the forefront of technology-enabled innovation in promising areas of the economy with potential for long-term growth, diversify portfolios with low correlation to core asset classes, and complement traditional strategies with a moderate-to-high risk-reward profile.\n"
     ]
    }
   ],
   "source": [
    "print(recursive_answer)"
   ]
  },
  {
   "cell_type": "markdown",
   "id": "vt0WA5gbZrZm",
   "metadata": {
    "id": "vt0WA5gbZrZm"
   },
   "source": [
    "#### ENHANCEMENT #2: HYBRID BASE"
   ]
  },
  {
   "cell_type": "code",
   "execution_count": 34,
   "id": "2ad2d762-c722-4b47-a386-98884d50c337",
   "metadata": {},
   "outputs": [
    {
     "name": "stdout",
     "output_type": "stream",
     "text": [
      "The core objective of investing in disruptive innovation according to ARK is to access companies at the forefront of technology-enabled innovation in promising areas of the economy with potential for long-term growth. It also offers portfolio diversification for investors looking to diversify their existing portfolio with strategies that have low correlation to traditional asset classes and provide a moderate-to-high risk-reward profile. Additionally, investing in disruptive innovation allows investors to focus on secular changes and complement traditional strategies with the potential for long-term growth.\n"
     ]
    }
   ],
   "source": [
    "print(hybrid_answer)"
   ]
  },
  {
   "cell_type": "markdown",
   "id": "p0vqTbfKZcNo",
   "metadata": {
    "id": "p0vqTbfKZcNo"
   },
   "source": [
    "#### ENHANCEMENT #3: GPT-4o"
   ]
  },
  {
   "cell_type": "code",
   "execution_count": 35,
   "id": "0d5bcfab-12df-4cec-832c-e30dc0ba3353",
   "metadata": {},
   "outputs": [
    {
     "name": "stdout",
     "output_type": "stream",
     "text": [
      "The core objective of investing in disruptive innovation according to ARK is to access growth opportunities by investing in companies at the forefront of technology-enabled innovation, which are positioned in some of the most promising areas of the economy with potential for long-term growth. Additionally, ARK aims to provide portfolio diversification and capture long-term growth with a moderate-to-high risk-reward profile, making it suitable for investors who are willing to stay invested for the medium-to-long term.\n"
     ]
    }
   ],
   "source": [
    "print(gpt4o_answer)"
   ]
  },
  {
   "cell_type": "markdown",
   "id": "c7c714f9-29bb-4f42-bb0c-06b18d204f91",
   "metadata": {},
   "source": [
    "#### ENHANCEMENT #4: HYBRID 30/70"
   ]
  },
  {
   "cell_type": "code",
   "execution_count": 36,
   "id": "a61c9e9b-970b-4f6e-a03f-7b8aac91ef25",
   "metadata": {},
   "outputs": [
    {
     "name": "stdout",
     "output_type": "stream",
     "text": [
      "The core objective of investing in disruptive innovation according to ARK is to access companies at the forefront of technology-enabled innovation in promising areas of the economy with potential for long-term growth, diversify portfolios with low correlation to traditional assets, and potentially achieve a moderate-to-high risk-reward profile by focusing on secular changes and disruptive innovation.\n"
     ]
    }
   ],
   "source": [
    "print(hybrid_3070_answer)"
   ]
  },
  {
   "cell_type": "markdown",
   "id": "4457b08b-f499-4e57-b4af-4668ecb812d8",
   "metadata": {},
   "source": [
    "#### ENHANCEMENT #5: Embedding Open Source Alt"
   ]
  },
  {
   "cell_type": "code",
   "execution_count": 37,
   "id": "22ecdbf4-b8ba-4e8d-a46d-e49097742a5f",
   "metadata": {},
   "outputs": [
    {
     "name": "stdout",
     "output_type": "stream",
     "text": [
      "The core objective of investing in disruptive innovation according to ARK is to access companies at the forefront of technology-enabled innovation in promising areas of the economy with potential for long-term growth, diversify portfolios with low correlation to traditional asset classes, and potentially achieve a moderate-to-high risk-reward profile that complements traditional investment strategies.\n"
     ]
    }
   ],
   "source": [
    "print(newembed_answer)"
   ]
  },
  {
   "cell_type": "markdown",
   "id": "ad423659-95e8-4321-b673-107b4348408c",
   "metadata": {
    "executionInfo": {
     "elapsed": 3,
     "status": "ok",
     "timestamp": 1718829543927,
     "user": {
      "displayName": "",
      "userId": ""
     },
     "user_tz": 240
    },
    "id": "8cdf0e41-6362-465c-a8de-6af3c51ac5e2"
   },
   "source": [
    "#### ENHANCEMENT #6: Query Expansion"
   ]
  },
  {
   "cell_type": "code",
   "execution_count": 38,
   "id": "22020221-beee-4ff7-817b-1db747c74276",
   "metadata": {},
   "outputs": [
    {
     "name": "stdout",
     "output_type": "stream",
     "text": [
      "The core objective of investing in disruptive innovation according to ARK is to identify and capitalize on transformative technologies that have the potential to significantly alter industries and create new markets. ARK believes that these innovations can lead to exponential growth opportunities driven by advancements in areas such as artificial intelligence, genomics, robotics, and blockchain technology. By focusing on companies at the forefront of these disruptive trends, ARK aims to generate superior long-term returns for investors.\n"
     ]
    }
   ],
   "source": [
    "print(queryexpand_answer)"
   ]
  },
  {
   "cell_type": "markdown",
   "id": "e41fe1e9-a042-4fc9-a883-e4ee161ef6c1",
   "metadata": {},
   "source": [
    "#### ENHANCEMENT #7: ULTIMATE ENHANCEMENT COMBINATION (BEST OF):"
   ]
  },
  {
   "cell_type": "code",
   "execution_count": 39,
   "id": "5dcef836-139d-48c3-9377-4b33bb2132f0",
   "metadata": {},
   "outputs": [
    {
     "name": "stdout",
     "output_type": "stream",
     "text": [
      "The core objective of investing in disruptive innovation according to ARK is to access companies at the forefront of technology-enabled innovation, in promising areas of the economy, with potential for long-term growth.\n"
     ]
    }
   ],
   "source": [
    "print(ult_answer)"
   ]
  },
  {
   "cell_type": "markdown",
   "id": "789823aa-702a-42b3-8abc-293201e7872f",
   "metadata": {
    "id": "8b30177a-f9ab-45e4-812d-33b0f97325bd",
    "scrolled": true
   },
   "source": [
    "# EVALUATION SECTION"
   ]
  },
  {
   "cell_type": "markdown",
   "id": "4754af89-41b8-4007-83eb-af6a2f5c4242",
   "metadata": {},
   "source": [
    "### Evaluation Introduction"
   ]
  },
  {
   "cell_type": "markdown",
   "id": "72ea9721-100d-4967-801e-b6799faf017e",
   "metadata": {
    "jp-MarkdownHeadingCollapsed": true
   },
   "source": [
    "[Back to top](#ARK-Disruptive-Innovation-Insights)\n",
    "\n",
    "<b>Assignment Task for Evaluation Metrics</b>: Develop an extensive range of metrics to assess the retrieval task, the answer synthesis task, and the overall system performance, ensuring that each component's effectiveness is thoroughly evaluated.\n",
    "\n",
    "#### Evaluation Description:\n",
    "\n",
    "Using standardized evaluation frameworks and benchmarks offers a valuable starting point for comparing the performance of different components in your RAG pipeline. They cover a wide range of tasks and domains, allowing you to assess the strengths and weaknesses of various approaches. By considering the results on these benchmarks, along with other factors like computational efficiency and ease of integration, you can narrow down your options and make better-informed decisions when selecting the most suitable components for your specific RAG application. For example, you can look at the MTEB benchmarks (https://huggingface.co/spaces/mteb/leaderboard) to see the two OpenAI embedding models overall rankings and scores (as of Sept 1):\n",
    "\n",
    "text-embedding-ada-002 (what we used for baseline):\n",
    "- rank: 99\n",
    "- average retrieval score: 49.25\n",
    "\n",
    "text-embedding-3-large (what we used for an enhancement): \n",
    "- rank: 29 \n",
    "- average retrieval score: 55.44\n",
    "\n",
    "Your immediate thought should be well what is ranked #1?  What did it score?  How do any of these models do on financial domain-specific benchmarks?  We will talk more about better embedding models in the final thoughts, but these are the kinds of questions that these benchmarks can be useful in answering! But just to quench your curiosity, the current best model is Nvidia's new model 'NV-Embed-v2' just released on Friday, with an average retrieval score of 62.65.\n",
    "\n",
    "However, it's important to note that while these standardized evaluation metrics are helpful for initial component selection or for looking for places for potential improvement over your current implementation, they may not fully capture the performance of your specific RAG pipeline with your unique inputs and outputs. To truly understand how well your RAG system performs in your particular use case, you need to set up your own evaluation framework tailored to your specific requirements. This customized evaluation system will provide the most accurate and relevant insights into the performance of your RAG pipeline.\n",
    "\n",
    "#### Ragas Evaluation Platform\n",
    "\n",
    "Retrieval Augmented Generation Assessment (ragas) is an evaluation platform designed specifically for RAG.  We will use ragas to generate synthetic ground truth and then establish a comprehensive set of metrics to evaluate changes to the RAG system. Here is a link to the ragas documentation:\n",
    "\n",
    "ttps://docs.ragas.io/\n",
    "\n",
    "For each step, we will evaluate the enhancement against the baseline.  This allows you to compare each enhancement in isolation.  \n",
    "RAG has two primary stages of action when it is engaged: retrieval and generation. When evaluating a RAG system, you can break down your evaluation by those two categories as well. Let’s first talk about evaluating retrieval.\n",
    "\n",
    "#### Retrieval evaluation\n",
    "Retrieval Evaluation is focused on assessing the accuracy and relevance of the documents that were retrieved. For retrieval, ragas has two metrics called context precision and context recall (quoted from their website):\n",
    "\n",
    "- context_precision: The signal-to-noise ratio of retrieved context. Context Precision is a metric that evaluates whether all of the ground truth-relevant items present in the contexts are ranked higher or not. Ideally, all the relevant chunks must appear at the top ranks. This metric is computed using the question, ground_truth, and the contexts, with values ranging between 0 and 1, where higher scores indicate better precision.\n",
    "\n",
    "- context_recall: Can it retrieve all the relevant information required to answer the question? Context recall measures the extent to which the retrieved context aligns with the annotated answer, treated as the ground truth. It is computed based on the ground truth and the retrieved context, and the values range between 0 and 1, with higher values indicating better performance.\n",
    "\n",
    "#### Generation evaluation (answer synthesis)\n",
    "Generation evaluation measures the appropriateness of the response generated by the system when the context is provided.  We do this with ragas using these two metrics, as described on the ragas documentation website:\n",
    "\n",
    "- faithfullness: How factually accurate is the generated answer? This measures the factual consistency of the generated answer against the given context. It is calculated from the answer and retrieved context. The answer is scaled to a (0,1) range, with higher being better.\n",
    "\n",
    "- answer_relevancy: How relevant is the generated answer to the question? Answer relevancy focuses on assessing how pertinent the generated answer is to the given prompt. A lower score is assigned to answers that are incomplete or contain redundant information and higher scores indicate better relevancy. This metric is computed using the question, the context and the answer.\n",
    "\n",
    "#### End-to-End evaluation (overall system performance)\n",
    "Beyond providing the metrics for evaluating each stage of RAG pipeline in isolation, ragas provides metrics for the entire RAG system, called end-to-end evaluation. End-to-End metrics are for evaluating the end-to-end performance of a pipeline, gauging the overall experience of using the pipeline. Combining these metrics provides a comprehensive evaluation of the RAG pipeline.  We do this with ragas using these two metrics, as described on the ragas documentation website:\n",
    "\n",
    "- answer_correctness: Gauges the accuracy of the generated answer when compared to the ground truth. The assessment of answer correctness involves gauging the accuracy of the generated answer when compared to the ground truth. This evaluation relies on the ground truth and the answer, with scores ranging from 0 to 1. A higher score indicates a closer alignment between the generated answer and the ground truth, signifying better correctness.\n",
    "\n",
    "- answer_similarity: Assesses the semantic resemblance between the generated answer and the ground truth. The concept of answer semantic similarity pertains to the assessment of the semantic resemblance between the generated answer and the ground truth. This evaluation is based on the ground truth and the answer, with values falling within the range of 0 to 1. A higher score signifies a better alignment between the generated answer and the ground truth.\n",
    " \n",
    "Evaluating the end-to-end performance of a pipeline is also crucial, as it directly affects the user experience and helps to ensure a comprehensive evaluation."
   ]
  },
  {
   "cell_type": "markdown",
   "id": "X7Jsr-wYaMtQ",
   "metadata": {
    "id": "X7Jsr-wYaMtQ"
   },
   "source": [
    "### SYNTHETIC DATA GENERATION"
   ]
  },
  {
   "attachments": {},
   "cell_type": "markdown",
   "id": "b0cb96f0-376e-43a8-afb9-461e2bb43005",
   "metadata": {},
   "source": [
    "Ground truth is a key element for us to conduct this evaluation analysis. But while you (TIFIN) provided evaluation questions, you did not provide any ground truth...\n",
    "\n",
    "<b>Oh no!</b>\n",
    "\n",
    "No problem! We can use ragas to generate synthetic data for this purpose.  Ragas gives you the ability to define the types of questions you want to generate, so in this case, we will use the following distribution:\n",
    "\n",
    "- simple questions comprising 34%\n",
    "- reasoning questions 33%\n",
    "- multi_context questions 33%\n",
    "\n",
    "Initially, we will synthesize 20 questions with ground truth answers to use for the following evaluations.  In a \"real world\" scenario, we would discuss this distribution, and possibly even add our own category and question types.  We do not get into the individual analysis of each question type in this evaluation, where you might see that a certain RAG pipeline does better with multi_context questions than reasoning questions, but that is also a possibility with the way this framework is set up!\n",
    "\n",
    "<b>TIFIN Validation Set</b>: We will use the evaluation questions provided by TIFIN as our final validation set using metrics that do not require ground truth (called reference-free metrics).  This multi-tier approach to evaluation reduces the risk of data leakage and over-fitting and aligns with common practices in machine learning development (with test and validation data sets)."
   ]
  },
  {
   "cell_type": "code",
   "execution_count": null,
   "id": "aDqo-x7g3gS5",
   "metadata": {
    "executionInfo": {
     "elapsed": 1264,
     "status": "ok",
     "timestamp": 1718829861389,
     "user": {
      "displayName": "",
      "userId": ""
     },
     "user_tz": 240
    },
    "id": "aDqo-x7g3gS5"
   },
   "outputs": [],
   "source": [
    "# generator with openai models\n",
    "generator = TestsetGenerator.from_langchain(\n",
    "    generator_llm,\n",
    "    critic_llm,\n",
    "    embedding_function\n",
    ")"
   ]
  },
  {
   "cell_type": "code",
   "execution_count": null,
   "id": "Sa8ZqrCnaP6w",
   "metadata": {
    "colab": {
     "base_uri": "https://localhost:8080/",
     "height": 84,
     "referenced_widgets": [
      "b62df6984dae4804961b831230d27726",
      "be8ef0edf66c4998bb75ee2a280fe058",
      "aaf4bf8c0e044d3fb4ff3c38e9ecfc0d",
      "2958881693c94a27b7927af3bcc144f5",
      "894b24a4c6b14591a12772cb96b63faa",
      "8c38f5d864114f178e0875c8795e91d8",
      "a75976d6f7fb4fa9b98b218d02a738da",
      "d733475b072d4c7894ad6ecd2ebc6029",
      "e2444fdd626045a9a323a792512a1bf4",
      "7927111dda3a41808138e3db8b482e01",
      "4f7773428f2c49cba7a44b871c4433ec",
      "e953963c139c4cebb1b81e18a5d51d71",
      "56108ddc649541afa9317606df743043",
      "d7f68735fb2543f5ba8481f5dc8e48b0",
      "f9bb615eb360473d9859ca45ebc50f9f",
      "d7f39e0e03c64520916b54105d3015cb",
      "bac8c40fa6b8497a9d0bf265e4f07be9",
      "ff412fba3e4d4c69b2b8199440de0ebc",
      "be78e520f0e44c55963d01864c0b060c",
      "55447c0281894d14a62988c35035be8c",
      "48bf2662ca5c44ab9d5701cf3d50b9f7",
      "2516efe6c2ba47ef8abfb5a85a802f29"
     ]
    },
    "executionInfo": {
     "elapsed": 69414,
     "status": "ok",
     "timestamp": 1718829937522,
     "user": {
      "displayName": "",
      "userId": ""
     },
     "user_tz": 240
    },
    "id": "Sa8ZqrCnaP6w",
    "outputId": "2755b2a8-bea3-4e41-86f8-d56d8fbb4acd"
   },
   "outputs": [],
   "source": [
    "# # Extract text from PDF\n",
    "pdf_reader = PdfReader(pdf_path)\n",
    "text = \"\"\n",
    "for page in pdf_reader.pages:\n",
    "    text += page.extract_text()\n",
    "\n",
    "# Split recursively, but not using Document objects\n",
    "splits = recursive_splitter.split_text(text)\n",
    "\n",
    "# Create a list of Document objects from the chunks\n",
    "documents = [Document(page_content=chunk) for chunk in splits]\n",
    "\n",
    "#### FOR FOLLOWING CODE: Uncomment and run once to generate a source for the test dataset! ####\n",
    "# generate testset -\n",
    "testset = generator.generate_with_langchain_docs(\n",
    "    documents,\n",
    "    test_size=20,\n",
    "    distributions={\n",
    "        simple: 0.34,\n",
    "        reasoning: 0.33,\n",
    "        multi_context: 0.33\n",
    "    }\n",
    ")"
   ]
  },
  {
   "cell_type": "code",
   "execution_count": null,
   "id": "GGHFs-I8C8TB",
   "metadata": {
    "colab": {
     "base_uri": "https://localhost:8080/"
    },
    "executionInfo": {
     "elapsed": 160,
     "status": "ok",
     "timestamp": 1718829952300,
     "user": {
      "displayName": "",
      "userId": ""
     },
     "user_tz": 240
    },
    "id": "GGHFs-I8C8TB",
    "outputId": "4fef0c58-5d5b-4997-9359-f783f3a1fde1"
   },
   "outputs": [],
   "source": [
    "# comparison dataframe\n",
    "testset_df = testset.to_pandas()\n",
    "\n",
    "# save dataframes to CSV files in the specified directory\n",
    "testset_df.to_csv(os.path.join('testset_data.csv'), index=False)\n",
    "\n",
    "print(\"testset DataFrame saved successfully in the local directory.\")"
   ]
  },
  {
   "cell_type": "code",
   "execution_count": null,
   "id": "1263f1c0-396b-4079-a5eb-579a135da0dd",
   "metadata": {},
   "outputs": [],
   "source": [
    "# Inference sometimes fails, resulting in a nan for ground truth, lets clean those out:\n",
    "# Read the input CSV file\n",
    "df = pd.read_csv('testset_data.csv')\n",
    "\n",
    "# Remove rows with nan values in the ground_truth column\n",
    "df = df[df['ground_truth'].notna()]\n",
    "\n",
    "# Save the updated DataFrame to a new CSV file\n",
    "df.to_csv('processed_testset_data.csv', index=False)\n",
    "\n",
    "#### ONCE THIS CODE HAS RUN, WILL HAVE TEST DATASET IN CSV, DONT RUN AGAIN, $$$"
   ]
  },
  {
   "cell_type": "code",
   "execution_count": 46,
   "id": "GlvSvmK_csVe",
   "metadata": {
    "colab": {
     "base_uri": "https://localhost:8080/",
     "height": 310
    },
    "executionInfo": {
     "elapsed": 150,
     "status": "ok",
     "timestamp": 1718829954195,
     "user": {
      "displayName": "",
      "userId": ""
     },
     "user_tz": 240
    },
    "id": "GlvSvmK_csVe",
    "outputId": "ce04e8bb-ba29-4b32-9b3b-19ee08b0213a"
   },
   "outputs": [
    {
     "name": "stdout",
     "output_type": "stream",
     "text": [
      "testset DataFrame loaded successfully from local directory.\n"
     ]
    },
    {
     "data": {
      "text/html": [
       "<div>\n",
       "<style scoped>\n",
       "    .dataframe tbody tr th:only-of-type {\n",
       "        vertical-align: middle;\n",
       "    }\n",
       "\n",
       "    .dataframe tbody tr th {\n",
       "        vertical-align: top;\n",
       "    }\n",
       "\n",
       "    .dataframe thead th {\n",
       "        text-align: right;\n",
       "    }\n",
       "</style>\n",
       "<table border=\"1\" class=\"dataframe\">\n",
       "  <thead>\n",
       "    <tr style=\"text-align: right;\">\n",
       "      <th></th>\n",
       "      <th>question</th>\n",
       "      <th>contexts</th>\n",
       "      <th>ground_truth</th>\n",
       "      <th>evolution_type</th>\n",
       "      <th>metadata</th>\n",
       "      <th>episode_done</th>\n",
       "    </tr>\n",
       "  </thead>\n",
       "  <tbody>\n",
       "    <tr>\n",
       "      <th>0</th>\n",
       "      <td>What should investors consider when buying or ...</td>\n",
       "      <td>['. Buying or selling ETF shares on an exchang...</td>\n",
       "      <td>Investors should consider that buying or selli...</td>\n",
       "      <td>simple</td>\n",
       "      <td>[{}]</td>\n",
       "      <td>True</td>\n",
       "    </tr>\n",
       "    <tr>\n",
       "      <th>1</th>\n",
       "      <td>What factors influence the clinical success pr...</td>\n",
       "      <td>['Sources: ARK Investment Management LLC, 2024...</td>\n",
       "      <td>The factors influencing the clinical success p...</td>\n",
       "      <td>simple</td>\n",
       "      <td>[{}]</td>\n",
       "      <td>True</td>\n",
       "    </tr>\n",
       "    <tr>\n",
       "      <th>2</th>\n",
       "      <td>What are the potential benefits of investing i...</td>\n",
       "      <td>['. Autonomy should reduce the cost of taxi, d...</td>\n",
       "      <td>The potential benefits of investing in disrupt...</td>\n",
       "      <td>simple</td>\n",
       "      <td>[{}]</td>\n",
       "      <td>True</td>\n",
       "    </tr>\n",
       "    <tr>\n",
       "      <th>3</th>\n",
       "      <td>What role do adaptive robots play in transform...</td>\n",
       "      <td>['. Autonomy should reduce the cost of taxi, d...</td>\n",
       "      <td>Adaptive Robots, catalyzed by artificial intel...</td>\n",
       "      <td>simple</td>\n",
       "      <td>[{}]</td>\n",
       "      <td>True</td>\n",
       "    </tr>\n",
       "    <tr>\n",
       "      <th>4</th>\n",
       "      <td>What impact does generative AI have on the cos...</td>\n",
       "      <td>[\"Post 1997 assumes constant words per employe...</td>\n",
       "      <td>Generative AI lowers the cost of user-generate...</td>\n",
       "      <td>simple</td>\n",
       "      <td>[{}]</td>\n",
       "      <td>True</td>\n",
       "    </tr>\n",
       "  </tbody>\n",
       "</table>\n",
       "</div>"
      ],
      "text/plain": [
       "                                            question  \\\n",
       "0  What should investors consider when buying or ...   \n",
       "1  What factors influence the clinical success pr...   \n",
       "2  What are the potential benefits of investing i...   \n",
       "3  What role do adaptive robots play in transform...   \n",
       "4  What impact does generative AI have on the cos...   \n",
       "\n",
       "                                            contexts  \\\n",
       "0  ['. Buying or selling ETF shares on an exchang...   \n",
       "1  ['Sources: ARK Investment Management LLC, 2024...   \n",
       "2  ['. Autonomy should reduce the cost of taxi, d...   \n",
       "3  ['. Autonomy should reduce the cost of taxi, d...   \n",
       "4  [\"Post 1997 assumes constant words per employe...   \n",
       "\n",
       "                                        ground_truth evolution_type metadata  \\\n",
       "0  Investors should consider that buying or selli...         simple     [{}]   \n",
       "1  The factors influencing the clinical success p...         simple     [{}]   \n",
       "2  The potential benefits of investing in disrupt...         simple     [{}]   \n",
       "3  Adaptive Robots, catalyzed by artificial intel...         simple     [{}]   \n",
       "4  Generative AI lowers the cost of user-generate...         simple     [{}]   \n",
       "\n",
       "   episode_done  \n",
       "0          True  \n",
       "1          True  \n",
       "2          True  \n",
       "3          True  \n",
       "4          True  "
      ]
     },
     "execution_count": 46,
     "metadata": {},
     "output_type": "execute_result"
    }
   ],
   "source": [
    "# pull data from saved testset, rather than generating above\n",
    "### load dataframs from CSV file\n",
    "saved_testset_df = pd.read_csv(os.path.join('processed_testset_data.csv'))\n",
    "print(\"testset DataFrame loaded successfully from local directory.\")\n",
    "saved_testset_df.head(5)"
   ]
  },
  {
   "cell_type": "markdown",
   "id": "DJM33u_1c4-D",
   "metadata": {
    "id": "DJM33u_1c4-D"
   },
   "source": [
    "### PREPARE DATASET BASED ON SYNTHESIZED DATA"
   ]
  },
  {
   "cell_type": "code",
   "execution_count": 47,
   "id": "7RcpHhh2c4QH",
   "metadata": {
    "executionInfo": {
     "elapsed": 160,
     "status": "ok",
     "timestamp": 1718830146610,
     "user": {
      "displayName": "",
      "userId": ""
     },
     "user_tz": 240
    },
    "id": "7RcpHhh2c4QH"
   },
   "outputs": [],
   "source": [
    "# Convert the DataFrame to a dictionary\n",
    "saved_testing_data = saved_testset_df.astype(str).to_dict(orient='list')\n",
    "\n",
    "# Create the testing_dataset\n",
    "saved_testing_dataset = Dataset.from_dict(saved_testing_data)\n",
    "\n",
    "# Update the testing_dataset to include ONLY these columns -\n",
    "# \"question\", \"ground_truth\", \"answer\", \"contexts\"\n",
    "saved_testing_dataset_sm = saved_testing_dataset.remove_columns([\"evolution_type\", \"episode_done\"])"
   ]
  },
  {
   "cell_type": "code",
   "execution_count": 48,
   "id": "pVBD6b1Zc7n6",
   "metadata": {
    "colab": {
     "base_uri": "https://localhost:8080/"
    },
    "executionInfo": {
     "elapsed": 167,
     "status": "ok",
     "timestamp": 1718830148680,
     "user": {
      "displayName": "",
      "userId": ""
     },
     "user_tz": 240
    },
    "id": "pVBD6b1Zc7n6",
    "outputId": "24fd74d3-f2c4-4b46-f04d-cccb04dea5d0"
   },
   "outputs": [
    {
     "data": {
      "text/plain": [
       "Dataset({\n",
       "    features: ['question', 'contexts', 'ground_truth', 'metadata'],\n",
       "    num_rows: 18\n",
       "})"
      ]
     },
     "execution_count": 48,
     "metadata": {},
     "output_type": "execute_result"
    }
   ],
   "source": [
    "saved_testing_dataset_sm"
   ]
  },
  {
   "cell_type": "markdown",
   "id": "0cc68454-c20f-42c8-94ee-da31606eadff",
   "metadata": {},
   "source": [
    "At this point, we have 18 question/answer pairs that we can use to evaluate each of our pipelines against the baseline.  We will start by generating the baseline scores that all other scores will be compared against."
   ]
  },
  {
   "cell_type": "markdown",
   "id": "3TNKvrXOerLq",
   "metadata": {
    "id": "3TNKvrXOerLq"
   },
   "source": [
    "### EVAL SETS FOR EACH CHAIN"
   ]
  },
  {
   "cell_type": "code",
   "execution_count": 49,
   "id": "6HrK-klXqn4v",
   "metadata": {
    "executionInfo": {
     "elapsed": 241,
     "status": "ok",
     "timestamp": 1718830746371,
     "user": {
      "displayName": "",
      "userId": ""
     },
     "user_tz": 240
    },
    "id": "6HrK-klXqn4v"
   },
   "outputs": [],
   "source": [
    "# Function to generate answers using the RAG chain\n",
    "def generate_answer(question, ground_truth, rag_chain):\n",
    "    result = rag_chain.invoke(question)\n",
    "    return {\n",
    "        \"question\": question,\n",
    "        \"answer\": result[\"answer\"][\"final_answer\"],\n",
    "        \"contexts\": [doc.page_content for doc in result[\"context\"]],\n",
    "        \"ground_truth\": ground_truth\n",
    "    }"
   ]
  },
  {
   "cell_type": "code",
   "execution_count": 50,
   "id": "eab4a9e0-4895-4613-94bd-9cc3a55e25df",
   "metadata": {},
   "outputs": [],
   "source": [
    "## EVALUATION VARIABLES AND HELPER FUNCTIONS \n",
    "# Analysis that consolidates everything into easier-to-read scores\n",
    "# key columns to compare\n",
    "key_columns = [\n",
    "    'faithfulness',\n",
    "    'answer_relevancy',\n",
    "    'context_precision',\n",
    "    'context_recall',\n",
    "    'answer_correctness',\n",
    "    'answer_similarity'\n",
    "]\n",
    "\n",
    "ref_free_key_columns = ['faithfulness','answer_relevancy']\n",
    "\n",
    "metrics_to_track = [\n",
    "        faithfulness,\n",
    "        answer_relevancy,\n",
    "        context_precision,\n",
    "        context_recall,\n",
    "        answer_correctness,\n",
    "        answer_similarity\n",
    "    ]\n",
    "\n",
    "ref_free_metrics_to_track = [\n",
    "        faithfulness,\n",
    "        answer_relevancy\n",
    "    ]\n",
    "\n",
    "baseline_run = \"baseline_run\"\n",
    "recursive_run = \"recursive_run\"\n",
    "hybrid_run = \"hybrid_run\"\n",
    "gpt4o_run = \"gpt4o_run\"\n",
    "hybrid_3070_run = \"hybrid3070_run\"\n",
    "newembed_run = \"new_embeddings_run\"\n",
    "queryexpand_run = \"query_expansion_run\"\n",
    "ult_run = \"ult_combo_run\"\n",
    "tifin_eval_utl_run = \"tifin_eval_run\"\n",
    "\n",
    "def generate_comparisons(new_df, run_name):\n",
    "    \n",
    "    baseline_run = \"baseline_run\"\n",
    "    new_means = new_df[key_columns].mean()\n",
    "    \n",
    "    # comparison dataframe\n",
    "    comparison_df = pd.DataFrame({baseline_run: baseline_means, run_name: new_means})\n",
    "    \n",
    "    # difference between the means\n",
    "    comparison_df['Difference'] = comparison_df[run_name] - comparison_df[baseline_run] \n",
    "    \n",
    "    new_df.to_csv(os.path.join(f'{run_name}_data.csv'), index=False)\n",
    "    comparison_df.to_csv(os.path.join(f'{run_name}_comparison_data.csv'), index=True)\n",
    "    \n",
    "    print(\"Dataframes saved successfully in the local directory.\")\n",
    "\n",
    "    ### load dataframes from CSV files\n",
    "    comparison_df = pd.read_csv(os.path.join(f'{run_name}_comparison_data.csv'), index_col=0)\n",
    "    \n",
    "    print(\"Dataframes loaded successfully from the local directory.\")\n",
    "    \n",
    "    # Analysis that consolidates everything into easier to read scores\n",
    "    print(\"Performance Comparison:\")\n",
    "    print(\"\\n**Retrieval**:\")\n",
    "    print(comparison_df.loc[['context_precision', 'context_recall']])\n",
    "    print(\"\\n**Generation**:\")\n",
    "    print(comparison_df.loc[['faithfulness', 'answer_relevancy']])\n",
    "    print(\"\\n**End-to-end evaluation**:\")\n",
    "    print(comparison_df.loc[['answer_correctness', 'answer_similarity']])\n",
    "\n",
    "    # plotting - create subplots for each category with increased spacing\n",
    "    fig, axes = plt.subplots(3, 1, figsize=(12, 18), sharex=False)\n",
    "    bar_width = 0.35\n",
    "    categories = ['Retrieval', 'Generation', 'End-to-end evaluation']\n",
    "    metrics = [\n",
    "        ['context_precision', 'context_recall'],\n",
    "        ['faithfulness', 'answer_relevancy'],\n",
    "        ['answer_correctness', 'answer_similarity']\n",
    "    ]\n",
    "    \n",
    "    # iterate over each category and plot the corresponding metrics\n",
    "    for i, (category, metric_list) in enumerate(zip(categories, metrics)):\n",
    "        ax = axes[i]\n",
    "        x = range(len(metric_list))\n",
    "    \n",
    "        # plot bars for Similarity Run (hex color #D51900)\n",
    "        similarity_bars = ax.bar(x, comparison_df.loc[metric_list, baseline_run], width=bar_width, label=baseline_run, color='#D51900', hatch='///')\n",
    "    \n",
    "        # add values to Similarity Run bars\n",
    "        for bar in similarity_bars:\n",
    "            height = bar.get_height()\n",
    "            ax.text(bar.get_x() + bar.get_width() / 2, height, f'{height:.1%}', ha='center', va='bottom', fontsize=10)\n",
    "    \n",
    "        # plot bars for Hybrid Run (hex color #992111)\n",
    "        hybrid_bars = ax.bar([i + bar_width for i in x], comparison_df.loc[metric_list, run_name], width=bar_width, label=run_name, color='#992111', hatch='\\\\\\\\\\\\')\n",
    "    \n",
    "        # add values to Hybrid Run bars\n",
    "        for bar in hybrid_bars:\n",
    "            height = bar.get_height()\n",
    "            ax.text(bar.get_x() + bar.get_width() / 2, height, f'{height:.1%}', ha='center', va='bottom', fontsize=10)\n",
    "    \n",
    "        ax.set_title(category, fontsize=14, pad=20)\n",
    "        ax.set_xticks([i + bar_width / 2 for i in x])\n",
    "        ax.set_xticklabels(metric_list, rotation=45, ha='right', fontsize=12)\n",
    "    \n",
    "        # move the legend to the bottom right corner\n",
    "        ax.legend(fontsize=12, loc='lower right', bbox_to_anchor=(1, 1))\n",
    "    \n",
    "    # Add overall labels and title\n",
    "    fig.text(0.04, 0.5, 'Scores', va='center', rotation='vertical', fontsize=14)\n",
    "    fig.suptitle('Performance Comparison', fontsize=16)\n",
    "    \n",
    "    # adjust the spacing between subplots and increase the top margin\n",
    "    plt.tight_layout(rect=[0.05, 0.03, 1, 0.95])\n",
    "    plt.subplots_adjust(hspace=0.6, top=0.92)\n",
    "    plt.show()\n",
    "\n",
    "def generate_comparisons_reference_free(baseline_means, new_df, run_name):\n",
    "    \n",
    "    baseline_run = \"baseline_run\"\n",
    "        \n",
    "    new_means = new_df[ref_free_key_columns].mean()\n",
    "    \n",
    "    # comparison dataframe\n",
    "    comparison_df = pd.DataFrame({baseline_run: baseline_means, run_name: new_means})\n",
    "    \n",
    "    # difference between the means\n",
    "    comparison_df['Difference'] = comparison_df[run_name] - comparison_df[baseline_run] \n",
    "    \n",
    "    new_df.to_csv(os.path.join(f'{run_name}_data.csv'), index=False)\n",
    "    comparison_df.to_csv(os.path.join(f'{run_name}_comparison_data.csv'), index=True)\n",
    "    \n",
    "    print(\"Dataframes saved successfully in the local directory.\")\n",
    "\n",
    "\n",
    "    ### load dataframes from CSV files\n",
    "    comparison_df = pd.read_csv(os.path.join(f'{run_name}_comparison_data.csv'), index_col=0)\n",
    "    \n",
    "    print(\"Dataframes loaded successfully from the local directory.\")\n",
    "\n",
    "    # Analysis that consolidates everything into easier to read scores\n",
    "    print(\"Performance Comparison:\")\n",
    "    print(\"\\n**Generation**:\")\n",
    "    print(comparison_df.loc[ref_free_key_columns])\n",
    "    \n",
    "    categories = ['Generation']\n",
    "    metrics = [ref_free_key_columns]\n",
    "    \n",
    "    # plotting - create subplots for each category with increased spacing\n",
    "    fig, ax = plt.subplots(figsize=(12, 6))\n",
    "    bar_width = 0.35\n",
    "    \n",
    "    # iterate over each category and plot the corresponding metrics\n",
    "    for i, (category, metric_list) in enumerate(zip(categories, metrics)):\n",
    "        x = range(len(metric_list))\n",
    "    \n",
    "        # plot bars for Similarity Run (hex color #D51900)\n",
    "        similarity_bars = ax.bar(x, comparison_df.loc[metric_list, baseline_run], width=bar_width, label=baseline_run, color='#D51900', hatch='///')\n",
    "    \n",
    "        # add values to Similarity Run bars\n",
    "        for bar in similarity_bars:\n",
    "            height = bar.get_height()\n",
    "            ax.text(bar.get_x() + bar.get_width() / 2, height, f'{height:.1%}', ha='center', va='bottom', fontsize=10)\n",
    "    \n",
    "        # plot bars for Hybrid Run (hex color #992111)\n",
    "        hybrid_bars = ax.bar([i + bar_width for i in x], comparison_df.loc[metric_list, run_name], width=bar_width, label=run_name, color='#992111', hatch='\\\\\\\\\\\\')\n",
    "    \n",
    "        # add values to Hybrid Run bars\n",
    "        for bar in hybrid_bars:\n",
    "            height = bar.get_height()\n",
    "            ax.text(bar.get_x() + bar.get_width() / 2, height, f'{height:.1%}', ha='center', va='bottom', fontsize=10)\n",
    "    \n",
    "        ax.set_title(category, fontsize=14, pad=30)  # Increase the padding to push the title down\n",
    "        ax.set_xticks([i + bar_width / 2 for i in x])\n",
    "        ax.set_xticklabels(metric_list, rotation=45, ha='right', fontsize=12)\n",
    "    \n",
    "        # move the legend to the bottom right corner\n",
    "        ax.legend(fontsize=12, loc='lower right', bbox_to_anchor=(1, 1))\n",
    "    \n",
    "    # Add overall labels and title\n",
    "    fig.text(0.04, 0.5, 'Scores', va='center', rotation='vertical', fontsize=14)\n",
    "    fig.suptitle('Performance Comparison', fontsize=16)\n",
    "    \n",
    "    # adjust the spacing between subplots and increase the top margin\n",
    "    plt.tight_layout(rect=[0.05, 0.03, 1, 0.95])\n",
    "    plt.subplots_adjust(top=0.85)  # Increase the top margin to push the chart down\n",
    "    plt.show()"
   ]
  },
  {
   "cell_type": "markdown",
   "id": "be8404d9-3ae5-4d8b-adff-21b8adc6b079",
   "metadata": {},
   "source": [
    "### ENHANCEMENT #0 EVAL: BASELINE"
   ]
  },
  {
   "cell_type": "code",
   "execution_count": null,
   "id": "2e8a9d80-10bf-4a00-93f0-9f5f014b77a8",
   "metadata": {
    "scrolled": true
   },
   "outputs": [],
   "source": [
    "# BASELINE EVAL - Baseline RAG with Dense Vectors\n",
    "baseline_testing_dataset = saved_testing_dataset_sm.map(lambda x: generate_answer(x[\"question\"], x[\"ground_truth\"], baseline_final_chain), remove_columns=saved_testing_dataset_sm.column_names)"
   ]
  },
  {
   "cell_type": "code",
   "execution_count": null,
   "id": "04055d9c-7397-4f4a-98ad-ad406c91b17b",
   "metadata": {
    "scrolled": true
   },
   "outputs": [],
   "source": [
    "# Similarity search score\n",
    "baseline_score = evaluate(baseline_testing_dataset,metrics=metrics_to_track)\n",
    "baseline_df = baseline_score.to_pandas()\n",
    "baseline_df"
   ]
  },
  {
   "cell_type": "code",
   "execution_count": null,
   "id": "9976248a-a1e3-4a13-8fb2-054319bcae7f",
   "metadata": {},
   "outputs": [],
   "source": [
    "# mean scores for each key column\n",
    "baseline_means = baseline_df[key_columns].mean()\n",
    "\n",
    "# save dataframes to CSV files in the specified directory\n",
    "baseline_df.to_csv(os.path.join('baseline_run_data.csv'), index=False)"
   ]
  },
  {
   "cell_type": "markdown",
   "id": "0d70a9d8-0115-4f68-a452-af5559381430",
   "metadata": {},
   "source": [
    "<b>Baseline evaluation discussion</b>\n",
    "\n",
    "These scores represent our baseline evaluation.  By themselves, they already provide some value.  This is typically a good time to step through each question looking for outliers, which in this case, I would point to anything that has a 0 or really low score, or vice-versa, anything that has a higher or perfect score. These can indicate problems in the data, the code, or generally areas where our RAG pipeline is limited."
   ]
  },
  {
   "cell_type": "markdown",
   "id": "06604d92-1024-4638-a55e-6a0450abfad3",
   "metadata": {},
   "source": [
    "### ENHANCEMENT EVAL #1: USING RECURSIVE CHARACTER TEXT SPLITTER"
   ]
  },
  {
   "cell_type": "code",
   "execution_count": null,
   "id": "4239fdef-37b5-4544-9745-0479798b75d1",
   "metadata": {},
   "outputs": [],
   "source": [
    "# Recursive Splitter RAG with Dense Vectors\n",
    "recursive_testing_dataset = saved_testing_dataset_sm.map(lambda x: generate_answer(x[\"question\"], x[\"ground_truth\"], recursive_final_chain), remove_columns=saved_testing_dataset_sm.column_names)"
   ]
  },
  {
   "cell_type": "code",
   "execution_count": null,
   "id": "c20fb0bc-ecf1-43b6-a1b9-8048c8fae83c",
   "metadata": {
    "scrolled": true
   },
   "outputs": [],
   "source": [
    "# Similarity search score\n",
    "recursive_score = evaluate(recursive_testing_dataset,metrics=metrics_to_track)\n",
    "recursive_df = recursive_score.to_pandas()\n",
    "recursive_df"
   ]
  },
  {
   "cell_type": "code",
   "execution_count": null,
   "id": "897c93cc-1f44-4295-b6f6-1c54d4d6162f",
   "metadata": {},
   "outputs": [],
   "source": [
    "generate_comparisons(recursive_df, recursive_run)"
   ]
  },
  {
   "cell_type": "markdown",
   "id": "7512200d-9792-4e3c-9800-f8f44076f5b3",
   "metadata": {},
   "source": [
    "<b>ENHANCEMENT EVAL #1 Evaluation discussion</b>:\n",
    "\n",
    "The recursive approach scores better across the board, we will add this to our selected enhancements."
   ]
  },
  {
   "cell_type": "markdown",
   "id": "279ee8e6-93a8-4a11-82e5-f6068415b9cc",
   "metadata": {},
   "source": [
    "### ENHANCEMENT EVAL #2: USING HYBRID SEARCH"
   ]
  },
  {
   "cell_type": "code",
   "execution_count": null,
   "id": "cf2aa1d0-ba22-4ed5-a664-6ec882a78063",
   "metadata": {},
   "outputs": [],
   "source": [
    "# Hybrid RAG\n",
    "hybrid_testing_dataset = saved_testing_dataset_sm.map(lambda x: generate_answer(x[\"question\"], x[\"ground_truth\"], hybrid_final_chain), remove_columns=saved_testing_dataset_sm.column_names)"
   ]
  },
  {
   "cell_type": "code",
   "execution_count": null,
   "id": "b440a717-c02f-4a24-a732-86ea1960a753",
   "metadata": {
    "scrolled": true
   },
   "outputs": [],
   "source": [
    "# hybrid score\n",
    "hybrid_score = evaluate(hybrid_testing_dataset,metrics=metrics_to_track)\n",
    "hybrid_df = hybrid_score.to_pandas()\n",
    "hybrid_df"
   ]
  },
  {
   "cell_type": "code",
   "execution_count": null,
   "id": "5a666807-e332-4093-b5a3-8f71286079fa",
   "metadata": {},
   "outputs": [],
   "source": [
    "generate_comparisons(hybrid_df, hybrid_run)"
   ]
  },
  {
   "cell_type": "markdown",
   "id": "1fb3989d-e64b-4e53-a886-b17b5a090125",
   "metadata": {},
   "source": [
    "<b>ENHANCEMENT EVAL #2 Evaluation discussion</b>:\n",
    "\n",
    "We saw significant improvement in context precision, while context recall stayed the same.  \n",
    "\n",
    "While adding a hybrid search is focused on improving retrieval, generation is almost always likely to be impacted because it is downstream from retrieval. In this case, you see faithfulness increase significantly, with answer_relevance dropping slightly.  Overall measures show slight increases.  Considering the small sample sizes, this is likely a statistical draw.\n",
    "\n",
    "Conclusion: Will compare this to the 30/70 hybrid approach, but it does seem that a hybrid approach in general can improve the pipeline."
   ]
  },
  {
   "cell_type": "markdown",
   "id": "ab569315-b378-4079-b271-4221a2223b17",
   "metadata": {},
   "source": [
    "### ENHANCEMENT EVAL #3: USING GPT-4o-Mini "
   ]
  },
  {
   "cell_type": "code",
   "execution_count": null,
   "id": "dab1c849-f107-4049-b4ae-56fd7ab4f3bf",
   "metadata": {},
   "outputs": [],
   "source": [
    "# GPT 4o RAG\n",
    "gpt4o_testing_dataset = saved_testing_dataset_sm.map(lambda x: generate_answer(x[\"question\"], x[\"ground_truth\"], gpt4o_final_chain), remove_columns=saved_testing_dataset_sm.column_names)"
   ]
  },
  {
   "cell_type": "code",
   "execution_count": null,
   "id": "e192e59e-7595-423e-a0ae-196c870be307",
   "metadata": {
    "scrolled": true
   },
   "outputs": [],
   "source": [
    "# hybrid 4o score\n",
    "gpt4o_score = evaluate(gpt4o_testing_dataset,metrics=metrics_to_track)\n",
    "gpt4o_df = gpt4o_score.to_pandas()\n",
    "gpt4o_df"
   ]
  },
  {
   "cell_type": "code",
   "execution_count": null,
   "id": "3bbd62de-100a-4f31-b750-916a8c02ef36",
   "metadata": {},
   "outputs": [],
   "source": [
    "generate_comparisons(gpt4o_df, gpt4o_run)"
   ]
  },
  {
   "cell_type": "markdown",
   "id": "efd20e87-c7cf-46f1-a709-33b0611907c6",
   "metadata": {},
   "source": [
    "<b>ENHANCEMENT EVAL #3 Evaluation discussion</b>:\n",
    "\n",
    "Generation and end-to-end evalation actually dropped significantly.  Given these results, we will not implement this enhancement in the final pipeline.\n",
    "\n",
    "Note: It seems highly unlikely (but not impossible) that ChatGPT 3.5 Turbo would perform better than ChatGPT 4o in any scenario.  Given more time, I would want to dig much further into these results as one of my first tasks after this analysis was run.  "
   ]
  },
  {
   "cell_type": "markdown",
   "id": "2f619bf3-b743-43b6-825f-68c752b3dc58",
   "metadata": {},
   "source": [
    "### ENHANCEMENT EVAL #4: USING HYBRID SEARCH WITH 30% / 70% split (dense / sparse)"
   ]
  },
  {
   "cell_type": "code",
   "execution_count": null,
   "id": "827911ae-6935-49cc-ab6e-46396b6ba68f",
   "metadata": {},
   "outputs": [],
   "source": [
    "# Hybrid 4o RAG 30/70 split\n",
    "hybrid_3070split_testing_dataset = saved_testing_dataset_sm.map(lambda x: generate_answer(x[\"question\"], x[\"ground_truth\"], hybrid_3070split_final_chain), remove_columns=saved_testing_dataset_sm.column_names)"
   ]
  },
  {
   "cell_type": "code",
   "execution_count": null,
   "id": "59d1e20f-2f0b-474d-8a24-f2dc69e84c95",
   "metadata": {
    "scrolled": true
   },
   "outputs": [],
   "source": [
    "# hybrid 4o 30/70 score\n",
    "hybrid_3070split_score = evaluate(hybrid_3070split_testing_dataset,metrics=metrics_to_track)\n",
    "hybrid_3070split_df = hybrid_3070split_score.to_pandas()\n",
    "hybrid_3070split_df"
   ]
  },
  {
   "cell_type": "raw",
   "id": "34f1fe07-3d89-4dee-9dc7-899ecde9c474",
   "metadata": {},
   "source": [
    "# Adding the scores from the original hybrid (50/50) for easy comparison:\n",
    "**Retrieval**:\n",
    "                   baseline_run  hybrid_run  Difference\n",
    "context_precision      0.831173    0.898918    0.067746\n",
    "context_recall         0.925926    0.925926    0.000000\n",
    "\n",
    "**Generation**:\n",
    "                  baseline_run  hybrid_run  Difference\n",
    "faithfulness          0.687654    0.795569    0.107914\n",
    "answer_relevancy      0.978469    0.975092   -0.003376\n",
    "\n",
    "**End-to-end evaluation**:\n",
    "                    baseline_run  hybrid_run  Difference\n",
    "answer_correctness      0.637784    0.651299    0.013515\n",
    "answer_similarity       0.948605    0.955741    0.007136"
   ]
  },
  {
   "cell_type": "code",
   "execution_count": null,
   "id": "25a2854e-7958-4e31-ab69-4729b81ec224",
   "metadata": {},
   "outputs": [],
   "source": [
    "generate_comparisons(hybrid_3070split_df, hybrid_3070_run)"
   ]
  },
  {
   "attachments": {},
   "cell_type": "markdown",
   "id": "8dad8539-0403-4cfa-a9a4-9f1d365cc7fc",
   "metadata": {},
   "source": [
    "<b>ENHANCEMENT EVAL #4 Evaluation discussion</b>:\n",
    "\n",
    "Note that I added the scores for the original hybrid above for comparison, which had a 50/50 weighting for dense/sparse.  If compared to just the hybrid approaches, the 50/50 version performed notably better for context precision, but the 30/70 still improved over the baseline.  The context_recall is where the 30/70 really made an improvement, where the 50/50 version stayed even with the baseline.  These are the most direct measures, as hybrid search is focused on retrieval improvement, but let's look at downstream impact.\n",
    "\n",
    "For the generation metrics, we saw a very significant improvement in faithfullness from both approaches, but the 50/50 approach was significantly better than the 30/70 as well.  Answer relevance was already at a very high performance with the baseline, and the hybrid approaches did about the same.  Overall measures both had about the same slight improvements with both versions of hybrid.\n",
    "\n",
    "Given these scores, it depends on your priorities as to what you determine to be the best approach.  Retrieval might be more important in some cases, and so you could make a case for either approach.  But in my case, and per the assignment, I am aiming to improve coherence, faithfulness, and relevance of answers.  Given that, I will go with the approach that represents the most improved version of generation, which is the 50/50 weighted hybrid approach."
   ]
  },
  {
   "cell_type": "markdown",
   "id": "9ffbd6a3-0682-4bcb-966c-5507d96f1fa7",
   "metadata": {},
   "source": [
    "### ENHANCEMENT EVAL #5: new embedding model - option 1 - best small open-source embedding model available"
   ]
  },
  {
   "cell_type": "code",
   "execution_count": null,
   "id": "bcd80414-8894-4051-aa05-c42930dadc95",
   "metadata": {},
   "outputs": [],
   "source": [
    "# Optimized Embeddings\n",
    "newembed_testing_dataset = saved_testing_dataset_sm.map(lambda x: generate_answer(x[\"question\"], x[\"ground_truth\"], newembed_final_chain), remove_columns=saved_testing_dataset_sm.column_names)"
   ]
  },
  {
   "cell_type": "code",
   "execution_count": null,
   "id": "5d58e9f1-91f2-4013-b604-0de2877d1f8a",
   "metadata": {
    "scrolled": true
   },
   "outputs": [],
   "source": [
    "# Similarity search score\n",
    "newembed_score = evaluate(newembed_testing_dataset,metrics=metrics_to_track)\n",
    "newembed_df = newembed_score.to_pandas()\n",
    "newembed_df"
   ]
  },
  {
   "cell_type": "code",
   "execution_count": null,
   "id": "38b6cc57-3edf-4492-973e-9b739518e1e7",
   "metadata": {},
   "outputs": [],
   "source": [
    "generate_comparisons(newembed_df, newembed_run)"
   ]
  },
  {
   "cell_type": "markdown",
   "id": "6679a368-268c-4a22-97e4-ae3cb26b7a5d",
   "metadata": {},
   "source": [
    "<b>ENHANCEMENT EVAL #5 Evaluation discussion</b>:\n",
    "\n",
    "Better retrieval, the key area new embeddings should make an improvement.  Also slight improvement in the end-to-end metrics, and a large increase in faithfullness.\n",
    "\n",
    "Given these results, we will implement the upgraded embeddings model in the final pipeline implementation."
   ]
  },
  {
   "cell_type": "markdown",
   "id": "60e6195f-6527-45b7-867a-cddb3a9972a3",
   "metadata": {},
   "source": [
    "### ENHANCEMENT EVAL #6: Query Expansion"
   ]
  },
  {
   "cell_type": "code",
   "execution_count": null,
   "id": "b6fa5484-6457-4fe3-96e6-fa247e9a5e90",
   "metadata": {
    "scrolled": true
   },
   "outputs": [],
   "source": [
    "# Query Expansion\n",
    "query_expand = QueryExpander()\n",
    "queryexpand_testing_dataset = saved_testing_dataset_sm.map(lambda x: generate_answer(x[\"question\"], x[\"ground_truth\"], query_expand), remove_columns=saved_testing_dataset_sm.column_names)"
   ]
  },
  {
   "cell_type": "code",
   "execution_count": null,
   "id": "b58d52da-f125-4901-ace0-53603b3af2d3",
   "metadata": {
    "scrolled": true
   },
   "outputs": [],
   "source": [
    "# Similarity search score\n",
    "queryexpand_score = evaluate(queryexpand_testing_dataset,metrics=metrics_to_track)\n",
    "queryexpand_df = queryexpand_score.to_pandas()\n",
    "queryexpand_df"
   ]
  },
  {
   "cell_type": "code",
   "execution_count": null,
   "id": "8c9a407c-2709-43db-bacc-c2c34f29d7d5",
   "metadata": {},
   "outputs": [],
   "source": [
    "generate_comparisons(queryexpand_df, queryexpand_run) "
   ]
  },
  {
   "cell_type": "markdown",
   "id": "76c7e79d-9873-49d0-aec5-ff4be8a318fe",
   "metadata": {},
   "source": [
    "<b>ENHANCEMENT EVAL #6 Query Expansion Discussion</b>:\n",
    "\n",
    "Unfortunately, give the large drop in the generation metrics, and slight drop in the end-to-end evaluations, these results suggest that the query expansion technique did not improve this pipeline.  We will not implement this approach in the final pipeline.\n",
    "\n",
    "This is an area where we can likely make quick and effective improvements by testing out different prompts.  I wouldn't throw this approach out just yet, but more testing and evaluation is warranted before deciding to use it."
   ]
  },
  {
   "cell_type": "markdown",
   "id": "f8273170-03c2-4f7c-bf7e-968dd98a4a45",
   "metadata": {},
   "source": [
    "### ENHANCEMENT EVAL #7 Final Evaluation using the \"ultimate combination\" of enhancements evaluated"
   ]
  },
  {
   "cell_type": "markdown",
   "id": "9fa356c1-96a3-4919-a5d4-16b763558d70",
   "metadata": {},
   "source": [
    "Again, for the \"ultimate combo\", we take all of the results from above and combine the enhancements with what seem to be the best overall approach.  This allows us to conduct further analysis to the results from our enhancement, but also allows us to see how they work toegether.  \n",
    "\n",
    "Here is the final list of enhancements applied to this pipeline:\n",
    "\n",
    "- Text Splitter - Recursive\n",
    "- LLM - 3.5 Turbo\n",
    "- Search - Hybrid 50/50\n",
    "- query expansion - No\n",
    "- Embedding - large"
   ]
  },
  {
   "cell_type": "code",
   "execution_count": null,
   "id": "b3e065f7-c42f-4063-9842-6858e60a2166",
   "metadata": {},
   "outputs": [],
   "source": [
    "# Ultimate combo\n",
    "ult_testing_dataset = saved_testing_dataset_sm.map(lambda x: generate_answer(x[\"question\"], x[\"ground_truth\"], ult_final_chain), remove_columns=saved_testing_dataset_sm.column_names)"
   ]
  },
  {
   "cell_type": "code",
   "execution_count": null,
   "id": "db922f76-8187-46c6-8387-a643d735ff8c",
   "metadata": {
    "scrolled": true
   },
   "outputs": [],
   "source": [
    "# Ultimate combo score\n",
    "ult_score = evaluate(ult_testing_dataset,metrics=metrics_to_track)\n",
    "ult_df = ult_score.to_pandas()\n",
    "ult_df"
   ]
  },
  {
   "cell_type": "code",
   "execution_count": null,
   "id": "1ad65a20-8b0a-4086-be76-b7de37b08241",
   "metadata": {},
   "outputs": [],
   "source": [
    "generate_comparisons(ult_df, ult_run)"
   ]
  },
  {
   "cell_type": "markdown",
   "id": "8e7375e8-9588-4539-be63-cc7e68588bca",
   "metadata": {},
   "source": [
    "<b>Discussion of ultimate combo<b>\n",
    "\n",
    "We saw notable improvements across the board, but we did not see a cumulative effect that is better than any one enhancement.  This is something that would need to be further researched to make sure some enhancements are not interfering with others.  The data is all there to look through and will reveal these answers.  This analysis just gives us the indication that we should take those steps."
   ]
  },
  {
   "cell_type": "markdown",
   "id": "f0617503-2300-41ad-8c5c-57fd76b6b6b4",
   "metadata": {},
   "source": [
    "### Heatmap of all scores"
   ]
  },
  {
   "cell_type": "markdown",
   "id": "aa45cb52-b697-4a9f-937e-0aa32cab4ff2",
   "metadata": {},
   "source": [
    "Ran out of time, but ideally, we use all of the run data to generate a full heatmap comparing all of the results side-by-side."
   ]
  },
  {
   "cell_type": "raw",
   "id": "1cf8f6c1-02b8-461a-9f35-11bf52b666dc",
   "metadata": {},
   "source": [
    "[PLACEHOLDER FOR HEATMAP!]"
   ]
  },
  {
   "cell_type": "markdown",
   "id": "d0d85b58-07a6-4564-94b3-791ff944de7a",
   "metadata": {},
   "source": [
    "# TIFIN EVALUATION QUESTION PROCESSING"
   ]
  },
  {
   "cell_type": "markdown",
   "id": "2c0e27a7-07dc-4cb6-83eb-69c2ad6a5d28",
   "metadata": {},
   "source": [
    "[Back to top](#ARK-Disruptive-Innovation-Insights)"
   ]
  },
  {
   "cell_type": "markdown",
   "id": "4251e361-9a3f-4d81-8c93-fa3577f01e0d",
   "metadata": {},
   "source": [
    "We use the combination of best approaches from the previous section to generate responses to the TIFIN evaluation questions.  We then compare how a select group of the enhancements perform with those enhanced results as ground truth. \n",
    "\n",
    "Using the final results from the evaluation of the synthesized data, I selected the best combination of features to generate/synthesize answers for the evaluation questions provided by TIFIN.  For the sake of this evaluation, we can consider those responses the \"best of class\" given the available technology.  Now, we will go back and run a final evaluation of a selection of the implementations using the evaluation questions and \"best of class\" synthesized responses.\n",
    "\n",
    "This will allow us to use the 20 provided evaluation questions to benchmark both the baseline and some of the advanced RAG methods. We will document the performance improvements achieved by the advanced methods over the baseline."
   ]
  },
  {
   "cell_type": "markdown",
   "id": "6905994a-83f1-4408-92b5-63d53b52533f",
   "metadata": {},
   "source": [
    "### KEY THINGS TO NOTE FROM THIS EVALUATION\n",
    "1. Note the modularity of the pipelines, where I was able to swap in different components where needed without having to rebuild the entire pipeline.  With a little more effort, this could become very modular, improving the flexibility and efficiency of the development process.\n",
    "2. All of the data generated to run these evaluations is included with this code.  This allows you to reproduce the evaluations I ran exactly as I ran them.  This alleviates the need to re-run any of the expensive ragas evaluation generation, which makes numerous calls to LLM and embedding APIs to generate the evaluation.  You just need to re-run the final function in each evaluation section, and it will re-use the csv files that were generated with the ragas data.\n",
    "3. This is really more of a demonstration of the evaluation capabilities that I can add to a RAG pipeline and the insights that can provide.  The results portrayed here should probably not be taken seriously without further investigation. Ultimately, with only 20 testing samples, and another 20 evaluation samples, this is likely not giving you a full picture of the performance of these enhancements.  In a \"real world\" scenario, I would increase the testing data substantially and spend more effort breaking out the \"types\" of questions and testing them individually, so that we can ensure the outcomes fit the priorities of the organization more closely.  By using such a small sample size, you likely do not have enough statistical coverage to provide you with a reliable baseline, nor reliable scores for the other evaluations.  For example, if I re-ran the synthetic data generation again, and then re-ran the evaluations again, the scores could vary by 5-15% (speaking from experience).  This means the \"real\" baseline could be 15% higher, and another evaluation score 15% higher, significantly altering our view of that result. The larger your sample size, the more you will reduce that variance and converge on the proper scores.\n",
    "4. While generating a larger sample size is relatively easy with this code (you just change the number in the generation function), it adds significant expense across the effort.  So I had to avoid it in this analysis when I am paying for it, but it should be relatively inexpensive from an enterprise standpoint.\n",
    "5. We would also perform EDA on the questions, answers, ground truth, and context, and use this to identify additional issues to address within the pipeline.  In my experience, this EDA has been particularly helpful in identifying how to make very specific improvements that can dramatically improve the performance of the RAG pipeline(s).\n",
    "6. I would have liked to provide more commentary on the individual results from each enhancement, but I ran up against time constraints. I was able to summarize my thoughts for each though, and generally, I would have gone directly into the data for each result, looked for outliers, overfitting, and other common issues where we can make quick improvements.  These are definitely present in this data.  I would also have discussed each metric specifically, indicating what each meant, how we can use it in improving the pipeline, and the next steps based on the results of that specific metric."
   ]
  },
  {
   "cell_type": "markdown",
   "id": "df0293a2-4b57-49a2-8529-f247f9d8d72d",
   "metadata": {},
   "source": [
    "### Formatting/Ingesting TIFIN Questions\n",
    "The following code ingests the evaluation questions provided by TIFIN and converts them into the data format needed to run the ragas evaluation outlined previously."
   ]
  },
  {
   "cell_type": "code",
   "execution_count": 57,
   "id": "a4eb089f-83c4-4f91-8961-46f228b87665",
   "metadata": {},
   "outputs": [],
   "source": [
    "# ingest the evaluation questions into the evaluation format\n",
    "import csv\n",
    "\n",
    "# Read the questions from the text file\n",
    "with open('Evaluation_Questions.txt', 'r') as file:\n",
    "    questions = [line.strip() for line in file if line.strip()]\n",
    "\n",
    "# Extract the questions without the question numbers\n",
    "questions = [question.split('. ')[1] for question in questions]\n",
    "\n",
    "# Create the CSV data\n",
    "csv_data = [\n",
    "    ['question', 'contexts', 'ground_truth', 'evolution_type', 'metadata', 'episode_done']\n",
    "]\n",
    "\n",
    "for question in questions:\n",
    "    csv_data.append([question, '[]', '', 'multi_context', '[{}]', 'True'])\n",
    "\n",
    "# Write the CSV data to a file\n",
    "with open('tifineval.csv', 'w', newline='') as file:\n",
    "    writer = csv.writer(file)\n",
    "    writer.writerows(csv_data)"
   ]
  },
  {
   "cell_type": "code",
   "execution_count": 58,
   "id": "d8663f76-2a7e-489d-a219-5f9f1d8870d6",
   "metadata": {},
   "outputs": [
    {
     "name": "stdout",
     "output_type": "stream",
     "text": [
      "testset DataFrame loaded successfully from local directory.\n"
     ]
    },
    {
     "data": {
      "text/plain": [
       "Dataset({\n",
       "    features: ['question', 'contexts', 'ground_truth', 'metadata'],\n",
       "    num_rows: 20\n",
       "})"
      ]
     },
     "execution_count": 58,
     "metadata": {},
     "output_type": "execute_result"
    }
   ],
   "source": [
    "# pull data from saved testset, rather than generating above\n",
    "### load dataframs from CSV file\n",
    "tifin_eval_testset_df = pd.read_csv(os.path.join('tifin_eval.csv'))\n",
    "print(\"testset DataFrame loaded successfully from local directory.\")\n",
    "saved_testset_df.head(5)\n",
    "\n",
    "#### ONCE THIS CODE HAS RUN, WILL HAVE TEST DATASET IN CSV, DONT RUN AGAIN, $$$\n",
    "\n",
    "# Convert the DataFrame to a dictionary\n",
    "tifin_eval_testing_data = tifin_eval_testset_df.astype(str).to_dict(orient='list')\n",
    "\n",
    "# Create the testing_dataset\n",
    "tifin_eval_testing_dataset = Dataset.from_dict(tifin_eval_testing_data)\n",
    "\n",
    "# Update the testing_dataset to include ONLY these columns -\n",
    "# \"question\", \"ground_truth\", \"answer\", \"contexts\"\n",
    "tifin_eval_testing_dataset_sm = tifin_eval_testing_dataset.remove_columns([\"evolution_type\", \"episode_done\"])\n",
    "\n",
    "tifin_eval_testing_dataset_sm"
   ]
  },
  {
   "cell_type": "markdown",
   "id": "f2d031b4-4169-45b6-a030-4c6a43cc7549",
   "metadata": {},
   "source": [
    "### TIFIN QUESTIONS BASELINE"
   ]
  },
  {
   "cell_type": "code",
   "execution_count": null,
   "id": "343bf344-e04e-4443-8b6b-6a6300961468",
   "metadata": {},
   "outputs": [],
   "source": [
    "# Run a baseline eval with the TIFIN evaluation data (so we have a direct comparison - apples to apples)\n",
    "# TIFIN eval with the Ultimate combo\n",
    "tifin_eval_baseline_testing_dataset = tifin_eval_testing_dataset_sm.map(lambda x: generate_answer(x[\"question\"], x[\"ground_truth\"],baseline_final_chain), remove_columns=saved_testing_dataset_sm.column_names)"
   ]
  },
  {
   "cell_type": "code",
   "execution_count": null,
   "id": "6beb9020-62f4-4c01-8a2b-c3145dea61ff",
   "metadata": {
    "scrolled": true
   },
   "outputs": [],
   "source": [
    "# Ultimate combo score\n",
    "tifin_eval_baseline_score = evaluate(\n",
    "    tifin_eval_baseline_testing_dataset,\n",
    "    metrics=[\n",
    "        faithfulness,\n",
    "        answer_relevancy,\n",
    "    ]\n",
    ")\n",
    "tifin_eval_baseline_df = tifin_eval_baseline_score.to_pandas()\n",
    "tifin_eval_baseline_df"
   ]
  },
  {
   "cell_type": "code",
   "execution_count": null,
   "id": "3ff9b3d8-d3f6-468c-89f5-bbe2b2efbe57",
   "metadata": {},
   "outputs": [],
   "source": [
    "# mean scores for each key column\n",
    "tifin_eval_baseline_means = tifin_eval_baseline_df[ref_free_key_columns].mean()\n",
    "\n",
    "# save dataframes to CSV files in the specified directory\n",
    "tifin_eval_baseline_df.to_csv(os.path.join('tifin_eval_baseline_run_data.csv'), index=False)"
   ]
  },
  {
   "cell_type": "markdown",
   "id": "d8c1a751-87d5-443c-a91b-567d8194e7dd",
   "metadata": {},
   "source": [
    "### TIFIN QUESTIONS WITH ULTIMATE COMBO PIPELINE"
   ]
  },
  {
   "cell_type": "code",
   "execution_count": null,
   "id": "350b254b-a0a8-4a5c-8d67-023ee077ee5a",
   "metadata": {},
   "outputs": [],
   "source": [
    "# compare the TIFIN eval baseline scores with the ult combo scores"
   ]
  },
  {
   "cell_type": "code",
   "execution_count": null,
   "id": "8b2f8634-9ab8-4ec2-8f70-ea0f75618d97",
   "metadata": {},
   "outputs": [],
   "source": [
    "# TIFIN eval with the Ultimate combo\n",
    "tifin_eval_utl_testing_dataset = tifin_eval_testing_dataset_sm.map(lambda x: generate_answer(x[\"question\"], x[\"ground_truth\"],ult_final_chain), remove_columns=saved_testing_dataset_sm.column_names)"
   ]
  },
  {
   "cell_type": "code",
   "execution_count": null,
   "id": "a6481b0d-4b75-4c9f-8f70-4f47e2a24be5",
   "metadata": {
    "scrolled": true
   },
   "outputs": [],
   "source": [
    "# Ultimate combo score\n",
    "tifin_eval_utl_score = evaluate(\n",
    "    tifin_eval_utl_testing_dataset,\n",
    "    metrics=[\n",
    "        faithfulness,\n",
    "        answer_relevancy,\n",
    "    ]\n",
    ")\n",
    "tifin_eval_utl_df = tifin_eval_utl_score.to_pandas()\n",
    "tifin_eval_utl_df"
   ]
  },
  {
   "cell_type": "code",
   "execution_count": null,
   "id": "a9bebba8-f6a6-4a60-b99e-af553aaf4c78",
   "metadata": {},
   "outputs": [],
   "source": [
    "generate_comparisons_reference_free(tifin_eval_baseline_means, tifin_eval_utl_df, tifin_eval_utl_run)"
   ]
  },
  {
   "attachments": {},
   "cell_type": "markdown",
   "id": "daf3be2e-5fdc-4645-b543-7b66223e651a",
   "metadata": {},
   "source": [
    "### Note About Analysis: Reference Free Metrics\n",
    "You may be wondering why there are only 2 metrics here when there are 6 in the previous evaluations.\n",
    "\n",
    "These metrics are considered \"reference-free\" metrics because they do not require ground truth (as a reference) as many other metrics in this field require.  This is an innovative concept discussed much further in this paper, which is the inspiration for the ragas platform:\n",
    "\n",
    "https://arxiv.org/abs/2309.15217\n",
    "\n",
    "Ragas has emphasized building reference-free metrics in their work. For many fields, where ground truth is difficult to collect, this is an important point, as this makes at least some of the evaluation still possible.  Faithfulness and answer relevance were reference-free metrics he mentioned.  This can be particularly useful when implementing metrics in production pipelines, where ground truth is not readily available, and data is constantly streaming in and needs to be monitored for changes and degradation.\n",
    "\n",
    "For this analysis, this concept fits well with the questions provided by TIFIN, since they do not have ground truth included with them.\n",
    "\n",
    "<b>Full disclaimer</b>: I personally know the primary author of this paper (and the ragas platform), Shahul Es, and have had discussions with him about how and why these metrics are so important to this type of analysis. Shahul Es has even written the forward for my book which will be released in September, focused on implementing RAG in the enterprise.  I will include the full chapter 9 from my book on RAG evaluation with this submission. I've made it a point to get to know this company because they are doing such great work in the field."
   ]
  },
  {
   "cell_type": "markdown",
   "id": "a077b312-37a7-4f0d-9652-965dcfd513a7",
   "metadata": {},
   "source": [
    "### Discussion:\n",
    "\n",
    "We saw a significant improvement in faithfullness and a significant decrease in answer relevancy.  \n",
    "\n",
    "With further analysis, we need to look directly at the data and determine why we are seeing that decrease.  For example, here are some problematic scores for the evaluation questions:\n",
    "\n",
    "<b>#3\tCan you list the converging innovation platforms identified by ARK?</b>\n",
    "\n",
    "We scored 0% on faithfullness and answer relevancy with our \"ultimate combo\" of enhancements.  Compare this to the baseline pipeline, where we scored 100% for faithfullness and 99% on answer relevancy. This is a big red flag.  Clearly the data in the context to score well with the baseline.  There may even be a bug in the code (such as the context formatting causing issues with the LLM inference).  This sort of insight will help us go into the code and data, make changes as required, and incrementally and methodically improve the RAG pipeline.\n",
    "\n",
    "<b>#8\tWhat does the ARK’s Convergence Scoring Framework illustrate about innovation platforms?</b>\n",
    "\n",
    "We scored 33% on faithfullness, but 96% on answer relevancy with our \"ultimate combo\" of enhancements.  Compare this to the baseline pipeline, where we scored 60% for faithfullness and 98% on answer relevancy.\n",
    "\n",
    "There seems to be something off for the faithfullness for this particular question, which suggests we look further into this area to determine the cause(s).  Perhaps the context is off due to the hybrid search.    \n",
    "\n",
    "<b>#11\tHow do AI Chatbots contribute to the development of robotaxis?</b>\n",
    "\n",
    "We scored 0% on faithfullness, but 100% on answer relevancy with our \"ultimate combo\" of enhancements.  That is a big red flag, there may even be a bug in the code (such as the context formatting causing issues with the LLM inference). Again, compare this to the baseline pipeline, where we get the exact same scores.  Also a red flag. We should see some sort of difference based on the enhancements we introduced.  \n",
    "\n",
    "<b>#12\tWhat are breakthroughs in DNA Sequencing, particularly with neural networks?</b>\n",
    "\n",
    "Our scores between the baseline and \"ultimate combo\" are similar here:\n",
    "baseline:\n",
    "faithfulness: 0.38461538461538464\n",
    "answer_relevancy: 0.8471160564373204\n",
    "\n",
    "Ultimate combo:\n",
    "faithfulness: 0.3333333333333333\n",
    "answer_relevancy: 0.9379678735358913\n",
    "\n",
    "We saw a drop faithfullness, but a significant improvement in answer_relevancy. But generally, faithfullness is significantly lower than most other scores, and so this is another area for further analysis. \n",
    "\n",
    "<b>#18\tWhat thematic strategies do ARK ETFs focus on?</b>\n",
    "On both baseline and \"ultimate combo\" we have a faithfullness of 0.0.  Our answer relevancy scores are very high, with an improvement to near perfect, with a baseline of 0.9695597827924756 and ultimate combo score of 0.9999999999999997.  This is another case where faithfullness and answer relevance are so different that it suggests some red flags for going back and checking what is going on.\n",
    "\n",
    "### Future analysis\n",
    "\n",
    "After this initial analysis, it would also be prudent to go back and look at the high scores with just as much scrutiny.  Is there a valid reason we get a 100% on many scores? Given the nature of Generative AI this suggests there may be some over-fitting occuring. \n",
    "\n",
    "I would note as well, as we start to recognize patterns and understand the challenges more in-depth, this type of analysis can be set up to be more systematic, even using generative AI models to help to look for potential issues and solutions."
   ]
  },
  {
   "cell_type": "markdown",
   "id": "834def3f-c0f9-4640-862e-44e379b70c55",
   "metadata": {},
   "source": [
    "# FUTURE EFFORTS"
   ]
  },
  {
   "cell_type": "markdown",
   "id": "2f3eff29-ca46-4fc0-8294-0f3c7bf8356a",
   "metadata": {},
   "source": [
    "[Back to top](#ARK-Disruptive-Innovation-Insights)"
   ]
  },
  {
   "attachments": {},
   "cell_type": "markdown",
   "id": "ec02786c-a156-45c0-ac2e-52d8ea46a26d",
   "metadata": {},
   "source": [
    "### Potential Future Enhancements:\n",
    "There are an unlimited set of other areas we could explore, here are some of the other areas we could easily add:\n",
    "- <b>Combinations</b> - The evaluation provided compares each enhancement to the original baseline RAG pipeline. As certain enhancements start to stand out, you can start to combine them and use that combination as the baseline to continue to compare future enhancements against.  \n",
    "\n",
    "- <b>Other Advanced Chunking Strategies</b> - Test the SemanticChunker class from LangChain, which attempts to chunk text base on the semantics and context of the text, rather than an arbitrary character count.  I have tested this many times with other applications, and under certain circumstances, it can perform better, and is worth considering.  I avoided this in this demonstration because it costs significantly more than the other chunking strategies (which are essentially free).  If you would like to provide an API key for it though, I'm happy to show you. It is very easy to swap out the splitter!  I would say though, in my experience, the recursive character text splitter is fairly capable despite it's simplicity, and should not be overlooked.\n",
    "\n",
    "- <b>Different Semantic Distance Metrics</b> - This demonstration relied on the default cosine similarity distance metric, which is a powerful distance metric, but not the only one.  Other options include euclidean and dot product (not technically a distance metric, but it is typically included!), Lin similarity, Jaccard similarity, Hamming distance, Manhattan distance, and Levenshtein distance. These could all be implemented and evaluated for improvement in the retrieval mechanism.  This is something that could be easily changed during the vectorstore initialization and could be tested in the same manner as these other enhancements. \n",
    "  \n",
    "- <b>Other vector stores (databases)</b> - We could test other vector store solutions, which can vary signficantly. Many require robust infrastructure implementations, and so I avoided it for this demonstration. This demonstration uses Chroma database, which is versatile and very capable for smaller demonstrations like this one.  It even has some production applications, such as when you have the need to spin up and generate a vector database in real time.  But generally, there are better options that can provide more robust, flexible, and capable solutions for large-scale production focused GenAI applications.  I have significant experience with PostgreSQL (using the PGVector extension for the vector database), which offers the most advanced vector database capabilities on the market commonly seen in other high-end competitors like PineCone.  For example, you can index your database with Locality-Sensitive Hashing (LSH), Production Quantization (PQ), and Hierarchical Navigable Small Worlds (HNSW). PostgreSQL offers you the world's #1 database solution with the largest community (so there are more people that can help you support it!) combined with the most advanced vector database capabilities. I have also used Weaviate, Pinecone, Elasticsearch, Milvus, and LanceDB as vector database solutions.  All are sufficient solutions if they are already in place. Weaviate is probably the most interesting of the other options, with it's GraphQL-like API, making it highly adaptable and giving you some development options the other's do not offer.  With databases, the evaluation we used in this exercise will give you an idea of the retrieval quality of the databases, but we would also want to add database specific metrics, like speed and efficiency to fully vet these options.  And even within each database solution, you can test different options, like using various indexing methods, various search algorithms, and so on.\n",
    "  \n",
    "- <b>Different Interface Solutions</b> - There was not a request for the implementation of an interface for this application, so I avoided that! It is typically the most problematic component in terms of launching across different environments and you likely have specialization in this area already.  But if that were a need, there are many POC-focused UI applications, like Streamlit and Gradio, and then there are more robust solutions that start pushing into the web development arena.  I have built many Streamlit and Gradio based applications, as well as mobile-based POCs using Flutter.  I have also supported many other more robust web frameworks in production.  This is an area where we could experiment.  Evaluation would be considerably different (using user feedback, usage metrics, and similar measures to track our progress and effectiveness).\n",
    "\n",
    "- <b>Fine-tuned LLM for financial expertise</b> - This is actually where one of my specialities is. I am focused on understanding both the RAG system and fine-tuning LLMs in a way that works together in the most effective way.  This can only be achieved and optimized with the full knowledge and understanding of both processes.  Examples for me include fine-tuning LLMs to become J&J scientists, J&J clinicians, and for a different company, an expertise in anesthesiology, and a data science professor.  This is not just focused on \"adding more data\" to the LLM, as the real value in fine-tuning is more in the realm of teaching the LLM to talk like people do in this domain, and take on the personality of the target domain.  Finance is another area where this personality adjustment can really play a big role. I started my career at First Union Securities as a junior stock analyst, and I understand the nuances of how financial concepts are communicated in this field more than most developers.  I can talk the talk, and even walk the walk, but even more importantly, I can fine-tune a generative AI model to do the same!  This is a hypothesis we could test within the framework of these evaluations.\n",
    "\n",
    "- <b>Fine-tuned embedding model focused on financial terminology</b> - The financial domain has it's own terminology and semantics, like any other focused domain.  Embedding models can be fine-tuned with that terminology to improve the overall semantic understanding of the vector search, resulting in better retrieval.\n",
    "\n",
    "- <b>Embedding models listed higher than OpenAI's on MTEB</b> - As mentioned earlier, OpenAI's best model is ranked 29 in retrieval and has not been thoroughly vetted specifically for the financial domain. We can research and identify models that not only do much better in general, but we can also find ones that do well specifically in finance (or like the last suggestion, we can fine-tune them to do better in finance).\n",
    "\n",
    "- <b>Agentic Workflow with LangGraph</b> LangGraph provides a strong foundation for orchestrating agents and reducing the early challenges the agentic approach introduced (endless loops, lack of control).  An agent could be quickly implemented ontop of the pipelines already presented, adding an additional layer for generative-AI powered improvement and thoughtfulness to giving the best responses.\n",
    "\n",
    "- <b>Numerous other LLMs</b> Given the modular framework presented here, it is easy to try other LLMs like we did with the upgraded version of OpenAI.  We could continue this effort across many other models.  One particular goal could be finding the \"best\" open model as a baseline, and then fine-tune that model on financial information to give it the voice and personality of a friendly financial advisor with the brains of a cutting-edge LLM.\n",
    "\n",
    "- <b>Multi-Modal RAG</b> Multi-modal models offer a whole new element of reponse to end users based on their questions.  Multi-modal can be applicable in both the input and output of the models.  A significant amount of financial information is present in graphics, which that alone should be enough to get us into MM-RAG. I've built MM-RAG pipelines with the same precision and meticulousness that I build LLM-based pipelines, but with a significant step up in presentation and understanding of related graphics.  I demonstrate this kind of effort in the last chapter of my book, where I show how to extract the information needed from a graphic-intensive environmental analysis report from Google during the indexing process, complete with pictures of windmills and an understanding of their most challenging charts and graphs.  "
   ]
  },
  {
   "cell_type": "markdown",
   "id": "d4ea80e2-2c92-47d2-8c7f-8af247f74157",
   "metadata": {},
   "source": [
    "# FINAL THOUGHT\n",
    "Normally, I would not present this analysis to the team at this stage.  I would spend more time, probably a week or more, stepping through the scored data directly, looking for the major red flags and researching if there are any major flaws in the data or code, or if there are just limitations beyond our control.  As I indicated above, there are numerous red flags, which I view as opportunities to make significant improvements, given more time, but I would consider the work that was done here just the start of the first stage of analysis to establish a baseline and initial analysis. And then it would be after this stage that we begin really digging into the major advancements."
   ]
  },
  {
   "cell_type": "code",
   "execution_count": null,
   "id": "646767c2-8ed8-41e1-a725-8f7c5e2ea98c",
   "metadata": {},
   "outputs": [],
   "source": []
  }
 ],
 "metadata": {
  "colab": {
   "name": "CHAPTER9-1_RAGA_EVAL.ipynb",
   "provenance": []
  },
  "kernelspec": {
   "display_name": "Python 3 (ipykernel)",
   "language": "python",
   "name": "python3"
  },
  "language_info": {
   "codemirror_mode": {
    "name": "ipython",
    "version": 3
   },
   "file_extension": ".py",
   "mimetype": "text/x-python",
   "name": "python",
   "nbconvert_exporter": "python",
   "pygments_lexer": "ipython3",
   "version": "3.11.6"
  },
  "widgets": {
   "application/vnd.jupyter.widget-state+json": {
    "04f32866c81e481db0ab94611ee2dd49": {
     "model_module": "@jupyter-widgets/controls",
     "model_module_version": "1.5.0",
     "model_name": "DescriptionStyleModel",
     "state": {
      "_model_module": "@jupyter-widgets/controls",
      "_model_module_version": "1.5.0",
      "_model_name": "DescriptionStyleModel",
      "_view_count": null,
      "_view_module": "@jupyter-widgets/base",
      "_view_module_version": "1.2.0",
      "_view_name": "StyleView",
      "description_width": ""
     }
    },
    "0a3544e31ec34b108086b75011a4b20f": {
     "model_module": "@jupyter-widgets/controls",
     "model_module_version": "1.5.0",
     "model_name": "DescriptionStyleModel",
     "state": {
      "_model_module": "@jupyter-widgets/controls",
      "_model_module_version": "1.5.0",
      "_model_name": "DescriptionStyleModel",
      "_view_count": null,
      "_view_module": "@jupyter-widgets/base",
      "_view_module_version": "1.2.0",
      "_view_name": "StyleView",
      "description_width": ""
     }
    },
    "0ae12e9306214e47803d9691fcc5b4d6": {
     "model_module": "@jupyter-widgets/controls",
     "model_module_version": "1.5.0",
     "model_name": "HTMLModel",
     "state": {
      "_dom_classes": [],
      "_model_module": "@jupyter-widgets/controls",
      "_model_module_version": "1.5.0",
      "_model_name": "HTMLModel",
      "_view_count": null,
      "_view_module": "@jupyter-widgets/controls",
      "_view_module_version": "1.5.0",
      "_view_name": "HTMLView",
      "description": "",
      "description_tooltip": null,
      "layout": "IPY_MODEL_1ee67a4012794b4ea564d2a6a0520695",
      "placeholder": "​",
      "style": "IPY_MODEL_04f32866c81e481db0ab94611ee2dd49",
      "value": " 60/60 [02:26&lt;00:00,  5.14s/it]"
     }
    },
    "10d97d3434b247ec90c91183e9011695": {
     "model_module": "@jupyter-widgets/controls",
     "model_module_version": "1.5.0",
     "model_name": "HTMLModel",
     "state": {
      "_dom_classes": [],
      "_model_module": "@jupyter-widgets/controls",
      "_model_module_version": "1.5.0",
      "_model_name": "HTMLModel",
      "_view_count": null,
      "_view_module": "@jupyter-widgets/controls",
      "_view_module_version": "1.5.0",
      "_view_name": "HTMLView",
      "description": "",
      "description_tooltip": null,
      "layout": "IPY_MODEL_5ea64bd753494d36a6203c106b6c9a8f",
      "placeholder": "​",
      "style": "IPY_MODEL_d58b5e71c71a435f8c162fd2415327c2",
      "value": " 60/60 [00:43&lt;00:00,  1.13s/it]"
     }
    },
    "12f4e8b2b5e540f0b9a9f04fa87128da": {
     "model_module": "@jupyter-widgets/base",
     "model_module_version": "1.2.0",
     "model_name": "LayoutModel",
     "state": {
      "_model_module": "@jupyter-widgets/base",
      "_model_module_version": "1.2.0",
      "_model_name": "LayoutModel",
      "_view_count": null,
      "_view_module": "@jupyter-widgets/base",
      "_view_module_version": "1.2.0",
      "_view_name": "LayoutView",
      "align_content": null,
      "align_items": null,
      "align_self": null,
      "border": null,
      "bottom": null,
      "display": null,
      "flex": null,
      "flex_flow": null,
      "grid_area": null,
      "grid_auto_columns": null,
      "grid_auto_flow": null,
      "grid_auto_rows": null,
      "grid_column": null,
      "grid_gap": null,
      "grid_row": null,
      "grid_template_areas": null,
      "grid_template_columns": null,
      "grid_template_rows": null,
      "height": null,
      "justify_content": null,
      "justify_items": null,
      "left": null,
      "margin": null,
      "max_height": null,
      "max_width": null,
      "min_height": null,
      "min_width": null,
      "object_fit": null,
      "object_position": null,
      "order": null,
      "overflow": null,
      "overflow_x": null,
      "overflow_y": null,
      "padding": null,
      "right": null,
      "top": null,
      "visibility": null,
      "width": null
     }
    },
    "1525f11197a543d68cdf8b03ef69d01d": {
     "model_module": "@jupyter-widgets/controls",
     "model_module_version": "1.5.0",
     "model_name": "FloatProgressModel",
     "state": {
      "_dom_classes": [],
      "_model_module": "@jupyter-widgets/controls",
      "_model_module_version": "1.5.0",
      "_model_name": "FloatProgressModel",
      "_view_count": null,
      "_view_module": "@jupyter-widgets/controls",
      "_view_module_version": "1.5.0",
      "_view_name": "ProgressView",
      "bar_style": "success",
      "description": "",
      "description_tooltip": null,
      "layout": "IPY_MODEL_7c771bc4ae164b41bb82081d1dada922",
      "max": 60,
      "min": 0,
      "orientation": "horizontal",
      "style": "IPY_MODEL_471c110824914083a84c06b1a30276b9",
      "value": 60
     }
    },
    "1ee67a4012794b4ea564d2a6a0520695": {
     "model_module": "@jupyter-widgets/base",
     "model_module_version": "1.2.0",
     "model_name": "LayoutModel",
     "state": {
      "_model_module": "@jupyter-widgets/base",
      "_model_module_version": "1.2.0",
      "_model_name": "LayoutModel",
      "_view_count": null,
      "_view_module": "@jupyter-widgets/base",
      "_view_module_version": "1.2.0",
      "_view_name": "LayoutView",
      "align_content": null,
      "align_items": null,
      "align_self": null,
      "border": null,
      "bottom": null,
      "display": null,
      "flex": null,
      "flex_flow": null,
      "grid_area": null,
      "grid_auto_columns": null,
      "grid_auto_flow": null,
      "grid_auto_rows": null,
      "grid_column": null,
      "grid_gap": null,
      "grid_row": null,
      "grid_template_areas": null,
      "grid_template_columns": null,
      "grid_template_rows": null,
      "height": null,
      "justify_content": null,
      "justify_items": null,
      "left": null,
      "margin": null,
      "max_height": null,
      "max_width": null,
      "min_height": null,
      "min_width": null,
      "object_fit": null,
      "object_position": null,
      "order": null,
      "overflow": null,
      "overflow_x": null,
      "overflow_y": null,
      "padding": null,
      "right": null,
      "top": null,
      "visibility": null,
      "width": null
     }
    },
    "2516efe6c2ba47ef8abfb5a85a802f29": {
     "model_module": "@jupyter-widgets/controls",
     "model_module_version": "1.5.0",
     "model_name": "DescriptionStyleModel",
     "state": {
      "_model_module": "@jupyter-widgets/controls",
      "_model_module_version": "1.5.0",
      "_model_name": "DescriptionStyleModel",
      "_view_count": null,
      "_view_module": "@jupyter-widgets/base",
      "_view_module_version": "1.2.0",
      "_view_name": "StyleView",
      "description_width": ""
     }
    },
    "2952c7b476094838aaa6876fdfb71d58": {
     "model_module": "@jupyter-widgets/controls",
     "model_module_version": "1.5.0",
     "model_name": "DescriptionStyleModel",
     "state": {
      "_model_module": "@jupyter-widgets/controls",
      "_model_module_version": "1.5.0",
      "_model_name": "DescriptionStyleModel",
      "_view_count": null,
      "_view_module": "@jupyter-widgets/base",
      "_view_module_version": "1.2.0",
      "_view_name": "StyleView",
      "description_width": ""
     }
    },
    "2958881693c94a27b7927af3bcc144f5": {
     "model_module": "@jupyter-widgets/controls",
     "model_module_version": "1.5.0",
     "model_name": "HTMLModel",
     "state": {
      "_dom_classes": [],
      "_model_module": "@jupyter-widgets/controls",
      "_model_module_version": "1.5.0",
      "_model_name": "HTMLModel",
      "_view_count": null,
      "_view_module": "@jupyter-widgets/controls",
      "_view_module_version": "1.5.0",
      "_view_name": "HTMLView",
      "description": "",
      "description_tooltip": null,
      "layout": "IPY_MODEL_7927111dda3a41808138e3db8b482e01",
      "placeholder": "​",
      "style": "IPY_MODEL_4f7773428f2c49cba7a44b871c4433ec",
      "value": " 906/906 [00:34&lt;00:00, 18.48it/s]"
     }
    },
    "2b1c5df7efc342188115c7e4eb80b8f3": {
     "model_module": "@jupyter-widgets/controls",
     "model_module_version": "1.5.0",
     "model_name": "DescriptionStyleModel",
     "state": {
      "_model_module": "@jupyter-widgets/controls",
      "_model_module_version": "1.5.0",
      "_model_name": "DescriptionStyleModel",
      "_view_count": null,
      "_view_module": "@jupyter-widgets/base",
      "_view_module_version": "1.2.0",
      "_view_name": "StyleView",
      "description_width": ""
     }
    },
    "2fa1eb0f660e412c8b7ce77fd1b308fb": {
     "model_module": "@jupyter-widgets/controls",
     "model_module_version": "1.5.0",
     "model_name": "HTMLModel",
     "state": {
      "_dom_classes": [],
      "_model_module": "@jupyter-widgets/controls",
      "_model_module_version": "1.5.0",
      "_model_name": "HTMLModel",
      "_view_count": null,
      "_view_module": "@jupyter-widgets/controls",
      "_view_module_version": "1.5.0",
      "_view_name": "HTMLView",
      "description": "",
      "description_tooltip": null,
      "layout": "IPY_MODEL_4868ffb0f6bf4ab5a293486efe2c1ea4",
      "placeholder": "​",
      "style": "IPY_MODEL_60ee238c73c94012bec6496a3c8a8181",
      "value": "Map: 100%"
     }
    },
    "37d67a1a2b4c40a5abf6b9060a423802": {
     "model_module": "@jupyter-widgets/controls",
     "model_module_version": "1.5.0",
     "model_name": "FloatProgressModel",
     "state": {
      "_dom_classes": [],
      "_model_module": "@jupyter-widgets/controls",
      "_model_module_version": "1.5.0",
      "_model_name": "FloatProgressModel",
      "_view_count": null,
      "_view_module": "@jupyter-widgets/controls",
      "_view_module_version": "1.5.0",
      "_view_name": "ProgressView",
      "bar_style": "success",
      "description": "",
      "description_tooltip": null,
      "layout": "IPY_MODEL_daca9ef8d18d467c9385372db3976fc5",
      "max": 10,
      "min": 0,
      "orientation": "horizontal",
      "style": "IPY_MODEL_39a876216d6c40839c65750c95b9cee4",
      "value": 10
     }
    },
    "39a876216d6c40839c65750c95b9cee4": {
     "model_module": "@jupyter-widgets/controls",
     "model_module_version": "1.5.0",
     "model_name": "ProgressStyleModel",
     "state": {
      "_model_module": "@jupyter-widgets/controls",
      "_model_module_version": "1.5.0",
      "_model_name": "ProgressStyleModel",
      "_view_count": null,
      "_view_module": "@jupyter-widgets/base",
      "_view_module_version": "1.2.0",
      "_view_name": "StyleView",
      "bar_color": null,
      "description_width": ""
     }
    },
    "3a67dd29b0834433ba8d09a74e8260dd": {
     "model_module": "@jupyter-widgets/controls",
     "model_module_version": "1.5.0",
     "model_name": "DescriptionStyleModel",
     "state": {
      "_model_module": "@jupyter-widgets/controls",
      "_model_module_version": "1.5.0",
      "_model_name": "DescriptionStyleModel",
      "_view_count": null,
      "_view_module": "@jupyter-widgets/base",
      "_view_module_version": "1.2.0",
      "_view_name": "StyleView",
      "description_width": ""
     }
    },
    "3bf075040114456a805e1e29548cabd3": {
     "model_module": "@jupyter-widgets/controls",
     "model_module_version": "1.5.0",
     "model_name": "HBoxModel",
     "state": {
      "_dom_classes": [],
      "_model_module": "@jupyter-widgets/controls",
      "_model_module_version": "1.5.0",
      "_model_name": "HBoxModel",
      "_view_count": null,
      "_view_module": "@jupyter-widgets/controls",
      "_view_module_version": "1.5.0",
      "_view_name": "HBoxView",
      "box_style": "",
      "children": [
       "IPY_MODEL_45407e215ea94124bb98dd04e1dfd53f",
       "IPY_MODEL_eb82156cdf564ef1a5e94ff3fba5fd38",
       "IPY_MODEL_bd056017567d4299bae2b2cfd51ef933"
      ],
      "layout": "IPY_MODEL_9c86ff1aab9f4ee2b20240967a61390f"
     }
    },
    "3deab8857924429c97cba7ce298dd894": {
     "model_module": "@jupyter-widgets/base",
     "model_module_version": "1.2.0",
     "model_name": "LayoutModel",
     "state": {
      "_model_module": "@jupyter-widgets/base",
      "_model_module_version": "1.2.0",
      "_model_name": "LayoutModel",
      "_view_count": null,
      "_view_module": "@jupyter-widgets/base",
      "_view_module_version": "1.2.0",
      "_view_name": "LayoutView",
      "align_content": null,
      "align_items": null,
      "align_self": null,
      "border": null,
      "bottom": null,
      "display": null,
      "flex": null,
      "flex_flow": null,
      "grid_area": null,
      "grid_auto_columns": null,
      "grid_auto_flow": null,
      "grid_auto_rows": null,
      "grid_column": null,
      "grid_gap": null,
      "grid_row": null,
      "grid_template_areas": null,
      "grid_template_columns": null,
      "grid_template_rows": null,
      "height": null,
      "justify_content": null,
      "justify_items": null,
      "left": null,
      "margin": null,
      "max_height": null,
      "max_width": null,
      "min_height": null,
      "min_width": null,
      "object_fit": null,
      "object_position": null,
      "order": null,
      "overflow": null,
      "overflow_x": null,
      "overflow_y": null,
      "padding": null,
      "right": null,
      "top": null,
      "visibility": null,
      "width": null
     }
    },
    "3fa021834120431d9aff9d0e4db0520f": {
     "model_module": "@jupyter-widgets/controls",
     "model_module_version": "1.5.0",
     "model_name": "ProgressStyleModel",
     "state": {
      "_model_module": "@jupyter-widgets/controls",
      "_model_module_version": "1.5.0",
      "_model_name": "ProgressStyleModel",
      "_view_count": null,
      "_view_module": "@jupyter-widgets/base",
      "_view_module_version": "1.2.0",
      "_view_name": "StyleView",
      "bar_color": null,
      "description_width": ""
     }
    },
    "42661ceb3a1249ba90127e507df434b7": {
     "model_module": "@jupyter-widgets/controls",
     "model_module_version": "1.5.0",
     "model_name": "HTMLModel",
     "state": {
      "_dom_classes": [],
      "_model_module": "@jupyter-widgets/controls",
      "_model_module_version": "1.5.0",
      "_model_name": "HTMLModel",
      "_view_count": null,
      "_view_module": "@jupyter-widgets/controls",
      "_view_module_version": "1.5.0",
      "_view_name": "HTMLView",
      "description": "",
      "description_tooltip": null,
      "layout": "IPY_MODEL_e515bcc89c7042318aa3880f2988fc66",
      "placeholder": "​",
      "style": "IPY_MODEL_ba35443cb4c646a59244bd173dec2003",
      "value": " 10/10 [00:23&lt;00:00,  2.37s/ examples]"
     }
    },
    "43c7f99fa74e4357b1daee0d43b490c0": {
     "model_module": "@jupyter-widgets/controls",
     "model_module_version": "1.5.0",
     "model_name": "HBoxModel",
     "state": {
      "_dom_classes": [],
      "_model_module": "@jupyter-widgets/controls",
      "_model_module_version": "1.5.0",
      "_model_name": "HBoxModel",
      "_view_count": null,
      "_view_module": "@jupyter-widgets/controls",
      "_view_module_version": "1.5.0",
      "_view_name": "HBoxView",
      "box_style": "",
      "children": [
       "IPY_MODEL_ce0521c6353c4cc9b9c9f716cd4678c2",
       "IPY_MODEL_4d5b08d1116e454cbc84ce78de9cd8b4",
       "IPY_MODEL_0ae12e9306214e47803d9691fcc5b4d6"
      ],
      "layout": "IPY_MODEL_e81fe3e1c7b7481fbaff4d5ea49d95fa"
     }
    },
    "45407e215ea94124bb98dd04e1dfd53f": {
     "model_module": "@jupyter-widgets/controls",
     "model_module_version": "1.5.0",
     "model_name": "HTMLModel",
     "state": {
      "_dom_classes": [],
      "_model_module": "@jupyter-widgets/controls",
      "_model_module_version": "1.5.0",
      "_model_name": "HTMLModel",
      "_view_count": null,
      "_view_module": "@jupyter-widgets/controls",
      "_view_module_version": "1.5.0",
      "_view_name": "HTMLView",
      "description": "",
      "description_tooltip": null,
      "layout": "IPY_MODEL_674707c4b60a40289da685c71a09901b",
      "placeholder": "​",
      "style": "IPY_MODEL_2952c7b476094838aaa6876fdfb71d58",
      "value": "Map: 100%"
     }
    },
    "471c110824914083a84c06b1a30276b9": {
     "model_module": "@jupyter-widgets/controls",
     "model_module_version": "1.5.0",
     "model_name": "ProgressStyleModel",
     "state": {
      "_model_module": "@jupyter-widgets/controls",
      "_model_module_version": "1.5.0",
      "_model_name": "ProgressStyleModel",
      "_view_count": null,
      "_view_module": "@jupyter-widgets/base",
      "_view_module_version": "1.2.0",
      "_view_name": "StyleView",
      "bar_color": null,
      "description_width": ""
     }
    },
    "4868ffb0f6bf4ab5a293486efe2c1ea4": {
     "model_module": "@jupyter-widgets/base",
     "model_module_version": "1.2.0",
     "model_name": "LayoutModel",
     "state": {
      "_model_module": "@jupyter-widgets/base",
      "_model_module_version": "1.2.0",
      "_model_name": "LayoutModel",
      "_view_count": null,
      "_view_module": "@jupyter-widgets/base",
      "_view_module_version": "1.2.0",
      "_view_name": "LayoutView",
      "align_content": null,
      "align_items": null,
      "align_self": null,
      "border": null,
      "bottom": null,
      "display": null,
      "flex": null,
      "flex_flow": null,
      "grid_area": null,
      "grid_auto_columns": null,
      "grid_auto_flow": null,
      "grid_auto_rows": null,
      "grid_column": null,
      "grid_gap": null,
      "grid_row": null,
      "grid_template_areas": null,
      "grid_template_columns": null,
      "grid_template_rows": null,
      "height": null,
      "justify_content": null,
      "justify_items": null,
      "left": null,
      "margin": null,
      "max_height": null,
      "max_width": null,
      "min_height": null,
      "min_width": null,
      "object_fit": null,
      "object_position": null,
      "order": null,
      "overflow": null,
      "overflow_x": null,
      "overflow_y": null,
      "padding": null,
      "right": null,
      "top": null,
      "visibility": null,
      "width": null
     }
    },
    "48bf2662ca5c44ab9d5701cf3d50b9f7": {
     "model_module": "@jupyter-widgets/base",
     "model_module_version": "1.2.0",
     "model_name": "LayoutModel",
     "state": {
      "_model_module": "@jupyter-widgets/base",
      "_model_module_version": "1.2.0",
      "_model_name": "LayoutModel",
      "_view_count": null,
      "_view_module": "@jupyter-widgets/base",
      "_view_module_version": "1.2.0",
      "_view_name": "LayoutView",
      "align_content": null,
      "align_items": null,
      "align_self": null,
      "border": null,
      "bottom": null,
      "display": null,
      "flex": null,
      "flex_flow": null,
      "grid_area": null,
      "grid_auto_columns": null,
      "grid_auto_flow": null,
      "grid_auto_rows": null,
      "grid_column": null,
      "grid_gap": null,
      "grid_row": null,
      "grid_template_areas": null,
      "grid_template_columns": null,
      "grid_template_rows": null,
      "height": null,
      "justify_content": null,
      "justify_items": null,
      "left": null,
      "margin": null,
      "max_height": null,
      "max_width": null,
      "min_height": null,
      "min_width": null,
      "object_fit": null,
      "object_position": null,
      "order": null,
      "overflow": null,
      "overflow_x": null,
      "overflow_y": null,
      "padding": null,
      "right": null,
      "top": null,
      "visibility": null,
      "width": null
     }
    },
    "4d5b08d1116e454cbc84ce78de9cd8b4": {
     "model_module": "@jupyter-widgets/controls",
     "model_module_version": "1.5.0",
     "model_name": "FloatProgressModel",
     "state": {
      "_dom_classes": [],
      "_model_module": "@jupyter-widgets/controls",
      "_model_module_version": "1.5.0",
      "_model_name": "FloatProgressModel",
      "_view_count": null,
      "_view_module": "@jupyter-widgets/controls",
      "_view_module_version": "1.5.0",
      "_view_name": "ProgressView",
      "bar_style": "success",
      "description": "",
      "description_tooltip": null,
      "layout": "IPY_MODEL_53d769cfe9044b1b9c24a6a60a2fcf9b",
      "max": 60,
      "min": 0,
      "orientation": "horizontal",
      "style": "IPY_MODEL_cd8c076c31af4dab9b9102e7931d8e72",
      "value": 60
     }
    },
    "4f7773428f2c49cba7a44b871c4433ec": {
     "model_module": "@jupyter-widgets/controls",
     "model_module_version": "1.5.0",
     "model_name": "DescriptionStyleModel",
     "state": {
      "_model_module": "@jupyter-widgets/controls",
      "_model_module_version": "1.5.0",
      "_model_name": "DescriptionStyleModel",
      "_view_count": null,
      "_view_module": "@jupyter-widgets/base",
      "_view_module_version": "1.2.0",
      "_view_name": "StyleView",
      "description_width": ""
     }
    },
    "53d769cfe9044b1b9c24a6a60a2fcf9b": {
     "model_module": "@jupyter-widgets/base",
     "model_module_version": "1.2.0",
     "model_name": "LayoutModel",
     "state": {
      "_model_module": "@jupyter-widgets/base",
      "_model_module_version": "1.2.0",
      "_model_name": "LayoutModel",
      "_view_count": null,
      "_view_module": "@jupyter-widgets/base",
      "_view_module_version": "1.2.0",
      "_view_name": "LayoutView",
      "align_content": null,
      "align_items": null,
      "align_self": null,
      "border": null,
      "bottom": null,
      "display": null,
      "flex": null,
      "flex_flow": null,
      "grid_area": null,
      "grid_auto_columns": null,
      "grid_auto_flow": null,
      "grid_auto_rows": null,
      "grid_column": null,
      "grid_gap": null,
      "grid_row": null,
      "grid_template_areas": null,
      "grid_template_columns": null,
      "grid_template_rows": null,
      "height": null,
      "justify_content": null,
      "justify_items": null,
      "left": null,
      "margin": null,
      "max_height": null,
      "max_width": null,
      "min_height": null,
      "min_width": null,
      "object_fit": null,
      "object_position": null,
      "order": null,
      "overflow": null,
      "overflow_x": null,
      "overflow_y": null,
      "padding": null,
      "right": null,
      "top": null,
      "visibility": null,
      "width": null
     }
    },
    "55447c0281894d14a62988c35035be8c": {
     "model_module": "@jupyter-widgets/controls",
     "model_module_version": "1.5.0",
     "model_name": "ProgressStyleModel",
     "state": {
      "_model_module": "@jupyter-widgets/controls",
      "_model_module_version": "1.5.0",
      "_model_name": "ProgressStyleModel",
      "_view_count": null,
      "_view_module": "@jupyter-widgets/base",
      "_view_module_version": "1.2.0",
      "_view_name": "StyleView",
      "bar_color": null,
      "description_width": ""
     }
    },
    "56108ddc649541afa9317606df743043": {
     "model_module": "@jupyter-widgets/controls",
     "model_module_version": "1.5.0",
     "model_name": "HTMLModel",
     "state": {
      "_dom_classes": [],
      "_model_module": "@jupyter-widgets/controls",
      "_model_module_version": "1.5.0",
      "_model_name": "HTMLModel",
      "_view_count": null,
      "_view_module": "@jupyter-widgets/controls",
      "_view_module_version": "1.5.0",
      "_view_name": "HTMLView",
      "description": "",
      "description_tooltip": null,
      "layout": "IPY_MODEL_bac8c40fa6b8497a9d0bf265e4f07be9",
      "placeholder": "​",
      "style": "IPY_MODEL_ff412fba3e4d4c69b2b8199440de0ebc",
      "value": "Generating: 100%"
     }
    },
    "58137e596a77408d9f246e16a96257c5": {
     "model_module": "@jupyter-widgets/controls",
     "model_module_version": "1.5.0",
     "model_name": "HBoxModel",
     "state": {
      "_dom_classes": [],
      "_model_module": "@jupyter-widgets/controls",
      "_model_module_version": "1.5.0",
      "_model_name": "HBoxModel",
      "_view_count": null,
      "_view_module": "@jupyter-widgets/controls",
      "_view_module_version": "1.5.0",
      "_view_name": "HBoxView",
      "box_style": "",
      "children": [
       "IPY_MODEL_2fa1eb0f660e412c8b7ce77fd1b308fb",
       "IPY_MODEL_37d67a1a2b4c40a5abf6b9060a423802",
       "IPY_MODEL_42661ceb3a1249ba90127e507df434b7"
      ],
      "layout": "IPY_MODEL_c75584e5bedb48788362b0b051fb65c5"
     }
    },
    "5ea64bd753494d36a6203c106b6c9a8f": {
     "model_module": "@jupyter-widgets/base",
     "model_module_version": "1.2.0",
     "model_name": "LayoutModel",
     "state": {
      "_model_module": "@jupyter-widgets/base",
      "_model_module_version": "1.2.0",
      "_model_name": "LayoutModel",
      "_view_count": null,
      "_view_module": "@jupyter-widgets/base",
      "_view_module_version": "1.2.0",
      "_view_name": "LayoutView",
      "align_content": null,
      "align_items": null,
      "align_self": null,
      "border": null,
      "bottom": null,
      "display": null,
      "flex": null,
      "flex_flow": null,
      "grid_area": null,
      "grid_auto_columns": null,
      "grid_auto_flow": null,
      "grid_auto_rows": null,
      "grid_column": null,
      "grid_gap": null,
      "grid_row": null,
      "grid_template_areas": null,
      "grid_template_columns": null,
      "grid_template_rows": null,
      "height": null,
      "justify_content": null,
      "justify_items": null,
      "left": null,
      "margin": null,
      "max_height": null,
      "max_width": null,
      "min_height": null,
      "min_width": null,
      "object_fit": null,
      "object_position": null,
      "order": null,
      "overflow": null,
      "overflow_x": null,
      "overflow_y": null,
      "padding": null,
      "right": null,
      "top": null,
      "visibility": null,
      "width": null
     }
    },
    "60ee238c73c94012bec6496a3c8a8181": {
     "model_module": "@jupyter-widgets/controls",
     "model_module_version": "1.5.0",
     "model_name": "DescriptionStyleModel",
     "state": {
      "_model_module": "@jupyter-widgets/controls",
      "_model_module_version": "1.5.0",
      "_model_name": "DescriptionStyleModel",
      "_view_count": null,
      "_view_module": "@jupyter-widgets/base",
      "_view_module_version": "1.2.0",
      "_view_name": "StyleView",
      "description_width": ""
     }
    },
    "65a42bc7aa0c400b8e13e4b19f1ce2fc": {
     "model_module": "@jupyter-widgets/base",
     "model_module_version": "1.2.0",
     "model_name": "LayoutModel",
     "state": {
      "_model_module": "@jupyter-widgets/base",
      "_model_module_version": "1.2.0",
      "_model_name": "LayoutModel",
      "_view_count": null,
      "_view_module": "@jupyter-widgets/base",
      "_view_module_version": "1.2.0",
      "_view_name": "LayoutView",
      "align_content": null,
      "align_items": null,
      "align_self": null,
      "border": null,
      "bottom": null,
      "display": null,
      "flex": null,
      "flex_flow": null,
      "grid_area": null,
      "grid_auto_columns": null,
      "grid_auto_flow": null,
      "grid_auto_rows": null,
      "grid_column": null,
      "grid_gap": null,
      "grid_row": null,
      "grid_template_areas": null,
      "grid_template_columns": null,
      "grid_template_rows": null,
      "height": null,
      "justify_content": null,
      "justify_items": null,
      "left": null,
      "margin": null,
      "max_height": null,
      "max_width": null,
      "min_height": null,
      "min_width": null,
      "object_fit": null,
      "object_position": null,
      "order": null,
      "overflow": null,
      "overflow_x": null,
      "overflow_y": null,
      "padding": null,
      "right": null,
      "top": null,
      "visibility": null,
      "width": null
     }
    },
    "674707c4b60a40289da685c71a09901b": {
     "model_module": "@jupyter-widgets/base",
     "model_module_version": "1.2.0",
     "model_name": "LayoutModel",
     "state": {
      "_model_module": "@jupyter-widgets/base",
      "_model_module_version": "1.2.0",
      "_model_name": "LayoutModel",
      "_view_count": null,
      "_view_module": "@jupyter-widgets/base",
      "_view_module_version": "1.2.0",
      "_view_name": "LayoutView",
      "align_content": null,
      "align_items": null,
      "align_self": null,
      "border": null,
      "bottom": null,
      "display": null,
      "flex": null,
      "flex_flow": null,
      "grid_area": null,
      "grid_auto_columns": null,
      "grid_auto_flow": null,
      "grid_auto_rows": null,
      "grid_column": null,
      "grid_gap": null,
      "grid_row": null,
      "grid_template_areas": null,
      "grid_template_columns": null,
      "grid_template_rows": null,
      "height": null,
      "justify_content": null,
      "justify_items": null,
      "left": null,
      "margin": null,
      "max_height": null,
      "max_width": null,
      "min_height": null,
      "min_width": null,
      "object_fit": null,
      "object_position": null,
      "order": null,
      "overflow": null,
      "overflow_x": null,
      "overflow_y": null,
      "padding": null,
      "right": null,
      "top": null,
      "visibility": null,
      "width": null
     }
    },
    "7927111dda3a41808138e3db8b482e01": {
     "model_module": "@jupyter-widgets/base",
     "model_module_version": "1.2.0",
     "model_name": "LayoutModel",
     "state": {
      "_model_module": "@jupyter-widgets/base",
      "_model_module_version": "1.2.0",
      "_model_name": "LayoutModel",
      "_view_count": null,
      "_view_module": "@jupyter-widgets/base",
      "_view_module_version": "1.2.0",
      "_view_name": "LayoutView",
      "align_content": null,
      "align_items": null,
      "align_self": null,
      "border": null,
      "bottom": null,
      "display": null,
      "flex": null,
      "flex_flow": null,
      "grid_area": null,
      "grid_auto_columns": null,
      "grid_auto_flow": null,
      "grid_auto_rows": null,
      "grid_column": null,
      "grid_gap": null,
      "grid_row": null,
      "grid_template_areas": null,
      "grid_template_columns": null,
      "grid_template_rows": null,
      "height": null,
      "justify_content": null,
      "justify_items": null,
      "left": null,
      "margin": null,
      "max_height": null,
      "max_width": null,
      "min_height": null,
      "min_width": null,
      "object_fit": null,
      "object_position": null,
      "order": null,
      "overflow": null,
      "overflow_x": null,
      "overflow_y": null,
      "padding": null,
      "right": null,
      "top": null,
      "visibility": null,
      "width": null
     }
    },
    "7ad7b6bcf54e41b9b963365ff2f0f874": {
     "model_module": "@jupyter-widgets/base",
     "model_module_version": "1.2.0",
     "model_name": "LayoutModel",
     "state": {
      "_model_module": "@jupyter-widgets/base",
      "_model_module_version": "1.2.0",
      "_model_name": "LayoutModel",
      "_view_count": null,
      "_view_module": "@jupyter-widgets/base",
      "_view_module_version": "1.2.0",
      "_view_name": "LayoutView",
      "align_content": null,
      "align_items": null,
      "align_self": null,
      "border": null,
      "bottom": null,
      "display": null,
      "flex": null,
      "flex_flow": null,
      "grid_area": null,
      "grid_auto_columns": null,
      "grid_auto_flow": null,
      "grid_auto_rows": null,
      "grid_column": null,
      "grid_gap": null,
      "grid_row": null,
      "grid_template_areas": null,
      "grid_template_columns": null,
      "grid_template_rows": null,
      "height": null,
      "justify_content": null,
      "justify_items": null,
      "left": null,
      "margin": null,
      "max_height": null,
      "max_width": null,
      "min_height": null,
      "min_width": null,
      "object_fit": null,
      "object_position": null,
      "order": null,
      "overflow": null,
      "overflow_x": null,
      "overflow_y": null,
      "padding": null,
      "right": null,
      "top": null,
      "visibility": null,
      "width": null
     }
    },
    "7c771bc4ae164b41bb82081d1dada922": {
     "model_module": "@jupyter-widgets/base",
     "model_module_version": "1.2.0",
     "model_name": "LayoutModel",
     "state": {
      "_model_module": "@jupyter-widgets/base",
      "_model_module_version": "1.2.0",
      "_model_name": "LayoutModel",
      "_view_count": null,
      "_view_module": "@jupyter-widgets/base",
      "_view_module_version": "1.2.0",
      "_view_name": "LayoutView",
      "align_content": null,
      "align_items": null,
      "align_self": null,
      "border": null,
      "bottom": null,
      "display": null,
      "flex": null,
      "flex_flow": null,
      "grid_area": null,
      "grid_auto_columns": null,
      "grid_auto_flow": null,
      "grid_auto_rows": null,
      "grid_column": null,
      "grid_gap": null,
      "grid_row": null,
      "grid_template_areas": null,
      "grid_template_columns": null,
      "grid_template_rows": null,
      "height": null,
      "justify_content": null,
      "justify_items": null,
      "left": null,
      "margin": null,
      "max_height": null,
      "max_width": null,
      "min_height": null,
      "min_width": null,
      "object_fit": null,
      "object_position": null,
      "order": null,
      "overflow": null,
      "overflow_x": null,
      "overflow_y": null,
      "padding": null,
      "right": null,
      "top": null,
      "visibility": null,
      "width": null
     }
    },
    "894b24a4c6b14591a12772cb96b63faa": {
     "model_module": "@jupyter-widgets/base",
     "model_module_version": "1.2.0",
     "model_name": "LayoutModel",
     "state": {
      "_model_module": "@jupyter-widgets/base",
      "_model_module_version": "1.2.0",
      "_model_name": "LayoutModel",
      "_view_count": null,
      "_view_module": "@jupyter-widgets/base",
      "_view_module_version": "1.2.0",
      "_view_name": "LayoutView",
      "align_content": null,
      "align_items": null,
      "align_self": null,
      "border": null,
      "bottom": null,
      "display": null,
      "flex": null,
      "flex_flow": null,
      "grid_area": null,
      "grid_auto_columns": null,
      "grid_auto_flow": null,
      "grid_auto_rows": null,
      "grid_column": null,
      "grid_gap": null,
      "grid_row": null,
      "grid_template_areas": null,
      "grid_template_columns": null,
      "grid_template_rows": null,
      "height": null,
      "justify_content": null,
      "justify_items": null,
      "left": null,
      "margin": null,
      "max_height": null,
      "max_width": null,
      "min_height": null,
      "min_width": null,
      "object_fit": null,
      "object_position": null,
      "order": null,
      "overflow": null,
      "overflow_x": null,
      "overflow_y": null,
      "padding": null,
      "right": null,
      "top": null,
      "visibility": "hidden",
      "width": null
     }
    },
    "8c38f5d864114f178e0875c8795e91d8": {
     "model_module": "@jupyter-widgets/base",
     "model_module_version": "1.2.0",
     "model_name": "LayoutModel",
     "state": {
      "_model_module": "@jupyter-widgets/base",
      "_model_module_version": "1.2.0",
      "_model_name": "LayoutModel",
      "_view_count": null,
      "_view_module": "@jupyter-widgets/base",
      "_view_module_version": "1.2.0",
      "_view_name": "LayoutView",
      "align_content": null,
      "align_items": null,
      "align_self": null,
      "border": null,
      "bottom": null,
      "display": null,
      "flex": null,
      "flex_flow": null,
      "grid_area": null,
      "grid_auto_columns": null,
      "grid_auto_flow": null,
      "grid_auto_rows": null,
      "grid_column": null,
      "grid_gap": null,
      "grid_row": null,
      "grid_template_areas": null,
      "grid_template_columns": null,
      "grid_template_rows": null,
      "height": null,
      "justify_content": null,
      "justify_items": null,
      "left": null,
      "margin": null,
      "max_height": null,
      "max_width": null,
      "min_height": null,
      "min_width": null,
      "object_fit": null,
      "object_position": null,
      "order": null,
      "overflow": null,
      "overflow_x": null,
      "overflow_y": null,
      "padding": null,
      "right": null,
      "top": null,
      "visibility": null,
      "width": null
     }
    },
    "9c86ff1aab9f4ee2b20240967a61390f": {
     "model_module": "@jupyter-widgets/base",
     "model_module_version": "1.2.0",
     "model_name": "LayoutModel",
     "state": {
      "_model_module": "@jupyter-widgets/base",
      "_model_module_version": "1.2.0",
      "_model_name": "LayoutModel",
      "_view_count": null,
      "_view_module": "@jupyter-widgets/base",
      "_view_module_version": "1.2.0",
      "_view_name": "LayoutView",
      "align_content": null,
      "align_items": null,
      "align_self": null,
      "border": null,
      "bottom": null,
      "display": null,
      "flex": null,
      "flex_flow": null,
      "grid_area": null,
      "grid_auto_columns": null,
      "grid_auto_flow": null,
      "grid_auto_rows": null,
      "grid_column": null,
      "grid_gap": null,
      "grid_row": null,
      "grid_template_areas": null,
      "grid_template_columns": null,
      "grid_template_rows": null,
      "height": null,
      "justify_content": null,
      "justify_items": null,
      "left": null,
      "margin": null,
      "max_height": null,
      "max_width": null,
      "min_height": null,
      "min_width": null,
      "object_fit": null,
      "object_position": null,
      "order": null,
      "overflow": null,
      "overflow_x": null,
      "overflow_y": null,
      "padding": null,
      "right": null,
      "top": null,
      "visibility": null,
      "width": null
     }
    },
    "a75976d6f7fb4fa9b98b218d02a738da": {
     "model_module": "@jupyter-widgets/controls",
     "model_module_version": "1.5.0",
     "model_name": "DescriptionStyleModel",
     "state": {
      "_model_module": "@jupyter-widgets/controls",
      "_model_module_version": "1.5.0",
      "_model_name": "DescriptionStyleModel",
      "_view_count": null,
      "_view_module": "@jupyter-widgets/base",
      "_view_module_version": "1.2.0",
      "_view_name": "StyleView",
      "description_width": ""
     }
    },
    "aa927d6b5a0f4d05948b1e6e466a788a": {
     "model_module": "@jupyter-widgets/controls",
     "model_module_version": "1.5.0",
     "model_name": "HTMLModel",
     "state": {
      "_dom_classes": [],
      "_model_module": "@jupyter-widgets/controls",
      "_model_module_version": "1.5.0",
      "_model_name": "HTMLModel",
      "_view_count": null,
      "_view_module": "@jupyter-widgets/controls",
      "_view_module_version": "1.5.0",
      "_view_name": "HTMLView",
      "description": "",
      "description_tooltip": null,
      "layout": "IPY_MODEL_7ad7b6bcf54e41b9b963365ff2f0f874",
      "placeholder": "​",
      "style": "IPY_MODEL_0a3544e31ec34b108086b75011a4b20f",
      "value": "Evaluating: 100%"
     }
    },
    "aaf4bf8c0e044d3fb4ff3c38e9ecfc0d": {
     "model_module": "@jupyter-widgets/controls",
     "model_module_version": "1.5.0",
     "model_name": "FloatProgressModel",
     "state": {
      "_dom_classes": [],
      "_model_module": "@jupyter-widgets/controls",
      "_model_module_version": "1.5.0",
      "_model_name": "FloatProgressModel",
      "_view_count": null,
      "_view_module": "@jupyter-widgets/controls",
      "_view_module_version": "1.5.0",
      "_view_name": "ProgressView",
      "bar_style": "",
      "description": "",
      "description_tooltip": null,
      "layout": "IPY_MODEL_d733475b072d4c7894ad6ecd2ebc6029",
      "max": 906,
      "min": 0,
      "orientation": "horizontal",
      "style": "IPY_MODEL_e2444fdd626045a9a323a792512a1bf4",
      "value": 906
     }
    },
    "b62df6984dae4804961b831230d27726": {
     "model_module": "@jupyter-widgets/controls",
     "model_module_version": "1.5.0",
     "model_name": "HBoxModel",
     "state": {
      "_dom_classes": [],
      "_model_module": "@jupyter-widgets/controls",
      "_model_module_version": "1.5.0",
      "_model_name": "HBoxModel",
      "_view_count": null,
      "_view_module": "@jupyter-widgets/controls",
      "_view_module_version": "1.5.0",
      "_view_name": "HBoxView",
      "box_style": "",
      "children": [
       "IPY_MODEL_be8ef0edf66c4998bb75ee2a280fe058",
       "IPY_MODEL_aaf4bf8c0e044d3fb4ff3c38e9ecfc0d",
       "IPY_MODEL_2958881693c94a27b7927af3bcc144f5"
      ],
      "layout": "IPY_MODEL_894b24a4c6b14591a12772cb96b63faa"
     }
    },
    "ba35443cb4c646a59244bd173dec2003": {
     "model_module": "@jupyter-widgets/controls",
     "model_module_version": "1.5.0",
     "model_name": "DescriptionStyleModel",
     "state": {
      "_model_module": "@jupyter-widgets/controls",
      "_model_module_version": "1.5.0",
      "_model_name": "DescriptionStyleModel",
      "_view_count": null,
      "_view_module": "@jupyter-widgets/base",
      "_view_module_version": "1.2.0",
      "_view_name": "StyleView",
      "description_width": ""
     }
    },
    "bac8c40fa6b8497a9d0bf265e4f07be9": {
     "model_module": "@jupyter-widgets/base",
     "model_module_version": "1.2.0",
     "model_name": "LayoutModel",
     "state": {
      "_model_module": "@jupyter-widgets/base",
      "_model_module_version": "1.2.0",
      "_model_name": "LayoutModel",
      "_view_count": null,
      "_view_module": "@jupyter-widgets/base",
      "_view_module_version": "1.2.0",
      "_view_name": "LayoutView",
      "align_content": null,
      "align_items": null,
      "align_self": null,
      "border": null,
      "bottom": null,
      "display": null,
      "flex": null,
      "flex_flow": null,
      "grid_area": null,
      "grid_auto_columns": null,
      "grid_auto_flow": null,
      "grid_auto_rows": null,
      "grid_column": null,
      "grid_gap": null,
      "grid_row": null,
      "grid_template_areas": null,
      "grid_template_columns": null,
      "grid_template_rows": null,
      "height": null,
      "justify_content": null,
      "justify_items": null,
      "left": null,
      "margin": null,
      "max_height": null,
      "max_width": null,
      "min_height": null,
      "min_width": null,
      "object_fit": null,
      "object_position": null,
      "order": null,
      "overflow": null,
      "overflow_x": null,
      "overflow_y": null,
      "padding": null,
      "right": null,
      "top": null,
      "visibility": null,
      "width": null
     }
    },
    "bd056017567d4299bae2b2cfd51ef933": {
     "model_module": "@jupyter-widgets/controls",
     "model_module_version": "1.5.0",
     "model_name": "HTMLModel",
     "state": {
      "_dom_classes": [],
      "_model_module": "@jupyter-widgets/controls",
      "_model_module_version": "1.5.0",
      "_model_name": "HTMLModel",
      "_view_count": null,
      "_view_module": "@jupyter-widgets/controls",
      "_view_module_version": "1.5.0",
      "_view_name": "HTMLView",
      "description": "",
      "description_tooltip": null,
      "layout": "IPY_MODEL_dcd2fde7910841ed86bd8a808fdffd0f",
      "placeholder": "​",
      "style": "IPY_MODEL_3a67dd29b0834433ba8d09a74e8260dd",
      "value": " 10/10 [00:21&lt;00:00,  2.01s/ examples]"
     }
    },
    "be78e520f0e44c55963d01864c0b060c": {
     "model_module": "@jupyter-widgets/base",
     "model_module_version": "1.2.0",
     "model_name": "LayoutModel",
     "state": {
      "_model_module": "@jupyter-widgets/base",
      "_model_module_version": "1.2.0",
      "_model_name": "LayoutModel",
      "_view_count": null,
      "_view_module": "@jupyter-widgets/base",
      "_view_module_version": "1.2.0",
      "_view_name": "LayoutView",
      "align_content": null,
      "align_items": null,
      "align_self": null,
      "border": null,
      "bottom": null,
      "display": null,
      "flex": null,
      "flex_flow": null,
      "grid_area": null,
      "grid_auto_columns": null,
      "grid_auto_flow": null,
      "grid_auto_rows": null,
      "grid_column": null,
      "grid_gap": null,
      "grid_row": null,
      "grid_template_areas": null,
      "grid_template_columns": null,
      "grid_template_rows": null,
      "height": null,
      "justify_content": null,
      "justify_items": null,
      "left": null,
      "margin": null,
      "max_height": null,
      "max_width": null,
      "min_height": null,
      "min_width": null,
      "object_fit": null,
      "object_position": null,
      "order": null,
      "overflow": null,
      "overflow_x": null,
      "overflow_y": null,
      "padding": null,
      "right": null,
      "top": null,
      "visibility": null,
      "width": null
     }
    },
    "be8ef0edf66c4998bb75ee2a280fe058": {
     "model_module": "@jupyter-widgets/controls",
     "model_module_version": "1.5.0",
     "model_name": "HTMLModel",
     "state": {
      "_dom_classes": [],
      "_model_module": "@jupyter-widgets/controls",
      "_model_module_version": "1.5.0",
      "_model_name": "HTMLModel",
      "_view_count": null,
      "_view_module": "@jupyter-widgets/controls",
      "_view_module_version": "1.5.0",
      "_view_name": "HTMLView",
      "description": "",
      "description_tooltip": null,
      "layout": "IPY_MODEL_8c38f5d864114f178e0875c8795e91d8",
      "placeholder": "​",
      "style": "IPY_MODEL_a75976d6f7fb4fa9b98b218d02a738da",
      "value": "embedding nodes: 100%"
     }
    },
    "c75584e5bedb48788362b0b051fb65c5": {
     "model_module": "@jupyter-widgets/base",
     "model_module_version": "1.2.0",
     "model_name": "LayoutModel",
     "state": {
      "_model_module": "@jupyter-widgets/base",
      "_model_module_version": "1.2.0",
      "_model_name": "LayoutModel",
      "_view_count": null,
      "_view_module": "@jupyter-widgets/base",
      "_view_module_version": "1.2.0",
      "_view_name": "LayoutView",
      "align_content": null,
      "align_items": null,
      "align_self": null,
      "border": null,
      "bottom": null,
      "display": null,
      "flex": null,
      "flex_flow": null,
      "grid_area": null,
      "grid_auto_columns": null,
      "grid_auto_flow": null,
      "grid_auto_rows": null,
      "grid_column": null,
      "grid_gap": null,
      "grid_row": null,
      "grid_template_areas": null,
      "grid_template_columns": null,
      "grid_template_rows": null,
      "height": null,
      "justify_content": null,
      "justify_items": null,
      "left": null,
      "margin": null,
      "max_height": null,
      "max_width": null,
      "min_height": null,
      "min_width": null,
      "object_fit": null,
      "object_position": null,
      "order": null,
      "overflow": null,
      "overflow_x": null,
      "overflow_y": null,
      "padding": null,
      "right": null,
      "top": null,
      "visibility": null,
      "width": null
     }
    },
    "cd8c076c31af4dab9b9102e7931d8e72": {
     "model_module": "@jupyter-widgets/controls",
     "model_module_version": "1.5.0",
     "model_name": "ProgressStyleModel",
     "state": {
      "_model_module": "@jupyter-widgets/controls",
      "_model_module_version": "1.5.0",
      "_model_name": "ProgressStyleModel",
      "_view_count": null,
      "_view_module": "@jupyter-widgets/base",
      "_view_module_version": "1.2.0",
      "_view_name": "StyleView",
      "bar_color": null,
      "description_width": ""
     }
    },
    "ce0521c6353c4cc9b9c9f716cd4678c2": {
     "model_module": "@jupyter-widgets/controls",
     "model_module_version": "1.5.0",
     "model_name": "HTMLModel",
     "state": {
      "_dom_classes": [],
      "_model_module": "@jupyter-widgets/controls",
      "_model_module_version": "1.5.0",
      "_model_name": "HTMLModel",
      "_view_count": null,
      "_view_module": "@jupyter-widgets/controls",
      "_view_module_version": "1.5.0",
      "_view_name": "HTMLView",
      "description": "",
      "description_tooltip": null,
      "layout": "IPY_MODEL_3deab8857924429c97cba7ce298dd894",
      "placeholder": "​",
      "style": "IPY_MODEL_2b1c5df7efc342188115c7e4eb80b8f3",
      "value": "Evaluating: 100%"
     }
    },
    "d58b5e71c71a435f8c162fd2415327c2": {
     "model_module": "@jupyter-widgets/controls",
     "model_module_version": "1.5.0",
     "model_name": "DescriptionStyleModel",
     "state": {
      "_model_module": "@jupyter-widgets/controls",
      "_model_module_version": "1.5.0",
      "_model_name": "DescriptionStyleModel",
      "_view_count": null,
      "_view_module": "@jupyter-widgets/base",
      "_view_module_version": "1.2.0",
      "_view_name": "StyleView",
      "description_width": ""
     }
    },
    "d733475b072d4c7894ad6ecd2ebc6029": {
     "model_module": "@jupyter-widgets/base",
     "model_module_version": "1.2.0",
     "model_name": "LayoutModel",
     "state": {
      "_model_module": "@jupyter-widgets/base",
      "_model_module_version": "1.2.0",
      "_model_name": "LayoutModel",
      "_view_count": null,
      "_view_module": "@jupyter-widgets/base",
      "_view_module_version": "1.2.0",
      "_view_name": "LayoutView",
      "align_content": null,
      "align_items": null,
      "align_self": null,
      "border": null,
      "bottom": null,
      "display": null,
      "flex": null,
      "flex_flow": null,
      "grid_area": null,
      "grid_auto_columns": null,
      "grid_auto_flow": null,
      "grid_auto_rows": null,
      "grid_column": null,
      "grid_gap": null,
      "grid_row": null,
      "grid_template_areas": null,
      "grid_template_columns": null,
      "grid_template_rows": null,
      "height": null,
      "justify_content": null,
      "justify_items": null,
      "left": null,
      "margin": null,
      "max_height": null,
      "max_width": null,
      "min_height": null,
      "min_width": null,
      "object_fit": null,
      "object_position": null,
      "order": null,
      "overflow": null,
      "overflow_x": null,
      "overflow_y": null,
      "padding": null,
      "right": null,
      "top": null,
      "visibility": null,
      "width": null
     }
    },
    "d7f39e0e03c64520916b54105d3015cb": {
     "model_module": "@jupyter-widgets/base",
     "model_module_version": "1.2.0",
     "model_name": "LayoutModel",
     "state": {
      "_model_module": "@jupyter-widgets/base",
      "_model_module_version": "1.2.0",
      "_model_name": "LayoutModel",
      "_view_count": null,
      "_view_module": "@jupyter-widgets/base",
      "_view_module_version": "1.2.0",
      "_view_name": "LayoutView",
      "align_content": null,
      "align_items": null,
      "align_self": null,
      "border": null,
      "bottom": null,
      "display": null,
      "flex": null,
      "flex_flow": null,
      "grid_area": null,
      "grid_auto_columns": null,
      "grid_auto_flow": null,
      "grid_auto_rows": null,
      "grid_column": null,
      "grid_gap": null,
      "grid_row": null,
      "grid_template_areas": null,
      "grid_template_columns": null,
      "grid_template_rows": null,
      "height": null,
      "justify_content": null,
      "justify_items": null,
      "left": null,
      "margin": null,
      "max_height": null,
      "max_width": null,
      "min_height": null,
      "min_width": null,
      "object_fit": null,
      "object_position": null,
      "order": null,
      "overflow": null,
      "overflow_x": null,
      "overflow_y": null,
      "padding": null,
      "right": null,
      "top": null,
      "visibility": null,
      "width": null
     }
    },
    "d7f68735fb2543f5ba8481f5dc8e48b0": {
     "model_module": "@jupyter-widgets/controls",
     "model_module_version": "1.5.0",
     "model_name": "FloatProgressModel",
     "state": {
      "_dom_classes": [],
      "_model_module": "@jupyter-widgets/controls",
      "_model_module_version": "1.5.0",
      "_model_name": "FloatProgressModel",
      "_view_count": null,
      "_view_module": "@jupyter-widgets/controls",
      "_view_module_version": "1.5.0",
      "_view_name": "ProgressView",
      "bar_style": "success",
      "description": "",
      "description_tooltip": null,
      "layout": "IPY_MODEL_be78e520f0e44c55963d01864c0b060c",
      "max": 10,
      "min": 0,
      "orientation": "horizontal",
      "style": "IPY_MODEL_55447c0281894d14a62988c35035be8c",
      "value": 10
     }
    },
    "daca9ef8d18d467c9385372db3976fc5": {
     "model_module": "@jupyter-widgets/base",
     "model_module_version": "1.2.0",
     "model_name": "LayoutModel",
     "state": {
      "_model_module": "@jupyter-widgets/base",
      "_model_module_version": "1.2.0",
      "_model_name": "LayoutModel",
      "_view_count": null,
      "_view_module": "@jupyter-widgets/base",
      "_view_module_version": "1.2.0",
      "_view_name": "LayoutView",
      "align_content": null,
      "align_items": null,
      "align_self": null,
      "border": null,
      "bottom": null,
      "display": null,
      "flex": null,
      "flex_flow": null,
      "grid_area": null,
      "grid_auto_columns": null,
      "grid_auto_flow": null,
      "grid_auto_rows": null,
      "grid_column": null,
      "grid_gap": null,
      "grid_row": null,
      "grid_template_areas": null,
      "grid_template_columns": null,
      "grid_template_rows": null,
      "height": null,
      "justify_content": null,
      "justify_items": null,
      "left": null,
      "margin": null,
      "max_height": null,
      "max_width": null,
      "min_height": null,
      "min_width": null,
      "object_fit": null,
      "object_position": null,
      "order": null,
      "overflow": null,
      "overflow_x": null,
      "overflow_y": null,
      "padding": null,
      "right": null,
      "top": null,
      "visibility": null,
      "width": null
     }
    },
    "dcd2fde7910841ed86bd8a808fdffd0f": {
     "model_module": "@jupyter-widgets/base",
     "model_module_version": "1.2.0",
     "model_name": "LayoutModel",
     "state": {
      "_model_module": "@jupyter-widgets/base",
      "_model_module_version": "1.2.0",
      "_model_name": "LayoutModel",
      "_view_count": null,
      "_view_module": "@jupyter-widgets/base",
      "_view_module_version": "1.2.0",
      "_view_name": "LayoutView",
      "align_content": null,
      "align_items": null,
      "align_self": null,
      "border": null,
      "bottom": null,
      "display": null,
      "flex": null,
      "flex_flow": null,
      "grid_area": null,
      "grid_auto_columns": null,
      "grid_auto_flow": null,
      "grid_auto_rows": null,
      "grid_column": null,
      "grid_gap": null,
      "grid_row": null,
      "grid_template_areas": null,
      "grid_template_columns": null,
      "grid_template_rows": null,
      "height": null,
      "justify_content": null,
      "justify_items": null,
      "left": null,
      "margin": null,
      "max_height": null,
      "max_width": null,
      "min_height": null,
      "min_width": null,
      "object_fit": null,
      "object_position": null,
      "order": null,
      "overflow": null,
      "overflow_x": null,
      "overflow_y": null,
      "padding": null,
      "right": null,
      "top": null,
      "visibility": null,
      "width": null
     }
    },
    "e2444fdd626045a9a323a792512a1bf4": {
     "model_module": "@jupyter-widgets/controls",
     "model_module_version": "1.5.0",
     "model_name": "ProgressStyleModel",
     "state": {
      "_model_module": "@jupyter-widgets/controls",
      "_model_module_version": "1.5.0",
      "_model_name": "ProgressStyleModel",
      "_view_count": null,
      "_view_module": "@jupyter-widgets/base",
      "_view_module_version": "1.2.0",
      "_view_name": "StyleView",
      "bar_color": null,
      "description_width": ""
     }
    },
    "e515bcc89c7042318aa3880f2988fc66": {
     "model_module": "@jupyter-widgets/base",
     "model_module_version": "1.2.0",
     "model_name": "LayoutModel",
     "state": {
      "_model_module": "@jupyter-widgets/base",
      "_model_module_version": "1.2.0",
      "_model_name": "LayoutModel",
      "_view_count": null,
      "_view_module": "@jupyter-widgets/base",
      "_view_module_version": "1.2.0",
      "_view_name": "LayoutView",
      "align_content": null,
      "align_items": null,
      "align_self": null,
      "border": null,
      "bottom": null,
      "display": null,
      "flex": null,
      "flex_flow": null,
      "grid_area": null,
      "grid_auto_columns": null,
      "grid_auto_flow": null,
      "grid_auto_rows": null,
      "grid_column": null,
      "grid_gap": null,
      "grid_row": null,
      "grid_template_areas": null,
      "grid_template_columns": null,
      "grid_template_rows": null,
      "height": null,
      "justify_content": null,
      "justify_items": null,
      "left": null,
      "margin": null,
      "max_height": null,
      "max_width": null,
      "min_height": null,
      "min_width": null,
      "object_fit": null,
      "object_position": null,
      "order": null,
      "overflow": null,
      "overflow_x": null,
      "overflow_y": null,
      "padding": null,
      "right": null,
      "top": null,
      "visibility": null,
      "width": null
     }
    },
    "e59eea658b0b4cbf9c72de3506ad654f": {
     "model_module": "@jupyter-widgets/controls",
     "model_module_version": "1.5.0",
     "model_name": "HBoxModel",
     "state": {
      "_dom_classes": [],
      "_model_module": "@jupyter-widgets/controls",
      "_model_module_version": "1.5.0",
      "_model_name": "HBoxModel",
      "_view_count": null,
      "_view_module": "@jupyter-widgets/controls",
      "_view_module_version": "1.5.0",
      "_view_name": "HBoxView",
      "box_style": "",
      "children": [
       "IPY_MODEL_aa927d6b5a0f4d05948b1e6e466a788a",
       "IPY_MODEL_1525f11197a543d68cdf8b03ef69d01d",
       "IPY_MODEL_10d97d3434b247ec90c91183e9011695"
      ],
      "layout": "IPY_MODEL_65a42bc7aa0c400b8e13e4b19f1ce2fc"
     }
    },
    "e81fe3e1c7b7481fbaff4d5ea49d95fa": {
     "model_module": "@jupyter-widgets/base",
     "model_module_version": "1.2.0",
     "model_name": "LayoutModel",
     "state": {
      "_model_module": "@jupyter-widgets/base",
      "_model_module_version": "1.2.0",
      "_model_name": "LayoutModel",
      "_view_count": null,
      "_view_module": "@jupyter-widgets/base",
      "_view_module_version": "1.2.0",
      "_view_name": "LayoutView",
      "align_content": null,
      "align_items": null,
      "align_self": null,
      "border": null,
      "bottom": null,
      "display": null,
      "flex": null,
      "flex_flow": null,
      "grid_area": null,
      "grid_auto_columns": null,
      "grid_auto_flow": null,
      "grid_auto_rows": null,
      "grid_column": null,
      "grid_gap": null,
      "grid_row": null,
      "grid_template_areas": null,
      "grid_template_columns": null,
      "grid_template_rows": null,
      "height": null,
      "justify_content": null,
      "justify_items": null,
      "left": null,
      "margin": null,
      "max_height": null,
      "max_width": null,
      "min_height": null,
      "min_width": null,
      "object_fit": null,
      "object_position": null,
      "order": null,
      "overflow": null,
      "overflow_x": null,
      "overflow_y": null,
      "padding": null,
      "right": null,
      "top": null,
      "visibility": null,
      "width": null
     }
    },
    "e953963c139c4cebb1b81e18a5d51d71": {
     "model_module": "@jupyter-widgets/controls",
     "model_module_version": "1.5.0",
     "model_name": "HBoxModel",
     "state": {
      "_dom_classes": [],
      "_model_module": "@jupyter-widgets/controls",
      "_model_module_version": "1.5.0",
      "_model_name": "HBoxModel",
      "_view_count": null,
      "_view_module": "@jupyter-widgets/controls",
      "_view_module_version": "1.5.0",
      "_view_name": "HBoxView",
      "box_style": "",
      "children": [
       "IPY_MODEL_56108ddc649541afa9317606df743043",
       "IPY_MODEL_d7f68735fb2543f5ba8481f5dc8e48b0",
       "IPY_MODEL_f9bb615eb360473d9859ca45ebc50f9f"
      ],
      "layout": "IPY_MODEL_d7f39e0e03c64520916b54105d3015cb"
     }
    },
    "eb82156cdf564ef1a5e94ff3fba5fd38": {
     "model_module": "@jupyter-widgets/controls",
     "model_module_version": "1.5.0",
     "model_name": "FloatProgressModel",
     "state": {
      "_dom_classes": [],
      "_model_module": "@jupyter-widgets/controls",
      "_model_module_version": "1.5.0",
      "_model_name": "FloatProgressModel",
      "_view_count": null,
      "_view_module": "@jupyter-widgets/controls",
      "_view_module_version": "1.5.0",
      "_view_name": "ProgressView",
      "bar_style": "success",
      "description": "",
      "description_tooltip": null,
      "layout": "IPY_MODEL_12f4e8b2b5e540f0b9a9f04fa87128da",
      "max": 10,
      "min": 0,
      "orientation": "horizontal",
      "style": "IPY_MODEL_3fa021834120431d9aff9d0e4db0520f",
      "value": 10
     }
    },
    "f9bb615eb360473d9859ca45ebc50f9f": {
     "model_module": "@jupyter-widgets/controls",
     "model_module_version": "1.5.0",
     "model_name": "HTMLModel",
     "state": {
      "_dom_classes": [],
      "_model_module": "@jupyter-widgets/controls",
      "_model_module_version": "1.5.0",
      "_model_name": "HTMLModel",
      "_view_count": null,
      "_view_module": "@jupyter-widgets/controls",
      "_view_module_version": "1.5.0",
      "_view_name": "HTMLView",
      "description": "",
      "description_tooltip": null,
      "layout": "IPY_MODEL_48bf2662ca5c44ab9d5701cf3d50b9f7",
      "placeholder": "​",
      "style": "IPY_MODEL_2516efe6c2ba47ef8abfb5a85a802f29",
      "value": " 10/10 [00:34&lt;00:00,  4.65s/it]"
     }
    },
    "ff412fba3e4d4c69b2b8199440de0ebc": {
     "model_module": "@jupyter-widgets/controls",
     "model_module_version": "1.5.0",
     "model_name": "DescriptionStyleModel",
     "state": {
      "_model_module": "@jupyter-widgets/controls",
      "_model_module_version": "1.5.0",
      "_model_name": "DescriptionStyleModel",
      "_view_count": null,
      "_view_module": "@jupyter-widgets/base",
      "_view_module_version": "1.2.0",
      "_view_name": "StyleView",
      "description_width": ""
     }
    }
   }
  }
 },
 "nbformat": 4,
 "nbformat_minor": 5
}
